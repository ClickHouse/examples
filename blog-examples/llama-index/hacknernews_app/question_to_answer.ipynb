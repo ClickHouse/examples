{
 "cells": [
  {
   "cell_type": "code",
   "execution_count": null,
   "id": "initial_id",
   "metadata": {
    "collapsed": true
   },
   "outputs": [],
   "source": [
    "# import dependencies\n",
    "\n",
    "import logging\n",
    "import sys\n",
    "import clickhouse_connect\n",
    "import openai\n",
    "from llama_index.core import SQLDatabase, PromptTemplate\n",
    "from llama_index.core.indices.struct_store import NLSQLTableQueryEngine\n",
    "from llama_index.core.prompts import PromptType\n",
    "from llama_index.core.tools import QueryEngineTool\n",
    "from sqlalchemy import create_engine\n",
    "from llama_index.core import Settings, VectorStoreIndex\n",
    "from llama_index.core.indices.vector_store import VectorIndexAutoRetriever\n",
    "from llama_index.core.query_engine import RetrieverQueryEngine, SQLAutoVectorQueryEngine\n",
    "from llama_index.core.vector_stores.types import VectorStoreInfo, MetadataInfo\n",
    "from llama_index.embeddings.fastembed import FastEmbedEmbedding\n",
    "from llama_index.vector_stores.clickhouse import ClickHouseVectorStore\n",
    "from llama_index.core.indices.vector_store.retrievers.auto_retriever.prompts import PREFIX, EXAMPLES\n",
    "from llama_index.llms.openai import OpenAI\n",
    "\n",
    "logging.basicConfig(stream=sys.stdout, level=logging.INFO)\n",
    "logging.getLogger().addHandler(logging.StreamHandler(stream=sys.stdout))"
   ]
  },
  {
   "cell_type": "code",
   "execution_count": null,
   "outputs": [],
   "source": [
    "# set these according to your ClickHouse instance\n",
    "username = \"default\"\n",
    "password = \"\"\n",
    "host = \"localhost\"\n",
    "secure = False\n",
    "database = \"default\"\n",
    "native_port = 9000\n",
    "http_port = 8123\n",
    "# see https://platform.openai.com/account/api-keys for API key\n",
    "openai.api_key = \"<INSERT KEY>\""
   ],
   "metadata": {
    "collapsed": false
   },
   "id": "da92b3d26c63c60f"
  },
  {
   "cell_type": "code",
   "execution_count": null,
   "outputs": [],
   "source": [
    "# define prompts\n",
    "CLICKHOUSE_TEXT_TO_SQL_TMPL = (\n",
    "    \"Given an input question, first create a syntactically correct ClickHouse SQL \"\n",
    "    \"query to run, then look at the results of the query and return the answer. \"\n",
    "    \"You can order the results by a relevant column to return the most \"\n",
    "    \"interesting examples in the database.\\n\\n\"\n",
    "    \"Never query for all the columns from a specific table, only ask for a \"\n",
    "    \"few relevant columns given the question.\\n\\n\"\n",
    "    \"Pay attention to use only the column names that you can see in the schema \"\n",
    "    \"description. \"\n",
    "    \"Be careful to not query for columns that do not exist. \"\n",
    "    \"Pay attention to which column is in which table. \"\n",
    "    \"Also, qualify column names with the table name when needed. \\n\"\n",
    "    \"If needing to group on Array Columns use the ClickHouse function arrayJoin e.g. arrayJoin(columnName) \\n\"\n",
    "    \"For example, the following query identifies the most popular database:\\n\"\n",
    "    \"SELECT d, count(*) AS count FROM so_surveys GROUP BY \"\n",
    "    \"arrayJoin(database_want_to_work_with) AS d ORDER BY count DESC LIMIT 1\\n \"\n",
    "    \"Ensure if aggregating with `arrayJoin` you use an alias e.g. arrayJoin(database_want_to_work_with) AS d\\n\"\n",
    "    \"You are required to use the following format, each taking one line:\\n\\n\"\n",
    "    \"Question: Question here\\n\"\n",
    "    \"SQLQuery: SQL Query to run\\n\"\n",
    "    \"SQLResult: Result of the SQLQuery\\n\"\n",
    "    \"Answer: Final answer here\\n\\n\"\n",
    "    \"Only use tables listed below.\\n\"\n",
    "    \"{schema}\\n\\n\"\n",
    "    \"Question: {query_str}\\n\"\n",
    "    \"SQLQuery: \"\n",
    ")\n",
    "\n",
    "CLICKHOUSE_TEXT_TO_SQL_PROMPT = PromptTemplate(\n",
    "    CLICKHOUSE_TEXT_TO_SQL_TMPL,\n",
    "    prompt_type=PromptType.TEXT_TO_SQL,\n",
    ")"
   ],
   "metadata": {
    "collapsed": false
   },
   "id": "b01ff7e920c6ee92"
  },
  {
   "cell_type": "code",
   "execution_count": null,
   "outputs": [],
   "source": [
    "# create NL to SQL engine\n",
    "engine = create_engine(\n",
    "    f'clickhouse+native://{username}:{password}@{host}:' +\n",
    "    f'{native_port}/{database}?compression=lz4&secure={secure}'\n",
    ")\n",
    "sql_database = SQLDatabase(engine, include_tables=[\"surveys\"], view_support=True)\n",
    "\n",
    "nl_sql_engine = NLSQLTableQueryEngine(\n",
    "    sql_database=sql_database,\n",
    "    tables=[\"surveys\"],\n",
    "    text_to_sql_prompt=CLICKHOUSE_TEXT_TO_SQL_PROMPT,\n",
    "    llm=OpenAI(model=\"gpt-4\"),\n",
    "    verbose=True\n",
    ")"
   ],
   "metadata": {
    "collapsed": false
   },
   "id": "423d5d0d09640fab"
  },
  {
   "cell_type": "code",
   "execution_count": null,
   "outputs": [],
   "source": [
    "# Define vector store with custom prompt\n",
    "CLICKHOUSE_CUSTOM_SUFFIX = \"\"\"\n",
    "The following is the datasource schema to work with. \n",
    "IMPORTANT: Make sure that filters are only used as needed and only suggest filters for fields in the data source.\n",
    "\n",
    "Data Source:\n",
    "```json\n",
    "{info_str}\n",
    "```\n",
    "\n",
    "User Query:\n",
    "{query_str}\n",
    "\n",
    "Structured Request:\n",
    "\"\"\"\n",
    "\n",
    "CLICKHOUSE_VECTOR_STORE_QUERY_PROMPT_TMPL = PREFIX + EXAMPLES + CLICKHOUSE_CUSTOM_SUFFIX\n",
    "Settings.embed_model = FastEmbedEmbedding(\n",
    "    model_name=\"sentence-transformers/all-MiniLM-L6-v2\",\n",
    "    max_length=384,\n",
    "    cache_dir=\"./embeddings/\"\n",
    ")\n",
    "client = clickhouse_connect.get_client(\n",
    "    host=host, port=http_port, username=username, password=password,\n",
    ")\n",
    "vector_store = ClickHouseVectorStore(clickhouse_client=client, table=\"hackernews\")\n",
    "vector_index = VectorStoreIndex.from_vector_store(vector_store)\n",
    "vector_store_info = VectorStoreInfo(\n",
    "    content_info=\"Social news posts and comments from users\",\n",
    "    metadata_info=[\n",
    "        MetadataInfo(\n",
    "            name=\"post_score\", type=\"int\", description=\"Score of the comment or post\",\n",
    "        ),\n",
    "        MetadataInfo(\n",
    "            name=\"by\", type=\"str\", description=\"the author or person who posted the comment\",\n",
    "        ),\n",
    "        MetadataInfo(\n",
    "            name=\"time\", type=\"date\", description=\"the time at which the post or comment was made\",\n",
    "        ),\n",
    "    ]\n",
    ")\n",
    "\n",
    "# A retriever for vector store index that uses an LLM to automatically set vector store query parameters.\n",
    "vector_auto_retriever = VectorIndexAutoRetriever(\n",
    "    vector_index, vector_store_info=vector_store_info, similarity_top_k=10,\n",
    "    prompt_template_str=CLICKHOUSE_VECTOR_STORE_QUERY_PROMPT_TMPL, llm=OpenAI(model=\"gpt-4\"),\n",
    "    vector_store_kwargs={\"where\": f\"length >= 20\"}\n",
    ")"
   ],
   "metadata": {
    "collapsed": false
   },
   "id": "2c8eaa93bb9a9961"
  },
  {
   "cell_type": "code",
   "execution_count": null,
   "outputs": [],
   "source": [
    "# create SQLAutoVectorQueryEngine which combines our vector search and NL->SQL engines\n",
    "retriever_query_engine = RetrieverQueryEngine.from_args(vector_auto_retriever, llm=OpenAI(model=\"gpt-4\"))\n",
    "# descriptions ensure SQLAutoVectorQueryEngine knows which to use when\n",
    "sql_tool = QueryEngineTool.from_defaults(\n",
    "    query_engine=nl_sql_engine,\n",
    "    description=(\n",
    "        \"Useful for translating a natural language query into a SQL query over\"\n",
    "        f\" a table: surveys, containing the survey responses on\"\n",
    "        f\" different types of technology users currently use and want to use\"\n",
    "    ),\n",
    ")\n",
    "vector_tool = QueryEngineTool.from_defaults(\n",
    "    query_engine=retriever_query_engine,\n",
    "    description=(\n",
    "        f\"Useful for answering semantic questions abouts users comments and posts\"\n",
    "    ),\n",
    ")\n",
    "\n",
    "sql_auto_vector_engine = SQLAutoVectorQueryEngine(\n",
    "    sql_tool, vector_tool, llm=OpenAI(model=\"gpt-4\")\n",
    ")"
   ],
   "metadata": {
    "collapsed": false
   },
   "id": "4d39344c33f30a2b"
  },
  {
   "cell_type": "code",
   "execution_count": null,
   "outputs": [],
   "source": [
    "response = sql_auto_vector_engine.query(\n",
    "    \"What are people's opinions on the web technology that people at companies with \"\n",
    "    \"less than 100 employees want to work with?\")\n",
    "\n",
    "print(str(response))"
   ],
   "metadata": {
    "collapsed": false
   },
   "id": "9aea0cabc37d2b6b"
  }
 ],
 "metadata": {
  "kernelspec": {
   "display_name": "Python 3",
   "language": "python",
   "name": "python3"
  },
  "language_info": {
   "codemirror_mode": {
    "name": "ipython",
    "version": 2
   },
   "file_extension": ".py",
   "mimetype": "text/x-python",
   "name": "python",
   "nbconvert_exporter": "python",
   "pygments_lexer": "ipython2",
   "version": "2.7.6"
  }
 },
 "nbformat": 4,
 "nbformat_minor": 5
}

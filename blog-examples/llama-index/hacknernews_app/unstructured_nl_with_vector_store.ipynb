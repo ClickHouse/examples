{
 "cells": [
  {
   "cell_type": "code",
   "execution_count": null,
   "id": "initial_id",
   "metadata": {
    "collapsed": true
   },
   "outputs": [],
   "source": [
    "# import dependencies\n",
    "import logging\n",
    "import sys\n",
    "import clickhouse_connect\n",
    "import openai\n",
    "from llama_index.core import Settings, VectorStoreIndex\n",
    "from llama_index.core.indices.vector_store import VectorIndexAutoRetriever\n",
    "from llama_index.core.query_engine import RetrieverQueryEngine\n",
    "from llama_index.core.vector_stores.types import VectorStoreInfo, MetadataInfo\n",
    "from llama_index.embeddings.fastembed import FastEmbedEmbedding\n",
    "from llama_index.vector_stores.clickhouse import ClickHouseVectorStore\n",
    "from llama_index.core.indices.vector_store.retrievers.auto_retriever.prompts import PREFIX, EXAMPLES\n",
    "from llama_index.llms.openai import OpenAI\n",
    "\n",
    "logging.basicConfig(stream=sys.stdout, level=logging.INFO)\n",
    "logging.getLogger().addHandler(logging.StreamHandler(stream=sys.stdout))"
   ]
  },
  {
   "cell_type": "code",
   "execution_count": null,
   "outputs": [],
   "source": [
    "# set these according to your ClickHouse instance\n",
    "username = \"default\"\n",
    "password = \"\"\n",
    "host = \"localhost\"\n",
    "secure = False\n",
    "database = \"default\"\n",
    "http_port = 8123\n",
    "# see https://platform.openai.com/account/api-keys for API key\n",
    "openai.api_key = \"<INSERT KEY>\""
   ],
   "metadata": {
    "collapsed": false
   },
   "id": "360d8f5e69210b82"
  },
  {
   "cell_type": "code",
   "execution_count": null,
   "outputs": [],
   "source": [
    "# custom prompt and specify embedding model to use\n",
    "CLICKHOUSE_CUSTOM_SUFFIX = \"\"\"\n",
    "The following is the datasource schema to work with. \n",
    "IMPORTANT: Make sure that filters are only used as needed and only suggest filters for fields in the data source.\n",
    "\n",
    "Data Source:\n",
    "```json\n",
    "{info_str}\n",
    "```\n",
    "\n",
    "User Query:\n",
    "{query_str}\n",
    "\n",
    "Structured Request:\n",
    "\"\"\"\n",
    "\n",
    "CLICKHOUSE_VECTOR_STORE_QUERY_PROMPT_TMPL = PREFIX + EXAMPLES + CLICKHOUSE_CUSTOM_SUFFIX\n",
    "\n",
    "Settings.embed_model = FastEmbedEmbedding(\n",
    "        model_name=\"sentence-transformers/all-MiniLM-L6-v2\",\n",
    "        max_length=384,\n",
    "        cache_dir=\"./embeddings/\"\n",
    ")"
   ],
   "metadata": {
    "collapsed": false
   },
   "id": "c9c862b453dcf4c6"
  },
  {
   "cell_type": "code",
   "execution_count": null,
   "outputs": [],
   "source": [
    "# Define clickhouse client and vector store with custom prompt\n",
    "client = clickhouse_connect.get_client(\n",
    "    host=host, port=http_port, username=username, password=password, secure=secure,\n",
    ")\n",
    "vector_store = ClickHouseVectorStore(clickhouse_client=client, table=\"hackernews\")\n",
    "vector_index = VectorStoreIndex.from_vector_store(vector_store)\n",
    "vector_store_info = VectorStoreInfo(\n",
    "        content_info=\"Social news posts and comments from users\",\n",
    "        metadata_info=[\n",
    "            MetadataInfo(\n",
    "                name=\"post_score\", type=\"int\", description=\"Score of the comment or post\",\n",
    "            ),\n",
    "            MetadataInfo(\n",
    "                name=\"by\", type=\"str\", description=\"the author or person who posted the comment\",\n",
    "            ),\n",
    "            MetadataInfo(\n",
    "                name=\"time\", type=\"date\", description=\"the time at which the post or comment was made\",\n",
    "            ),\n",
    "        ]\n",
    "    )\n",
    "\n",
    "# A retriever for vector store index that uses an LLM to automatically set vector store query parameters.\n",
    "vector_auto_retriever = VectorIndexAutoRetriever(\n",
    "    vector_index, vector_store_info=vector_store_info, similarity_top_k=10,\n",
    "    prompt_template_str=CLICKHOUSE_VECTOR_STORE_QUERY_PROMPT_TMPL, llm=OpenAI(model=\"gpt-4\"),\n",
    ")\n",
    "\n",
    "retriever_query_engine = RetrieverQueryEngine.from_args(vector_auto_retriever, llm=OpenAI(model=\"gpt-4\"))"
   ],
   "metadata": {
    "collapsed": false
   },
   "id": "c395cc643cdc8b06"
  },
  {
   "cell_type": "code",
   "execution_count": null,
   "outputs": [],
   "source": [
    "response = retriever_query_engine.query(\"What is the user zX41ZdbW saying about ClickHouse?\")\n",
    "\n",
    "print(f\"Answer: {str(response)}\")"
   ],
   "metadata": {
    "collapsed": false
   },
   "id": "16739972baf0f582"
  }
 ],
 "metadata": {
  "kernelspec": {
   "display_name": "Python 3",
   "language": "python",
   "name": "python3"
  },
  "language_info": {
   "codemirror_mode": {
    "name": "ipython",
    "version": 2
   },
   "file_extension": ".py",
   "mimetype": "text/x-python",
   "name": "python",
   "nbconvert_exporter": "python",
   "pygments_lexer": "ipython2",
   "version": "2.7.6"
  }
 },
 "nbformat": 4,
 "nbformat_minor": 5
}

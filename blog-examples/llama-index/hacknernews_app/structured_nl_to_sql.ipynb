{
 "cells": [
  {
   "cell_type": "code",
   "execution_count": null,
   "id": "initial_id",
   "metadata": {
    "collapsed": true
   },
   "outputs": [],
   "source": [
    "# import dependencies\n",
    "import logging\n",
    "import sys\n",
    "import openai\n",
    "from llama_index.core import SQLDatabase, PromptTemplate\n",
    "from llama_index.core.indices.struct_store import NLSQLTableQueryEngine\n",
    "from llama_index.core.prompts import PromptType\n",
    "from sqlalchemy import create_engine\n",
    "from llama_index.llms.openai import OpenAI\n",
    "\n",
    "logging.basicConfig(stream=sys.stdout, level=logging.INFO)\n",
    "logging.getLogger().addHandler(logging.StreamHandler(stream=sys.stdout))"
   ]
  },
  {
   "cell_type": "code",
   "execution_count": null,
   "outputs": [],
   "source": [
    "# set these according to your ClickHouse instance\n",
    "username = \"default\"\n",
    "password = \"\"\n",
    "host = \"localhost\"\n",
    "secure = False\n",
    "database = \"default\"\n",
    "native_port = 9000\n",
    "# see https://platform.openai.com/account/api-keys for API key\n",
    "openai.api_key = \"<INSERT KEY>\""
   ],
   "metadata": {
    "collapsed": false
   },
   "id": "d3ec1ca8b3a46800"
  },
  {
   "cell_type": "code",
   "execution_count": null,
   "outputs": [],
   "source": [
    "# declare prompts\n",
    "CLICKHOUSE_TEXT_TO_SQL_TMPL = (\n",
    "    \"Given an input question, first create a syntactically correct ClickHouse SQL \"\n",
    "    \"query to run, then look at the results of the query and return the answer. \"\n",
    "    \"You can order the results by a relevant column to return the most \"\n",
    "    \"interesting examples in the database.\\n\\n\"\n",
    "    \"Never query for all the columns from a specific table, only ask for a \"\n",
    "    \"few relevant columns given the question.\\n\\n\"\n",
    "    \"Pay attention to use only the column names that you can see in the schema \"\n",
    "    \"description. \"\n",
    "    \"Be careful to not query for columns that do not exist. \"\n",
    "    \"Pay attention to which column is in which table. \"\n",
    "    \"Also, qualify column names with the table name when needed. \\n\"\n",
    "    \"If needing to group on Array Columns use the ClickHouse function arrayJoin e.g. arrayJoin(columnName) \\n\"\n",
    "    \"For example, the following query identifies the most popular database:\\n\"\n",
    "    \"SELECT d, count(*) AS count FROM so_surveys GROUP BY \"\n",
    "    \"arrayJoin(database_want_to_work_with) AS d ORDER BY count DESC LIMIT 1\\n \"\n",
    "    \"Ensure if aggregating with `arrayJoin` you use an alias e.g. arrayJoin(database_want_to_work_with) AS d\\n\"\n",
    "    \"You are required to use the following format, each taking one line:\\n\\n\"\n",
    "    \"Question: Question here\\n\"\n",
    "    \"SQLQuery: SQL Query to run\\n\"\n",
    "    \"SQLResult: Result of the SQLQuery\\n\"\n",
    "    \"Answer: Final answer here\\n\\n\"\n",
    "    \"Only use tables listed below.\\n\"\n",
    "    \"{schema}\\n\\n\"\n",
    "    \"Question: {query_str}\\n\"\n",
    "    \"SQLQuery: \"\n",
    ")\n",
    "\n",
    "CLICKHOUSE_TEXT_TO_SQL_PROMPT = PromptTemplate(\n",
    "    CLICKHOUSE_TEXT_TO_SQL_TMPL,\n",
    "    prompt_type=PromptType.TEXT_TO_SQL,\n",
    ")"
   ],
   "metadata": {
    "collapsed": false
   },
   "id": "657cf6c6faca47a3"
  },
  {
   "cell_type": "code",
   "execution_count": null,
   "outputs": [],
   "source": [
    "# create engine for ClicKHouse and NLSQLTableQueryEngine\n",
    "\n",
    "engine = create_engine(\n",
    "    f'clickhouse+native://{username}:{password}@{host}:' +\n",
    "    f'{native_port}/{database}?compression=lz4&secure={secure}'\n",
    ")\n",
    "\n",
    "sql_database = SQLDatabase(engine, include_tables=[\"surveys\"], view_support=True)\n",
    "\n",
    "nl_sql_engine = NLSQLTableQueryEngine(\n",
    "    sql_database=sql_database,\n",
    "    tables=[\"surveys\"],\n",
    "    text_to_sql_prompt=CLICKHOUSE_TEXT_TO_SQL_PROMPT,\n",
    "    llm=OpenAI(model=\"gpt-4\"),\n",
    "    verbose=True\n",
    ")"
   ],
   "metadata": {
    "collapsed": false
   },
   "id": "245f830230fa4107"
  },
  {
   "cell_type": "code",
   "execution_count": null,
   "outputs": [],
   "source": [
    "response = nl_sql_engine.query(\"What is the most popular database?\")\n",
    "\n",
    "print(f\"SQL query: {response.metadata['sql_query']}\")\n",
    "print(f\"Answer: {str(response)}\")"
   ],
   "metadata": {
    "collapsed": false
   },
   "id": "376d5d88e64cbc8e"
  }
 ],
 "metadata": {
  "kernelspec": {
   "display_name": "Python 3",
   "language": "python",
   "name": "python3"
  },
  "language_info": {
   "codemirror_mode": {
    "name": "ipython",
    "version": 2
   },
   "file_extension": ".py",
   "mimetype": "text/x-python",
   "name": "python",
   "nbconvert_exporter": "python",
   "pygments_lexer": "ipython2",
   "version": "2.7.6"
  }
 },
 "nbformat": 4,
 "nbformat_minor": 5
}

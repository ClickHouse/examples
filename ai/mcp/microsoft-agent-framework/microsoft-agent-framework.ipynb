{
 "cells": [
  {
   "cell_type": "markdown",
   "id": "320f1fcb-0cda-4807-8260-548bb8fadc03",
   "metadata": {},
   "source": [
    "# How to build an AI Agent with Microsoft Agent Framework and the ClickHouse MCP Server"
   ]
  },
  {
   "cell_type": "markdown",
   "id": "4fb810de-652a-44d0-b90e-8b2f1e6ffb6b",
   "metadata": {
    "jp-MarkdownHeadingCollapsed": true
   },
   "source": [
    "## Install libraries"
   ]
  },
  {
   "cell_type": "code",
   "execution_count": null,
   "id": "58a2d110-28f3-46ce-987c-535db5135a2d",
   "metadata": {},
   "outputs": [],
   "source": [
    "!pip install agent-framework"
   ]
  },
  {
   "cell_type": "code",
   "execution_count": 4,
   "id": "1863706f-afbb-4c63-a86e-99f221651418",
   "metadata": {
    "execution": {
     "iopub.execute_input": "2025-10-06T14:51:11.351106Z",
     "iopub.status.busy": "2025-10-06T14:51:11.350360Z",
     "iopub.status.idle": "2025-10-06T14:51:12.655832Z",
     "shell.execute_reply": "2025-10-06T14:51:12.655513Z",
     "shell.execute_reply.started": "2025-10-06T14:51:11.351042Z"
    }
   },
   "outputs": [],
   "source": [
    "from agent_framework import ChatAgent, MCPStdioTool\n",
    "from agent_framework.openai import OpenAIResponsesClient"
   ]
  },
  {
   "cell_type": "markdown",
   "id": "153ac40d-dba7-4226-abb5-a678ef5cd10d",
   "metadata": {},
   "source": [
    "## ClickHouse MCP Server"
   ]
  },
  {
   "cell_type": "code",
   "execution_count": 5,
   "id": "1e08ca97-d444-4317-966a-2a39e78a4f6a",
   "metadata": {
    "execution": {
     "iopub.execute_input": "2025-10-06T14:51:26.515972Z",
     "iopub.status.busy": "2025-10-06T14:51:26.515431Z",
     "iopub.status.idle": "2025-10-06T14:51:26.523571Z",
     "shell.execute_reply": "2025-10-06T14:51:26.522628Z",
     "shell.execute_reply.started": "2025-10-06T14:51:26.515943Z"
    }
   },
   "outputs": [],
   "source": [
    "clickhouse_mcp_server = MCPStdioTool(\n",
    "    name=\"clickhouse\",\n",
    "    command=\"uv\",\n",
    "    args=[\n",
    "        \"run\",\n",
    "        \"--with\",\n",
    "        \"mcp-clickhouse\",\n",
    "        \"--python\",\n",
    "        \"3.10\",\n",
    "        \"mcp-clickhouse\"\n",
    "    ],\n",
    "    env={\n",
    "        \"CLICKHOUSE_HOST\": \"sql-clickhouse.clickhouse.com\",\n",
    "        \"CLICKHOUSE_PORT\": \"8443\",\n",
    "        \"CLICKHOUSE_USER\": \"demo\",\n",
    "        \"CLICKHOUSE_PASSWORD\": \"\",\n",
    "        \"CLICKHOUSE_SECURE\": \"true\",\n",
    "        \"CLICKHOUSE_VERIFY\": \"true\",\n",
    "        \"CLICKHOUSE_CONNECT_TIMEOUT\": \"30\",\n",
    "        \"CLICKHOUSE_SEND_RECEIVE_TIMEOUT\": \"30\"\n",
    "    }\n",
    ")"
   ]
  },
  {
   "cell_type": "markdown",
   "id": "9cce32f8-6208-4a2d-b5c5-f9ff8e1da755",
   "metadata": {
    "execution": {
     "iopub.execute_input": "2025-10-06T15:02:53.635803Z",
     "iopub.status.busy": "2025-10-06T15:02:53.635460Z",
     "iopub.status.idle": "2025-10-06T15:02:53.646140Z",
     "shell.execute_reply": "2025-10-06T15:02:53.644906Z",
     "shell.execute_reply.started": "2025-10-06T15:02:53.635779Z"
    }
   },
   "source": [
    "## Setup credentials\n",
    "Let's provide our OpenAI API key."
   ]
  },
  {
   "cell_type": "code",
   "execution_count": 6,
   "id": "f5754db7-b47b-4ec1-aad8-96610dc11f7f",
   "metadata": {
    "execution": {
     "iopub.execute_input": "2025-10-06T14:51:45.337660Z",
     "iopub.status.busy": "2025-10-06T14:51:45.337193Z",
     "iopub.status.idle": "2025-10-06T14:51:45.341099Z",
     "shell.execute_reply": "2025-10-06T14:51:45.340250Z",
     "shell.execute_reply.started": "2025-10-06T14:51:45.337625Z"
    }
   },
   "outputs": [],
   "source": [
    "import os, getpass"
   ]
  },
  {
   "cell_type": "code",
   "execution_count": 10,
   "id": "f8442762-d770-49cb-bd06-0db2e33aa9c3",
   "metadata": {
    "execution": {
     "iopub.execute_input": "2025-10-06T14:52:26.862116Z",
     "iopub.status.busy": "2025-10-06T14:52:26.861627Z",
     "iopub.status.idle": "2025-10-06T14:52:38.191523Z",
     "shell.execute_reply": "2025-10-06T14:52:38.190225Z",
     "shell.execute_reply.started": "2025-10-06T14:52:26.862086Z"
    }
   },
   "outputs": [
    {
     "name": "stdin",
     "output_type": "stream",
     "text": [
      "Enter OpenAI API Key: ········\n"
     ]
    }
   ],
   "source": [
    "os.environ[\"OPENAI_API_KEY\"] = getpass.getpass(\"Enter OpenAI API Key:\")"
   ]
  },
  {
   "cell_type": "markdown",
   "id": "02555584-03fa-41a6-9050-a95e9c10a1dc",
   "metadata": {
    "execution": {
     "iopub.execute_input": "2025-10-06T15:03:11.710644Z",
     "iopub.status.busy": "2025-10-06T15:03:11.710319Z",
     "iopub.status.idle": "2025-10-06T15:03:11.713951Z",
     "shell.execute_reply": "2025-10-06T15:03:11.713066Z",
     "shell.execute_reply.started": "2025-10-06T15:03:11.710620Z"
    }
   },
   "source": [
    "## Initialize and run agent"
   ]
  },
  {
   "cell_type": "code",
   "execution_count": 15,
   "id": "d57120f2-331a-4a52-82ad-45dd489ffcdc",
   "metadata": {
    "execution": {
     "iopub.execute_input": "2025-10-06T15:21:26.827622Z",
     "iopub.status.busy": "2025-10-06T15:21:26.827318Z",
     "iopub.status.idle": "2025-10-06T15:22:34.296564Z",
     "shell.execute_reply": "2025-10-06T15:22:34.296175Z",
     "shell.execute_reply.started": "2025-10-06T15:21:26.827596Z"
    }
   },
   "outputs": [
    {
     "name": "stdout",
     "output_type": "stream",
     "text": [
      "User: Tell me about UK property prices over the last five years\n",
      "I looked at monthly UK sold-price records in the uk.uk_price_paid_simple_partitioned table for the last five years (toStartOfMonth(date), from Oct 2020 → Aug 2025). Summary and key points:\n",
      "\n",
      "What I measured\n",
      "- Metrics: monthly median price, mean price, and transaction count (price paid records).\n",
      "- Period covered: months starting 2020-10-01 through 2025-08-01 (last five years from today).\n",
      "\n",
      "High-level findings\n",
      "- Median price rose from £255,000 (2020-10) to £294,500 (2025-08) — an increase of about +15.4% over five years.\n",
      "  - Equivalent compound annual growth rate (CAGR) for the median ≈ +2.9% per year.\n",
      "- Mean price fell slightly from about £376,538 (2020-10) to £364,653 (2025-08) — a decline of ≈ −3.2% over five years.\n",
      "  - Mean-price CAGR ≈ −0.6% per year.\n",
      "- The divergence (median up, mean slightly down) suggests changes in the mix of transactions (fewer very-high-value sales or other compositional effects), since the mean is sensitive to outliers while the median is not.\n",
      "\n",
      "Notable patterns and events in the data\n",
      "- Strong rises in 2020–2021 (visible in both median and mean), consistent with the post‑pandemic / stamp‑duty / demand-driven market surge seen in that period.\n",
      "- Peaks in mean prices around mid‑2022 (mean values ~£440k), then a general softening through 2022–2023 and stabilisation around 2023–2024.\n",
      "- Some months show large volatility or unusual counts (e.g., June 2021 and June 2021 had very high transaction counts; March 2025 shows a high median but April–May 2025 show lower counts). Recent months (mid‑2025) have much lower transaction counts in the table — this often indicates incomplete reporting for the most recent months and means recent monthly figures should be treated cautiously.\n",
      "\n",
      "Example datapoints (from the query)\n",
      "- 2020-10: median £255,000, mean £376,538, transactions 89,125\n",
      "- 2022-08: mean peak ~£441,209 (median ~£295,000)\n",
      "- 2025-03: median ~£314,750 (one of the highest medians)\n",
      "- 2025-08: median £294,500, mean £364,653, transactions 18,815 (low count — likely incomplete)\n",
      "\n",
      "Caveats\n",
      "- These are transaction prices (Price Paid dataset) — actual house “values” may differ.\n",
      "- Mean is sensitive to composition and outliers. Changes in the types of properties sold (e.g., mix of flats vs detached houses, regional mix) will affect mean and median differently.\n",
      "- Recent months can be incomplete; months with unusually low transaction counts should be treated with caution.\n",
      "- This is a national aggregate — regional differences can be substantial.\n",
      "\n",
      "If you want I can:\n",
      "- Produce a chart of median and mean over time.\n",
      "- Compare year-on-year or compute CAGR for a different start/end month.\n",
      "- Break the analysis down by region/county/town, property type (flat, terraced, semi, detached), or by price bands.\n",
      "- Show a table of top/bottom regions for price growth over the last 5 years.\n",
      "\n",
      "Which follow-up would you like?\n",
      "\n",
      "\n"
     ]
    }
   ],
   "source": [
    "async with ChatAgent(\n",
    "    chat_client=OpenAIResponsesClient(model_id=\"gpt-5-mini-2025-08-07\"),\n",
    "    name=\"HousePricesAgent\",\n",
    "    instructions=\"You are a helpful assistant that can help query a ClickHouse database\",\n",
    "    tools=clickhouse_mcp_server,\n",
    ") as agent:\n",
    "    query = \"Tell me about UK property prices over the last five years\"\n",
    "    print(f\"User: {query}\")\n",
    "    async for chunk in agent.run_stream(query):\n",
    "        print(chunk.text, end=\"\", flush=True)\n",
    "    print(\"\\n\\n\")"
   ]
  }
 ],
 "metadata": {
  "kernelspec": {
   "display_name": "Python 3 (ipykernel)",
   "language": "python",
   "name": "python3"
  },
  "language_info": {
   "codemirror_mode": {
    "name": "ipython",
    "version": 3
   },
   "file_extension": ".py",
   "mimetype": "text/x-python",
   "name": "python",
   "nbconvert_exporter": "python",
   "pygments_lexer": "ipython3",
   "version": "3.12.0"
  }
 },
 "nbformat": 4,
 "nbformat_minor": 5
}

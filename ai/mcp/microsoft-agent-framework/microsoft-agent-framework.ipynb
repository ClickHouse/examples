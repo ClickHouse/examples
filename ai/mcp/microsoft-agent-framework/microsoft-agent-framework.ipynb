{
 "cells": [
  {
   "cell_type": "markdown",
   "id": "320f1fcb-0cda-4807-8260-548bb8fadc03",
   "metadata": {},
   "source": [
    "# How to build an AI Agent with Microsoft Agent Framework and the ClickHouse MCP Server"
   ]
  },
  {
   "cell_type": "markdown",
   "id": "4fb810de-652a-44d0-b90e-8b2f1e6ffb6b",
   "metadata": {
    "jp-MarkdownHeadingCollapsed": true
   },
   "source": [
    "## Install libraries"
   ]
  },
  {
   "cell_type": "code",
   "execution_count": null,
   "id": "58a2d110-28f3-46ce-987c-535db5135a2d",
   "metadata": {},
   "outputs": [],
   "source": [
    "!pip install agent-framework"
   ]
  },
  {
   "cell_type": "code",
   "execution_count": 4,
   "id": "1863706f-afbb-4c63-a86e-99f221651418",
   "metadata": {
    "execution": {
     "iopub.execute_input": "2025-10-06T14:51:11.351106Z",
     "iopub.status.busy": "2025-10-06T14:51:11.350360Z",
     "iopub.status.idle": "2025-10-06T14:51:12.655832Z",
     "shell.execute_reply": "2025-10-06T14:51:12.655513Z",
     "shell.execute_reply.started": "2025-10-06T14:51:11.351042Z"
    }
   },
   "outputs": [],
   "source": [
    "from agent_framework import ChatAgent, MCPStdioTool\n",
    "from agent_framework.openai import OpenAIResponsesClient"
   ]
  },
  {
   "cell_type": "markdown",
   "id": "153ac40d-dba7-4226-abb5-a678ef5cd10d",
   "metadata": {},
   "source": [
    "## ClickHouse MCP Server"
   ]
  },
  {
   "cell_type": "code",
   "execution_count": 5,
   "id": "1e08ca97-d444-4317-966a-2a39e78a4f6a",
   "metadata": {
    "execution": {
     "iopub.execute_input": "2025-10-06T14:51:26.515972Z",
     "iopub.status.busy": "2025-10-06T14:51:26.515431Z",
     "iopub.status.idle": "2025-10-06T14:51:26.523571Z",
     "shell.execute_reply": "2025-10-06T14:51:26.522628Z",
     "shell.execute_reply.started": "2025-10-06T14:51:26.515943Z"
    }
   },
   "outputs": [],
   "source": [
    "clickhouse_mcp_server = MCPStdioTool(\n",
    "    name=\"clickhouse\",\n",
    "    command=\"uv\",\n",
    "    args=[\n",
    "        \"run\",\n",
    "        \"--with\",\n",
    "        \"mcp-clickhouse\",\n",
    "        \"--python\",\n",
    "        \"3.10\",\n",
    "        \"mcp-clickhouse\"\n",
    "    ],\n",
    "    env={\n",
    "        \"CLICKHOUSE_HOST\": \"sql-clickhouse.clickhouse.com\",\n",
    "        \"CLICKHOUSE_PORT\": \"8443\",\n",
    "        \"CLICKHOUSE_USER\": \"demo\",\n",
    "        \"CLICKHOUSE_PASSWORD\": \"\",\n",
    "        \"CLICKHOUSE_SECURE\": \"true\",\n",
    "        \"CLICKHOUSE_VERIFY\": \"true\",\n",
    "        \"CLICKHOUSE_CONNECT_TIMEOUT\": \"30\",\n",
    "        \"CLICKHOUSE_SEND_RECEIVE_TIMEOUT\": \"30\"\n",
    "    }\n",
    ")"
   ]
  },
  {
   "cell_type": "markdown",
   "id": "9cce32f8-6208-4a2d-b5c5-f9ff8e1da755",
   "metadata": {
    "execution": {
     "iopub.execute_input": "2025-10-06T15:02:53.635803Z",
     "iopub.status.busy": "2025-10-06T15:02:53.635460Z",
     "iopub.status.idle": "2025-10-06T15:02:53.646140Z",
     "shell.execute_reply": "2025-10-06T15:02:53.644906Z",
     "shell.execute_reply.started": "2025-10-06T15:02:53.635779Z"
    }
   },
   "source": [
    "## Setup credentials\n",
    "Let's provide our OpenAI API key."
   ]
  },
  {
   "cell_type": "code",
   "execution_count": 6,
   "id": "f5754db7-b47b-4ec1-aad8-96610dc11f7f",
   "metadata": {
    "execution": {
     "iopub.execute_input": "2025-10-06T14:51:45.337660Z",
     "iopub.status.busy": "2025-10-06T14:51:45.337193Z",
     "iopub.status.idle": "2025-10-06T14:51:45.341099Z",
     "shell.execute_reply": "2025-10-06T14:51:45.340250Z",
     "shell.execute_reply.started": "2025-10-06T14:51:45.337625Z"
    }
   },
   "outputs": [],
   "source": [
    "import os, getpass"
   ]
  },
  {
   "cell_type": "code",
   "execution_count": 10,
   "id": "f8442762-d770-49cb-bd06-0db2e33aa9c3",
   "metadata": {
    "execution": {
     "iopub.execute_input": "2025-10-06T14:52:26.862116Z",
     "iopub.status.busy": "2025-10-06T14:52:26.861627Z",
     "iopub.status.idle": "2025-10-06T14:52:38.191523Z",
     "shell.execute_reply": "2025-10-06T14:52:38.190225Z",
     "shell.execute_reply.started": "2025-10-06T14:52:26.862086Z"
    }
   },
   "outputs": [
    {
     "name": "stdin",
     "output_type": "stream",
     "text": [
      "Enter OpenAI API Key: ········\n"
     ]
    }
   ],
   "source": [
    "os.environ[\"OPENAI_API_KEY\"] = getpass.getpass(\"Enter OpenAI API Key:\")"
   ]
  },
  {
   "cell_type": "markdown",
   "id": "02555584-03fa-41a6-9050-a95e9c10a1dc",
   "metadata": {
    "execution": {
     "iopub.execute_input": "2025-10-06T15:03:11.710644Z",
     "iopub.status.busy": "2025-10-06T15:03:11.710319Z",
     "iopub.status.idle": "2025-10-06T15:03:11.713951Z",
     "shell.execute_reply": "2025-10-06T15:03:11.713066Z",
     "shell.execute_reply.started": "2025-10-06T15:03:11.710620Z"
    }
   },
   "source": [
    "## Initialize and run agent"
   ]
  },
  {
   "cell_type": "code",
   "execution_count": 11,
   "id": "d57120f2-331a-4a52-82ad-45dd489ffcdc",
   "metadata": {
    "execution": {
     "iopub.execute_input": "2025-10-06T14:52:41.223952Z",
     "iopub.status.busy": "2025-10-06T14:52:41.223444Z",
     "iopub.status.idle": "2025-10-06T14:53:40.424270Z",
     "shell.execute_reply": "2025-10-06T14:53:40.424007Z",
     "shell.execute_reply.started": "2025-10-06T14:52:41.223927Z"
    }
   },
   "outputs": [
    {
     "name": "stdout",
     "output_type": "stream",
     "text": [
      "User: Tell me about UK property prices over the last five years\n",
      "I queried the UK Price Paid dataset for the recent five-year period (using date >= addYears(today(), -5), i.e. roughly from 2020‑10‑06 through today). Summary findings, key numbers and observations below. If you want a different range (calendar years or last 5 full years) I can re-run.\n",
      "\n",
      "High-level yearly summary (rough period: late‑2020 → 2025 YTD)\n",
      "- Sales (counts): 2020: 306,857 | 2021: 1,279,406 | 2022: 1,073,122 | 2023: 854,549 | 2024: 859,960 | 2025 (YTD): 376,633\n",
      "  - Note: 2021 shows a very large spike in transactions (policy/market effects such as the stamp‑duty holiday and COVID-era timing likely contributors).\n",
      "- Average sale price (mean): 2020: £384,740 → 2021: £389,331 → 2022: £414,053 (peak) → 2023: £404,796 → 2024: £390,879 → 2025 (YTD): £362,283\n",
      "  - Yearly changes (mean): +1.2% (20→21), +6.4% (21→22), −2.2% (22→23), −3.4% (23→24), −7.3% (24→25 YTD)\n",
      "- Median sale price: 2020: £265,100 → 2021: £269,995 → 2022: £280,000 → 2023: £275,000 → 2024: £280,000 → 2025 (YTD): £281,000\n",
      "  - Median is much steadier than the mean (less affected by a small number of very high‑value sales).\n",
      "\n",
      "By property type (selected highlights)\n",
      "- Detached (highest priced): avg peaked in 2022 (~£521k) and remains the priciest; median detached price rose from £375k (2020) to £415k (2025 YTD) — roughly +10.7% over the period.\n",
      "- Semi‑detached: median from £235k → £270k (≈ +14.9%).\n",
      "- Terraced: median from £198k → £227k (≈ +14.7%).\n",
      "- Flats: median roughly flat-to-down (2020 median £230k → 2025 YTD £227k, small decline).\n",
      "- “Other” category shows very high means (around £1.1m–£1.3m) but lower counts — this category can contain mixed/atypical transactions and skews the overall mean; treat with caution.\n",
      "\n",
      "Interpretation / takeaways\n",
      "- Peak in mean prices occurred in 2022. Since then the mean has fallen (especially into 2025 YTD), while the median has been relatively stable around £275k–£281k. That pattern suggests some cooling at the high end (fewer ultra‑expensive sales), while the “typical” property price has been less volatile.\n",
      "- Transaction volume spiked in 2021 and then settled down — the 2021 spike is consistent with policy-driven shifts (e.g., temporary stamp‑duty changes and pandemic timing).\n",
      "- House types (terraced, semi, detached) generally saw meaningful median increases (~10–15%), whereas flats have not kept pace and show weaker performance.\n",
      "- 2025 figures are year‑to‑date (partial) and therefore not directly comparable to full calendar years.\n",
      "\n",
      "Caveats\n",
      "- My query used the uk_price_paid* tables (the official Land Registry Price Paid style data in this DB). It covers registered residential transactions but may exclude some private unregistered exchanges or specific exclusions; new‑build treatment depends on is_new/dataset specifics.\n",
      "- 2025 numbers are partial (to today). If you want full‑calendar comparability, ask for calendar years or specify start/end dates.\n",
      "\n",
      "If you’d like next steps, I can:\n",
      "- Re-run for calendar years (e.g., 2020–2024) or last 5 full years.\n",
      "- Produce month‑by‑month time series or charts (median and mean).\n",
      "- Break down trends by region/county/town or postcode area.\n",
      "- Exclude the small “other” category or focus on owner‑occupied vs leasehold, etc.\n",
      "\n",
      "Which follow‑up would you like?\n",
      "\n",
      "\n"
     ]
    }
   ],
   "source": [
    "async with ChatAgent(\n",
    "    chat_client=OpenAIResponsesClient(model_id=\"gpt-5-mini-2025-08-07\"),\n",
    "    name=\"DocsAgent\",\n",
    "    instructions=\"You are a helpful assistant that can help query a ClickHouse database\",\n",
    "    tools=clickhouse_mcp_server,\n",
    ") as agent:\n",
    "    query = \"Tell me about UK property prices over the last five years\"\n",
    "    print(f\"User: {query}\")\n",
    "    async for chunk in agent.run_stream(query):\n",
    "        print(chunk.text, end=\"\", flush=True)\n",
    "    print(\"\\n\\n\")"
   ]
  }
 ],
 "metadata": {
  "kernelspec": {
   "display_name": "Python 3 (ipykernel)",
   "language": "python",
   "name": "python3"
  },
  "language_info": {
   "codemirror_mode": {
    "name": "ipython",
    "version": 3
   },
   "file_extension": ".py",
   "mimetype": "text/x-python",
   "name": "python",
   "nbconvert_exporter": "python",
   "pygments_lexer": "ipython3",
   "version": "3.12.0"
  }
 },
 "nbformat": 4,
 "nbformat_minor": 5
}

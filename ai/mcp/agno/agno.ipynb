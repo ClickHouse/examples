{
 "cells": [
  {
   "cell_type": "markdown",
   "id": "aa06f8c3-e13f-4f03-97a0-8565699ae34a",
   "metadata": {
    "execution": {
     "iopub.execute_input": "2025-05-29T12:39:00.824020Z",
     "iopub.status.busy": "2025-05-29T12:39:00.823521Z",
     "iopub.status.idle": "2025-05-29T12:39:00.829370Z",
     "shell.execute_reply": "2025-05-29T12:39:00.828238Z",
     "shell.execute_reply.started": "2025-05-29T12:39:00.823981Z"
    }
   },
   "source": [
    "# How to build an AI Agent with Agno and the ClickHouse MCP Server\n",
    "\n",
    "In this notebook we'll see how to build an [Agno](https://github.com/agno-agi/agno) AI agent that can interact with [ClickHouse's SQL playground](https://sql.clickhouse.com/) using [ClickHouse's MCP Server](https://github.com/ClickHouse/mcp-clickhouse).\n"
   ]
  },
  {
   "cell_type": "markdown",
   "id": "1bf3a5a9-9d68-4591-aad1-7c8855a3cc8c",
   "metadata": {},
   "source": [
    "## Install libraries\n",
    "We need to install the Agno library."
   ]
  },
  {
   "cell_type": "code",
   "execution_count": null,
   "id": "cb744032-3e34-4970-bcd2-96321009dd13",
   "metadata": {},
   "outputs": [],
   "source": [
    "!pip install -q --upgrade pip"
   ]
  },
  {
   "cell_type": "code",
   "execution_count": null,
   "id": "96b3bbf6-68f3-4f6f-bf0b-5b7861748250",
   "metadata": {
    "execution": {
     "iopub.execute_input": "2025-05-29T14:24:22.585590Z",
     "iopub.status.busy": "2025-05-29T14:24:22.585415Z",
     "iopub.status.idle": "2025-05-29T14:24:28.588347Z",
     "shell.execute_reply": "2025-05-29T14:24:28.587816Z",
     "shell.execute_reply.started": "2025-05-29T14:24:22.585579Z"
    }
   },
   "outputs": [],
   "source": [
    "!pip install -q agno\n",
    "!pip install -q ipywidgets"
   ]
  },
  {
   "cell_type": "markdown",
   "id": "600ccc86-83c1-4b81-a105-4b031da79607",
   "metadata": {},
   "source": [
    "## Setup credentials\n",
    "Let's provide our Anthropic API key."
   ]
  },
  {
   "cell_type": "code",
   "execution_count": null,
   "id": "7dd9d57e-448c-4ab2-a947-a461d76176b1",
   "metadata": {
    "execution": {
     "iopub.execute_input": "2025-05-29T14:20:04.375744Z",
     "iopub.status.busy": "2025-05-29T14:20:04.375569Z",
     "iopub.status.idle": "2025-05-29T14:20:04.378097Z",
     "shell.execute_reply": "2025-05-29T14:20:04.377781Z",
     "shell.execute_reply.started": "2025-05-29T14:20:04.375729Z"
    }
   },
   "outputs": [],
   "source": [
    "import os, getpass"
   ]
  },
  {
   "cell_type": "code",
   "execution_count": null,
   "id": "06f52279-865d-4fef-92b7-d9743473f466",
   "metadata": {
    "execution": {
     "iopub.execute_input": "2025-05-29T14:20:05.689917Z",
     "iopub.status.busy": "2025-05-29T14:20:05.689419Z",
     "iopub.status.idle": "2025-05-29T14:20:07.364493Z",
     "shell.execute_reply": "2025-05-29T14:20:07.364057Z",
     "shell.execute_reply.started": "2025-05-29T14:20:05.689887Z"
    }
   },
   "outputs": [
    {
     "name": "stdout",
     "output_type": "stream",
     "text": [
      "Enter Anthropic API Key: ········\n"
     ]
    }
   ],
   "source": [
    "os.environ[\"ANTHROPIC_API_KEY\"] = getpass.getpass(\"Enter Anthropic API Key:\")"
   ]
  },
  {
   "cell_type": "markdown",
   "id": "4498c1b8-b762-45a1-9165-55957f2cecad",
   "metadata": {
    "execution": {
     "iopub.execute_input": "2025-05-29T14:29:32.100459Z",
     "iopub.status.busy": "2025-05-29T14:29:32.100270Z",
     "iopub.status.idle": "2025-05-29T14:29:32.103177Z",
     "shell.execute_reply": "2025-05-29T14:29:32.102622Z",
     "shell.execute_reply.started": "2025-05-29T14:29:32.100446Z"
    }
   },
   "source": [
    "We'll also define the credentials to connect to the ClickHouse SQL playground:"
   ]
  },
  {
   "cell_type": "code",
   "execution_count": null,
   "id": "6845f3db-8f6a-41c3-bae9-6c4c1b6bde1e",
   "metadata": {
    "execution": {
     "iopub.execute_input": "2025-05-29T15:24:49.921151Z",
     "iopub.status.busy": "2025-05-29T15:24:49.920998Z",
     "iopub.status.idle": "2025-05-29T15:24:49.923322Z",
     "shell.execute_reply": "2025-05-29T15:24:49.922862Z",
     "shell.execute_reply.started": "2025-05-29T15:24:49.921140Z"
    }
   },
   "outputs": [],
   "source": [
    "env = {\n",
    "    \"CLICKHOUSE_HOST\": \"sql-clickhouse.clickhouse.com\",\n",
    "    \"CLICKHOUSE_PORT\": \"8443\",\n",
    "    \"CLICKHOUSE_USER\": \"demo\",\n",
    "    \"CLICKHOUSE_PASSWORD\": \"\",\n",
    "    \"CLICKHOUSE_SECURE\": \"true\"\n",
    "}"
   ]
  },
  {
   "cell_type": "markdown",
   "id": "bc2812b1-1ee9-4669-bfb1-ffabaeb3d597",
   "metadata": {},
   "source": [
    "## Initialize MCP Server and Agno agent\n",
    "\n",
    "Lets configure the ClickHouse MCP Server to point at the ClickHouse SQL playground and also initialize our Agno agent and ask it a question:"
   ]
  },
  {
   "cell_type": "code",
   "execution_count": null,
   "id": "5b93d2b7-4191-4817-834b-2ac36a9668bf",
   "metadata": {
    "execution": {
     "iopub.execute_input": "2025-05-29T14:29:01.003818Z",
     "iopub.status.busy": "2025-05-29T14:29:01.003664Z",
     "iopub.status.idle": "2025-05-29T14:29:01.006120Z",
     "shell.execute_reply": "2025-05-29T14:29:01.005690Z",
     "shell.execute_reply.started": "2025-05-29T14:29:01.003807Z"
    }
   },
   "outputs": [],
   "source": [
    "from agno.agent import Agent\n",
    "from agno.tools.mcp import MCPTools\n",
    "from agno.models.anthropic import Claude"
   ]
  },
  {
   "cell_type": "code",
   "execution_count": null,
   "id": "3d56cb4e-d7b5-406d-929b-f965ef61bd7e",
   "metadata": {
    "execution": {
     "iopub.execute_input": "2025-05-29T15:35:32.881876Z",
     "iopub.status.busy": "2025-05-29T15:35:32.881687Z",
     "iopub.status.idle": "2025-05-29T15:36:09.436525Z",
     "shell.execute_reply": "2025-05-29T15:36:09.436239Z",
     "shell.execute_reply.started": "2025-05-29T15:35:32.881860Z"
    }
   },
   "outputs": [
    {
     "data": {
      "text/html": [
       "<pre style=\"white-space:pre;overflow-x:auto;line-height:normal;font-family:Menlo,'DejaVu Sans Mono',consolas,'Courier New',monospace\"><span style=\"color: #008000; text-decoration-color: #008000\">▰▱▱▱▱▱▱</span> Thinking...\n",
       "<span style=\"color: #008080; text-decoration-color: #008080\">┏━ Message ━━━━━━━━━━━━━━━━━━━━━━━━━━━━━━━━━━━━━━━━━━━━━━━━━━━━━━━━━━━━━━━━━━━━━━━━━━━━━━━━━━━━━━━━━━━━━━━━━━━━━━━┓</span>\n",
       "<span style=\"color: #008080; text-decoration-color: #008080\">┃</span>                                                                                                                 <span style=\"color: #008080; text-decoration-color: #008080\">┃</span>\n",
       "<span style=\"color: #008080; text-decoration-color: #008080\">┃</span> <span style=\"color: #008000; text-decoration-color: #008000\">What's the most starred project in 2025?</span>                                                                        <span style=\"color: #008080; text-decoration-color: #008080\">┃</span>\n",
       "<span style=\"color: #008080; text-decoration-color: #008080\">┃</span>                                                                                                                 <span style=\"color: #008080; text-decoration-color: #008080\">┃</span>\n",
       "<span style=\"color: #008080; text-decoration-color: #008080\">┗━━━━━━━━━━━━━━━━━━━━━━━━━━━━━━━━━━━━━━━━━━━━━━━━━━━━━━━━━━━━━━━━━━━━━━━━━━━━━━━━━━━━━━━━━━━━━━━━━━━━━━━━━━━━━━━━━┛</span>\n",
       "<span style=\"color: #808000; text-decoration-color: #808000\">┏━ Tool Calls ━━━━━━━━━━━━━━━━━━━━━━━━━━━━━━━━━━━━━━━━━━━━━━━━━━━━━━━━━━━━━━━━━━━━━━━━━━━━━━━━━━━━━━━━━━━━━━━━━━━━┓</span>\n",
       "<span style=\"color: #808000; text-decoration-color: #808000\">┃</span>                                                                                                                 <span style=\"color: #808000; text-decoration-color: #808000\">┃</span>\n",
       "<span style=\"color: #808000; text-decoration-color: #808000\">┃</span> • list_tables(database=github, like=%)                                                                          <span style=\"color: #808000; text-decoration-color: #808000\">┃</span>\n",
       "<span style=\"color: #808000; text-decoration-color: #808000\">┃</span> • run_select_query(query=SELECT                                                                                 <span style=\"color: #808000; text-decoration-color: #808000\">┃</span>\n",
       "<span style=\"color: #808000; text-decoration-color: #808000\">┃</span>     repo_name,                                                                                                  <span style=\"color: #808000; text-decoration-color: #808000\">┃</span>\n",
       "<span style=\"color: #808000; text-decoration-color: #808000\">┃</span>     SUM(count) AS stars_2025                                                                                    <span style=\"color: #808000; text-decoration-color: #808000\">┃</span>\n",
       "<span style=\"color: #808000; text-decoration-color: #808000\">┃</span> FROM github.repo_events_per_day                                                                                 <span style=\"color: #808000; text-decoration-color: #808000\">┃</span>\n",
       "<span style=\"color: #808000; text-decoration-color: #808000\">┃</span> WHERE event_type = 'WatchEvent'                                                                                 <span style=\"color: #808000; text-decoration-color: #808000\">┃</span>\n",
       "<span style=\"color: #808000; text-decoration-color: #808000\">┃</span>     AND created_at &gt;= '2025-01-01'                                                                              <span style=\"color: #808000; text-decoration-color: #808000\">┃</span>\n",
       "<span style=\"color: #808000; text-decoration-color: #808000\">┃</span>     AND created_at &lt; '2026-01-01'                                                                               <span style=\"color: #808000; text-decoration-color: #808000\">┃</span>\n",
       "<span style=\"color: #808000; text-decoration-color: #808000\">┃</span> GROUP BY repo_name                                                                                              <span style=\"color: #808000; text-decoration-color: #808000\">┃</span>\n",
       "<span style=\"color: #808000; text-decoration-color: #808000\">┃</span> ORDER BY stars_2025 DESC                                                                                        <span style=\"color: #808000; text-decoration-color: #808000\">┃</span>\n",
       "<span style=\"color: #808000; text-decoration-color: #808000\">┃</span> LIMIT 1)                                                                                                        <span style=\"color: #808000; text-decoration-color: #808000\">┃</span>\n",
       "<span style=\"color: #808000; text-decoration-color: #808000\">┃</span>                                                                                                                 <span style=\"color: #808000; text-decoration-color: #808000\">┃</span>\n",
       "<span style=\"color: #808000; text-decoration-color: #808000\">┗━━━━━━━━━━━━━━━━━━━━━━━━━━━━━━━━━━━━━━━━━━━━━━━━━━━━━━━━━━━━━━━━━━━━━━━━━━━━━━━━━━━━━━━━━━━━━━━━━━━━━━━━━━━━━━━━━┛</span>\n",
       "<span style=\"color: #000080; text-decoration-color: #000080\">┏━ Response (34.9s) ━━━━━━━━━━━━━━━━━━━━━━━━━━━━━━━━━━━━━━━━━━━━━━━━━━━━━━━━━━━━━━━━━━━━━━━━━━━━━━━━━━━━━━━━━━━━━━┓</span>\n",
       "<span style=\"color: #000080; text-decoration-color: #000080\">┃</span>                                                                                                                 <span style=\"color: #000080; text-decoration-color: #000080\">┃</span>\n",
       "<span style=\"color: #000080; text-decoration-color: #000080\">┃</span> To answer your question about the most starred project in 2025, I'll need to query the ClickHouse database.     <span style=\"color: #000080; text-decoration-color: #000080\">┃</span>\n",
       "<span style=\"color: #000080; text-decoration-color: #000080\">┃</span> However, before I can do that, I need to gather some information and make sure we're looking at the right data. <span style=\"color: #000080; text-decoration-color: #000080\">┃</span>\n",
       "<span style=\"color: #000080; text-decoration-color: #000080\">┃</span> Let me check the available databases and tables first.Thank you for providing the list of databases. I can see  <span style=\"color: #000080; text-decoration-color: #000080\">┃</span>\n",
       "<span style=\"color: #000080; text-decoration-color: #000080\">┃</span> that there's a \"github\" database, which is likely to contain the information we're looking for. Let's check the <span style=\"color: #000080; text-decoration-color: #000080\">┃</span>\n",
       "<span style=\"color: #000080; text-decoration-color: #000080\">┃</span> tables in this database.Now that we have information about the tables in the github database, we can query the  <span style=\"color: #000080; text-decoration-color: #000080\">┃</span>\n",
       "<span style=\"color: #000080; text-decoration-color: #000080\">┃</span> relevant data to answer your question about the most starred project in 2025. We'll use the <span style=\"color: #008080; text-decoration-color: #008080; background-color: #000000; font-weight: bold\">repo_events_per_day</span> <span style=\"color: #000080; text-decoration-color: #000080\">┃</span>\n",
       "<span style=\"color: #000080; text-decoration-color: #000080\">┃</span> table, which contains daily event counts for each repository, including star events (WatchEvents).              <span style=\"color: #000080; text-decoration-color: #000080\">┃</span>\n",
       "<span style=\"color: #000080; text-decoration-color: #000080\">┃</span>                                                                                                                 <span style=\"color: #000080; text-decoration-color: #000080\">┃</span>\n",
       "<span style=\"color: #000080; text-decoration-color: #000080\">┃</span> Let's create a query to find the most starred project in 2025:Based on the query results, I can answer your     <span style=\"color: #000080; text-decoration-color: #000080\">┃</span>\n",
       "<span style=\"color: #000080; text-decoration-color: #000080\">┃</span> question about the most starred project in 2025:                                                                <span style=\"color: #000080; text-decoration-color: #000080\">┃</span>\n",
       "<span style=\"color: #000080; text-decoration-color: #000080\">┃</span>                                                                                                                 <span style=\"color: #000080; text-decoration-color: #000080\">┃</span>\n",
       "<span style=\"color: #000080; text-decoration-color: #000080\">┃</span> The most starred project in 2025 was <span style=\"font-weight: bold\">deepseek-ai/DeepSeek-R1</span>, which received <span style=\"font-weight: bold\">84,962 stars</span> during that year.     <span style=\"color: #000080; text-decoration-color: #000080\">┃</span>\n",
       "<span style=\"color: #000080; text-decoration-color: #000080\">┃</span>                                                                                                                 <span style=\"color: #000080; text-decoration-color: #000080\">┃</span>\n",
       "<span style=\"color: #000080; text-decoration-color: #000080\">┃</span> This project, DeepSeek-R1, appears to be an AI-related repository from the DeepSeek AI organization. It gained  <span style=\"color: #000080; text-decoration-color: #000080\">┃</span>\n",
       "<span style=\"color: #000080; text-decoration-color: #000080\">┃</span> significant attention and popularity among the GitHub community in 2025, earning the highest number of stars    <span style=\"color: #000080; text-decoration-color: #000080\">┃</span>\n",
       "<span style=\"color: #000080; text-decoration-color: #000080\">┃</span> for any project during that year.                                                                               <span style=\"color: #000080; text-decoration-color: #000080\">┃</span>\n",
       "<span style=\"color: #000080; text-decoration-color: #000080\">┃</span>                                                                                                                 <span style=\"color: #000080; text-decoration-color: #000080\">┃</span>\n",
       "<span style=\"color: #000080; text-decoration-color: #000080\">┃</span> It's worth noting that this data is based on the GitHub events recorded in the database, and it represents the  <span style=\"color: #000080; text-decoration-color: #000080\">┃</span>\n",
       "<span style=\"color: #000080; text-decoration-color: #000080\">┃</span> stars (WatchEvents) accumulated specifically during the year 2025. The total number of stars for this project   <span style=\"color: #000080; text-decoration-color: #000080\">┃</span>\n",
       "<span style=\"color: #000080; text-decoration-color: #000080\">┃</span> might be higher if we consider its entire lifespan.                                                             <span style=\"color: #000080; text-decoration-color: #000080\">┃</span>\n",
       "<span style=\"color: #000080; text-decoration-color: #000080\">┃</span>                                                                                                                 <span style=\"color: #000080; text-decoration-color: #000080\">┃</span>\n",
       "<span style=\"color: #000080; text-decoration-color: #000080\">┗━━━━━━━━━━━━━━━━━━━━━━━━━━━━━━━━━━━━━━━━━━━━━━━━━━━━━━━━━━━━━━━━━━━━━━━━━━━━━━━━━━━━━━━━━━━━━━━━━━━━━━━━━━━━━━━━━┛</span>\n",
       "</pre>\n"
      ],
      "text/plain": [
       "\u001b[32m▰▱▱▱▱▱▱\u001b[0m Thinking...\n",
       "\u001b[36m┏━\u001b[0m\u001b[36m Message \u001b[0m\u001b[36m━━━━━━━━━━━━━━━━━━━━━━━━━━━━━━━━━━━━━━━━━━━━━━━━━━━━━━━━━━━━━━━━━━━━━━━━━━━━━━━━━━━━━━━━━━━━━━━━━━━━━━\u001b[0m\u001b[36m━┓\u001b[0m\n",
       "\u001b[36m┃\u001b[0m                                                                                                                 \u001b[36m┃\u001b[0m\n",
       "\u001b[36m┃\u001b[0m \u001b[32mWhat's the most starred project in 2025?\u001b[0m                                                                        \u001b[36m┃\u001b[0m\n",
       "\u001b[36m┃\u001b[0m                                                                                                                 \u001b[36m┃\u001b[0m\n",
       "\u001b[36m┗━━━━━━━━━━━━━━━━━━━━━━━━━━━━━━━━━━━━━━━━━━━━━━━━━━━━━━━━━━━━━━━━━━━━━━━━━━━━━━━━━━━━━━━━━━━━━━━━━━━━━━━━━━━━━━━━━┛\u001b[0m\n",
       "\u001b[33m┏━\u001b[0m\u001b[33m Tool Calls \u001b[0m\u001b[33m━━━━━━━━━━━━━━━━━━━━━━━━━━━━━━━━━━━━━━━━━━━━━━━━━━━━━━━━━━━━━━━━━━━━━━━━━━━━━━━━━━━━━━━━━━━━━━━━━━━\u001b[0m\u001b[33m━┓\u001b[0m\n",
       "\u001b[33m┃\u001b[0m                                                                                                                 \u001b[33m┃\u001b[0m\n",
       "\u001b[33m┃\u001b[0m • list_tables(database=github, like=%)                                                                          \u001b[33m┃\u001b[0m\n",
       "\u001b[33m┃\u001b[0m • run_select_query(query=SELECT                                                                                 \u001b[33m┃\u001b[0m\n",
       "\u001b[33m┃\u001b[0m     repo_name,                                                                                                  \u001b[33m┃\u001b[0m\n",
       "\u001b[33m┃\u001b[0m     SUM(count) AS stars_2025                                                                                    \u001b[33m┃\u001b[0m\n",
       "\u001b[33m┃\u001b[0m FROM github.repo_events_per_day                                                                                 \u001b[33m┃\u001b[0m\n",
       "\u001b[33m┃\u001b[0m WHERE event_type = 'WatchEvent'                                                                                 \u001b[33m┃\u001b[0m\n",
       "\u001b[33m┃\u001b[0m     AND created_at >= '2025-01-01'                                                                              \u001b[33m┃\u001b[0m\n",
       "\u001b[33m┃\u001b[0m     AND created_at < '2026-01-01'                                                                               \u001b[33m┃\u001b[0m\n",
       "\u001b[33m┃\u001b[0m GROUP BY repo_name                                                                                              \u001b[33m┃\u001b[0m\n",
       "\u001b[33m┃\u001b[0m ORDER BY stars_2025 DESC                                                                                        \u001b[33m┃\u001b[0m\n",
       "\u001b[33m┃\u001b[0m LIMIT 1)                                                                                                        \u001b[33m┃\u001b[0m\n",
       "\u001b[33m┃\u001b[0m                                                                                                                 \u001b[33m┃\u001b[0m\n",
       "\u001b[33m┗━━━━━━━━━━━━━━━━━━━━━━━━━━━━━━━━━━━━━━━━━━━━━━━━━━━━━━━━━━━━━━━━━━━━━━━━━━━━━━━━━━━━━━━━━━━━━━━━━━━━━━━━━━━━━━━━━┛\u001b[0m\n",
       "\u001b[34m┏━\u001b[0m\u001b[34m Response (34.9s) \u001b[0m\u001b[34m━━━━━━━━━━━━━━━━━━━━━━━━━━━━━━━━━━━━━━━━━━━━━━━━━━━━━━━━━━━━━━━━━━━━━━━━━━━━━━━━━━━━━━━━━━━━━\u001b[0m\u001b[34m━┓\u001b[0m\n",
       "\u001b[34m┃\u001b[0m                                                                                                                 \u001b[34m┃\u001b[0m\n",
       "\u001b[34m┃\u001b[0m To answer your question about the most starred project in 2025, I'll need to query the ClickHouse database.     \u001b[34m┃\u001b[0m\n",
       "\u001b[34m┃\u001b[0m However, before I can do that, I need to gather some information and make sure we're looking at the right data. \u001b[34m┃\u001b[0m\n",
       "\u001b[34m┃\u001b[0m Let me check the available databases and tables first.Thank you for providing the list of databases. I can see  \u001b[34m┃\u001b[0m\n",
       "\u001b[34m┃\u001b[0m that there's a \"github\" database, which is likely to contain the information we're looking for. Let's check the \u001b[34m┃\u001b[0m\n",
       "\u001b[34m┃\u001b[0m tables in this database.Now that we have information about the tables in the github database, we can query the  \u001b[34m┃\u001b[0m\n",
       "\u001b[34m┃\u001b[0m relevant data to answer your question about the most starred project in 2025. We'll use the \u001b[1;36;40mrepo_events_per_day\u001b[0m \u001b[34m┃\u001b[0m\n",
       "\u001b[34m┃\u001b[0m table, which contains daily event counts for each repository, including star events (WatchEvents).              \u001b[34m┃\u001b[0m\n",
       "\u001b[34m┃\u001b[0m                                                                                                                 \u001b[34m┃\u001b[0m\n",
       "\u001b[34m┃\u001b[0m Let's create a query to find the most starred project in 2025:Based on the query results, I can answer your     \u001b[34m┃\u001b[0m\n",
       "\u001b[34m┃\u001b[0m question about the most starred project in 2025:                                                                \u001b[34m┃\u001b[0m\n",
       "\u001b[34m┃\u001b[0m                                                                                                                 \u001b[34m┃\u001b[0m\n",
       "\u001b[34m┃\u001b[0m The most starred project in 2025 was \u001b[1mdeepseek-ai/DeepSeek-R1\u001b[0m, which received \u001b[1m84,962 stars\u001b[0m during that year.     \u001b[34m┃\u001b[0m\n",
       "\u001b[34m┃\u001b[0m                                                                                                                 \u001b[34m┃\u001b[0m\n",
       "\u001b[34m┃\u001b[0m This project, DeepSeek-R1, appears to be an AI-related repository from the DeepSeek AI organization. It gained  \u001b[34m┃\u001b[0m\n",
       "\u001b[34m┃\u001b[0m significant attention and popularity among the GitHub community in 2025, earning the highest number of stars    \u001b[34m┃\u001b[0m\n",
       "\u001b[34m┃\u001b[0m for any project during that year.                                                                               \u001b[34m┃\u001b[0m\n",
       "\u001b[34m┃\u001b[0m                                                                                                                 \u001b[34m┃\u001b[0m\n",
       "\u001b[34m┃\u001b[0m It's worth noting that this data is based on the GitHub events recorded in the database, and it represents the  \u001b[34m┃\u001b[0m\n",
       "\u001b[34m┃\u001b[0m stars (WatchEvents) accumulated specifically during the year 2025. The total number of stars for this project   \u001b[34m┃\u001b[0m\n",
       "\u001b[34m┃\u001b[0m might be higher if we consider its entire lifespan.                                                             \u001b[34m┃\u001b[0m\n",
       "\u001b[34m┃\u001b[0m                                                                                                                 \u001b[34m┃\u001b[0m\n",
       "\u001b[34m┗━━━━━━━━━━━━━━━━━━━━━━━━━━━━━━━━━━━━━━━━━━━━━━━━━━━━━━━━━━━━━━━━━━━━━━━━━━━━━━━━━━━━━━━━━━━━━━━━━━━━━━━━━━━━━━━━━┛\u001b[0m\n"
      ]
     },
     "metadata": {},
     "output_type": "display_data"
    },
    {
     "data": {
      "text/html": [
       "<pre style=\"white-space:pre;overflow-x:auto;line-height:normal;font-family:Menlo,'DejaVu Sans Mono',consolas,'Courier New',monospace\"></pre>\n"
      ],
      "text/plain": []
     },
     "metadata": {},
     "output_type": "display_data"
    }
   ],
   "source": [
    "async with MCPTools(command=\"uv run --with mcp-clickhouse --python 3.13 mcp-clickhouse\", env=env, timeout_seconds=60) as mcp_tools:\n",
    "    agent = Agent(\n",
    "        model=Claude(id=\"claude-3-5-sonnet-20240620\"),\n",
    "        markdown=True, \n",
    "        tools = [mcp_tools]\n",
    "    )\n",
    "    await agent.aprint_response(\"What's the most starred project in 2025?\", stream=True)"
   ]
  }
 ],
 "metadata": {
  "kernelspec": {
   "display_name": "Python 3 (ipykernel)",
   "language": "python",
   "name": "python3"
  },
  "language_info": {
   "codemirror_mode": {
    "name": "ipython",
    "version": 3
   },
   "file_extension": ".py",
   "mimetype": "text/x-python",
   "name": "python",
   "nbconvert_exporter": "python",
   "pygments_lexer": "ipython3",
   "version": "3.11.11"
  }
 },
 "nbformat": 4,
 "nbformat_minor": 5
}

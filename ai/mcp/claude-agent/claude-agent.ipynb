{
 "cells": [
  {
   "cell_type": "markdown",
   "id": "f886cd46-352e-46ce-8511-246c322773eb",
   "metadata": {
    "execution": {
     "iopub.execute_input": "2025-10-06T12:30:23.779128Z",
     "iopub.status.busy": "2025-10-06T12:30:23.778380Z",
     "iopub.status.idle": "2025-10-06T12:30:23.785891Z",
     "shell.execute_reply": "2025-10-06T12:30:23.784494Z",
     "shell.execute_reply.started": "2025-10-06T12:30:23.779072Z"
    }
   },
   "source": [
    "# How to build an AI Agent with Claude Agent and the ClickHouse MCP Server"
   ]
  },
  {
   "cell_type": "markdown",
   "id": "74a74fb4-7ed1-4511-bfc4-36446437cf66",
   "metadata": {},
   "source": [
    "## Install libraries"
   ]
  },
  {
   "cell_type": "code",
   "execution_count": null,
   "id": "f2b8ef0c-b495-4a4f-bced-faea6923f733",
   "metadata": {},
   "outputs": [],
   "source": [
    "!pip install claude-agent-sdk"
   ]
  },
  {
   "cell_type": "markdown",
   "id": "a8019941-191b-4008-b003-cf1438e225f1",
   "metadata": {},
   "source": [
    "## Setup credentials\n",
    "Let's provide our Anthropic API key."
   ]
  },
  {
   "cell_type": "code",
   "execution_count": 10,
   "id": "333be629-c94f-4f1f-8b1e-677a0d138e85",
   "metadata": {
    "execution": {
     "iopub.execute_input": "2025-10-06T12:37:33.276992Z",
     "iopub.status.busy": "2025-10-06T12:37:33.276213Z",
     "iopub.status.idle": "2025-10-06T12:37:33.286974Z",
     "shell.execute_reply": "2025-10-06T12:37:33.283208Z",
     "shell.execute_reply.started": "2025-10-06T12:37:33.276926Z"
    }
   },
   "outputs": [],
   "source": [
    "import os, getpass"
   ]
  },
  {
   "cell_type": "code",
   "execution_count": 11,
   "id": "a9e15c27-7c8d-457a-a9c3-a060c08fc7bb",
   "metadata": {
    "execution": {
     "iopub.execute_input": "2025-10-06T12:37:41.590128Z",
     "iopub.status.busy": "2025-10-06T12:37:41.589485Z",
     "iopub.status.idle": "2025-10-06T12:37:43.205889Z",
     "shell.execute_reply": "2025-10-06T12:37:43.205318Z",
     "shell.execute_reply.started": "2025-10-06T12:37:41.590093Z"
    },
    "scrolled": true
   },
   "outputs": [
    {
     "name": "stdin",
     "output_type": "stream",
     "text": [
      "Enter Anthropic API Key: ········\n"
     ]
    }
   ],
   "source": [
    "os.environ[\"ANTHROPIC_API_KEY\"] = getpass.getpass(\"Enter Anthropic API Key:\")"
   ]
  },
  {
   "cell_type": "markdown",
   "id": "737e33c8-b049-4769-b4ef-a241c61f04b3",
   "metadata": {},
   "source": [
    "## Initialize agent\n",
    "\n",
    "Lets configure our agent with the ClickHouse MCP Server."
   ]
  },
  {
   "cell_type": "code",
   "execution_count": 5,
   "id": "eccd6997-0902-4f90-9395-778bd2235b4d",
   "metadata": {
    "execution": {
     "iopub.execute_input": "2025-10-06T12:34:34.774329Z",
     "iopub.status.busy": "2025-10-06T12:34:34.773943Z",
     "iopub.status.idle": "2025-10-06T12:34:35.830456Z",
     "shell.execute_reply": "2025-10-06T12:34:35.830188Z",
     "shell.execute_reply.started": "2025-10-06T12:34:34.774294Z"
    }
   },
   "outputs": [],
   "source": [
    "from claude_agent_sdk import query, ClaudeAgentOptions"
   ]
  },
  {
   "cell_type": "code",
   "execution_count": 7,
   "id": "02535438-b867-4019-9ee7-fad1cfbc11d3",
   "metadata": {
    "execution": {
     "iopub.execute_input": "2025-10-06T12:34:52.996022Z",
     "iopub.status.busy": "2025-10-06T12:34:52.995472Z",
     "iopub.status.idle": "2025-10-06T12:34:53.004168Z",
     "shell.execute_reply": "2025-10-06T12:34:53.002820Z",
     "shell.execute_reply.started": "2025-10-06T12:34:52.995970Z"
    }
   },
   "outputs": [],
   "source": [
    "options = ClaudeAgentOptions(\n",
    "    allowed_tools=[\n",
    "        \"mcp__mcp-clickhouse__list_databases\",\n",
    "        \"mcp__mcp-clickhouse__list_tables\", \n",
    "        \"mcp__mcp-clickhouse__run_select_query\",\n",
    "        \"mcp__mcp-clickhouse__run_chdb_select_query\"\n",
    "    ],\n",
    "    mcp_servers={\n",
    "        \"mcp-clickhouse\": {\n",
    "            \"command\": \"uv\",\n",
    "            \"args\": [\n",
    "                \"run\",\n",
    "                \"--with\", \n",
    "                \"mcp-clickhouse\",\n",
    "                \"--python\",\n",
    "                \"3.10\",\n",
    "                \"mcp-clickhouse\"\n",
    "            ],\n",
    "            \"env\": {\n",
    "                \"CLICKHOUSE_HOST\": \"sql-clickhouse.clickhouse.com\",\n",
    "                \"CLICKHOUSE_PORT\": \"8443\", \n",
    "                \"CLICKHOUSE_USER\": \"demo\",\n",
    "                \"CLICKHOUSE_PASSWORD\": \"\",\n",
    "                \"CLICKHOUSE_SECURE\": \"true\",\n",
    "                \"CLICKHOUSE_VERIFY\": \"true\",\n",
    "                \"CLICKHOUSE_CONNECT_TIMEOUT\": \"30\",\n",
    "                \"CLICKHOUSE_SEND_RECEIVE_TIMEOUT\": \"30\"\n",
    "            }\n",
    "        }\n",
    "    }\n",
    ")"
   ]
  },
  {
   "cell_type": "markdown",
   "id": "011b2199-d144-46a9-a13b-3a172834b9d4",
   "metadata": {},
   "source": [
    "## Run agent\n",
    "Finally, we'll run the agent:"
   ]
  },
  {
   "cell_type": "code",
   "execution_count": 9,
   "id": "7a118603-41bc-4e85-808b-67d3e465d026",
   "metadata": {
    "execution": {
     "iopub.execute_input": "2025-10-06T12:35:11.587097Z",
     "iopub.status.busy": "2025-10-06T12:35:11.585737Z",
     "iopub.status.idle": "2025-10-06T12:36:02.063159Z",
     "shell.execute_reply": "2025-10-06T12:36:02.062196Z",
     "shell.execute_reply.started": "2025-10-06T12:35:11.587055Z"
    }
   },
   "outputs": [
    {
     "name": "stdout",
     "output_type": "stream",
     "text": [
      "SystemMessage(subtype='init', data={'type': 'system', 'subtype': 'init', 'cwd': '/Users/markhneedham/projects/examples/ai/mcp/claude-agent', 'session_id': '1327280d-1631-4bc4-803f-08dee5fce6d1', 'tools': ['Task', 'Bash', 'Glob', 'Grep', 'ExitPlanMode', 'Read', 'Edit', 'Write', 'NotebookEdit', 'WebFetch', 'TodoWrite', 'WebSearch', 'BashOutput', 'KillShell', 'SlashCommand', 'mcp__mcp-clickhouse__list_databases', 'mcp__mcp-clickhouse__list_tables', 'mcp__mcp-clickhouse__run_select_query', 'ListMcpResourcesTool', 'ReadMcpResourceTool'], 'mcp_servers': [{'name': 'mcp-clickhouse', 'status': 'connected'}], 'model': 'claude-sonnet-4-5-20250929', 'permissionMode': 'default', 'slash_commands': ['compact', 'context', 'cost', 'init', 'output-style:new', 'pr-comments', 'release-notes', 'todos', 'review', 'security-review'], 'apiKeySource': 'ANTHROPIC_API_KEY', 'output_style': 'default', 'agents': ['general-purpose', 'statusline-setup', 'output-style-setup'], 'uuid': '63882cfa-6450-4974-a249-37e65bb68ea1'})\n",
      "AssistantMessage(content=[TextBlock(text=\"I'll query the ClickHouse database to find something interesting about UK property sales.\\n\\nLet me start by exploring what databases and tables are available:\")], model='claude-sonnet-4-5-20250929', parent_tool_use_id=None)\n",
      "AssistantMessage(content=[ToolUseBlock(id='toolu_01DQqytuAPpEcoYfbMqFfLNA', name='mcp__mcp-clickhouse__list_databases', input={})], model='claude-sonnet-4-5-20250929', parent_tool_use_id=None)\n",
      "UserMessage(content=[ToolResultBlock(tool_use_id='toolu_01DQqytuAPpEcoYfbMqFfLNA', content=[{'type': 'text', 'text': '[\"amazon\", \"bluesky\", \"country\", \"covid\", \"default\", \"dns\", \"environmental\", \"forex\", \"geo\", \"git\", \"github\", \"hackernews\", \"imdb\", \"logs\", \"metrica\", \"mgbench\", \"mta\", \"noaa\", \"nyc_taxi\", \"nypd\", \"ontime\", \"otel\", \"otel_clickpy\", \"otel_json\", \"otel_v2\", \"pypi\", \"random\", \"rubygems\", \"stackoverflow\", \"star_schema\", \"stock\", \"system\", \"tw_weather\", \"twitter\", \"uk\", \"wiki\", \"words\", \"youtube\"]'}], is_error=None)], parent_tool_use_id=None)\n",
      "AssistantMessage(content=[TextBlock(text='Great! There\\'s a \"uk\" database. Let me see what tables it contains:')], model='claude-sonnet-4-5-20250929', parent_tool_use_id=None)\n",
      "AssistantMessage(content=[ToolUseBlock(id='toolu_01492jAz9G9k2SiYCECBg4RL', name='mcp__mcp-clickhouse__list_tables', input={'database': 'uk'})], model='claude-sonnet-4-5-20250929', parent_tool_use_id=None)\n",
      "UserMessage(content=[ToolResultBlock(tool_use_id='toolu_01492jAz9G9k2SiYCECBg4RL', content=[{'type': 'text', 'text': '[{\"database\":\"uk\",\"name\":\"uk_codes\",\"engine\":\"SharedMergeTree\",\"create_table_query\":\"CREATE TABLE uk.uk_codes (`name` LowCardinality(String), `code` LowCardinality(String)) ENGINE = SharedMergeTree(\\'/clickhouse/tables/{uuid}/{shard}\\', \\'{replica}\\') ORDER BY code SETTINGS index_granularity = 8192\",\"dependencies_database\":[],\"dependencies_table\":[],\"engine_full\":\"SharedMergeTree(\\'/clickhouse/tables/{uuid}/{shard}\\', \\'{replica}\\') ORDER BY code SETTINGS index_granularity = 8192\",\"sorting_key\":\"code\",\"primary_key\":\"code\",\"total_rows\":257,\"total_bytes\":3220,\"total_bytes_uncompressed\":5597,\"parts\":1,\"active_parts\":1,\"total_marks\":2,\"comment\":\"\",\"columns\":[{\"database\":\"uk\",\"table\":\"uk_codes\",\"name\":\"name\",\"column_type\":\"LowCardinality(String)\",\"default_kind\":\"\",\"default_expression\":\"\",\"comment\":\"\"},{\"database\":\"uk\",\"table\":\"uk_codes\",\"name\":\"code\",\"column_type\":\"LowCardinality(String)\",\"default_kind\":\"\",\"default_expression\":\"\",\"comment\":\"\"}]},{\"database\":\"uk\",\"name\":\"uk_postcode_to_iso\",\"engine\":\"SharedMergeTree\",\"create_table_query\":\"CREATE TABLE uk.uk_postcode_to_iso (`postcode` LowCardinality(String), `iso_code` LowCardinality(String)) ENGINE = SharedMergeTree(\\'/clickhouse/tables/{uuid}/{shard}\\', \\'{replica}\\') ORDER BY (postcode, iso_code) SETTINGS index_granularity = 8192\",\"dependencies_database\":[],\"dependencies_table\":[],\"engine_full\":\"SharedMergeTree(\\'/clickhouse/tables/{uuid}/{shard}\\', \\'{replica}\\') ORDER BY (postcode, iso_code) SETTINGS index_granularity = 8192\",\"sorting_key\":\"postcode, iso_code\",\"primary_key\":\"postcode, iso_code\",\"total_rows\":1272836,\"total_bytes\":4892915,\"total_bytes_uncompressed\":14598656,\"parts\":1,\"active_parts\":1,\"total_marks\":157,\"comment\":\"\",\"columns\":[{\"database\":\"uk\",\"table\":\"uk_postcode_to_iso\",\"name\":\"postcode\",\"column_type\":\"LowCardinality(String)\",\"default_kind\":\"\",\"default_expression\":\"\",\"comment\":\"\"},{\"database\":\"uk\",\"table\":\"uk_postcode_to_iso\",\"name\":\"iso_code\",\"column_type\":\"LowCardinality(String)\",\"default_kind\":\"\",\"default_expression\":\"\",\"comment\":\"\"}]},{\"database\":\"uk\",\"name\":\"uk_price_paid\",\"engine\":\"SharedMergeTree\",\"create_table_query\":\"CREATE TABLE uk.uk_price_paid (`price` UInt32, `date` Date, `postcode1` LowCardinality(String), `postcode2` LowCardinality(String), `type` Enum8(\\'other\\' = 0, \\'terraced\\' = 1, \\'semi-detached\\' = 2, \\'detached\\' = 3, \\'flat\\' = 4), `is_new` UInt8, `duration` Enum8(\\'unknown\\' = 0, \\'freehold\\' = 1, \\'leasehold\\' = 2), `addr1` String, `addr2` String, `street` LowCardinality(String), `locality` LowCardinality(String), `town` LowCardinality(String), `district` LowCardinality(String), `county` LowCardinality(String), `category` UInt8) ENGINE = SharedMergeTree(\\'/clickhouse/tables/{uuid}/{shard}\\', \\'{replica}\\') ORDER BY (postcode1, postcode2, addr1, addr2) SETTINGS index_granularity = 8192\",\"dependencies_database\":[],\"dependencies_table\":[],\"engine_full\":\"SharedMergeTree(\\'/clickhouse/tables/{uuid}/{shard}\\', \\'{replica}\\') ORDER BY (postcode1, postcode2, addr1, addr2) SETTINGS index_granularity = 8192\",\"sorting_key\":\"postcode1, postcode2, addr1, addr2\",\"primary_key\":\"postcode1, postcode2, addr1, addr2\",\"total_rows\":30535540,\"total_bytes\":289466522,\"total_bytes_uncompressed\":986760869,\"parts\":1,\"active_parts\":1,\"total_marks\":3729,\"comment\":\"\",\"columns\":[{\"database\":\"uk\",\"table\":\"uk_price_paid\",\"name\":\"price\",\"column_type\":\"UInt32\",\"default_kind\":\"\",\"default_expression\":\"\",\"comment\":\"\"},{\"database\":\"uk\",\"table\":\"uk_price_paid\",\"name\":\"date\",\"column_type\":\"Date\",\"default_kind\":\"\",\"default_expression\":\"\",\"comment\":\"\"},{\"database\":\"uk\",\"table\":\"uk_price_paid\",\"name\":\"postcode1\",\"column_type\":\"LowCardinality(String)\",\"default_kind\":\"\",\"default_expression\":\"\",\"comment\":\"\"},{\"database\":\"uk\",\"table\":\"uk_price_paid\",\"name\":\"postcode2\",\"column_type\":\"LowCardinality(String)\",\"default_kind\":\"\",\"default_expression\":\"\",\"comment\":\"\"},{\"database\":\"uk\",\"table\":\"uk_price_paid\",\"name\":\"type\",\"column_type\":\"Enum8(\\'other\\' = 0, \\'terraced\\' = 1, \\'semi-detached\\' = 2, \\'detached\\' = 3, \\'flat\\' = 4)\",\"default_kind\":\"\",\"default_expression\":\"\",\"comment\":\"\"},{\"database\":\"uk\",\"table\":\"uk_price_paid\",\"name\":\"is_new\",\"column_type\":\"UInt8\",\"default_kind\":\"\",\"default_expression\":\"\",\"comment\":\"\"},{\"database\":\"uk\",\"table\":\"uk_price_paid\",\"name\":\"duration\",\"column_type\":\"Enum8(\\'unknown\\' = 0, \\'freehold\\' = 1, \\'leasehold\\' = 2)\",\"default_kind\":\"\",\"default_expression\":\"\",\"comment\":\"\"},{\"database\":\"uk\",\"table\":\"uk_price_paid\",\"name\":\"addr1\",\"column_type\":\"String\",\"default_kind\":\"\",\"default_expression\":\"\",\"comment\":\"\"},{\"database\":\"uk\",\"table\":\"uk_price_paid\",\"name\":\"addr2\",\"column_type\":\"String\",\"default_kind\":\"\",\"default_expression\":\"\",\"comment\":\"\"},{\"database\":\"uk\",\"table\":\"uk_price_paid\",\"name\":\"street\",\"column_type\":\"LowCardinality(String)\",\"default_kind\":\"\",\"default_expression\":\"\",\"comment\":\"\"},{\"database\":\"uk\",\"table\":\"uk_price_paid\",\"name\":\"locality\",\"column_type\":\"LowCardinality(String)\",\"default_kind\":\"\",\"default_expression\":\"\",\"comment\":\"\"},{\"database\":\"uk\",\"table\":\"uk_price_paid\",\"name\":\"town\",\"column_type\":\"LowCardinality(String)\",\"default_kind\":\"\",\"default_expression\":\"\",\"comment\":\"\"},{\"database\":\"uk\",\"table\":\"uk_price_paid\",\"name\":\"district\",\"column_type\":\"LowCardinality(String)\",\"default_kind\":\"\",\"default_expression\":\"\",\"comment\":\"\"},{\"database\":\"uk\",\"table\":\"uk_price_paid\",\"name\":\"county\",\"column_type\":\"LowCardinality(String)\",\"default_kind\":\"\",\"default_expression\":\"\",\"comment\":\"\"},{\"database\":\"uk\",\"table\":\"uk_price_paid\",\"name\":\"category\",\"column_type\":\"UInt8\",\"default_kind\":\"\",\"default_expression\":\"\",\"comment\":\"\"}]},{\"database\":\"uk\",\"name\":\"uk_price_paid_oby_town_price\",\"engine\":\"SharedMergeTree\",\"create_table_query\":\"CREATE TABLE uk.uk_price_paid_oby_town_price (`price` UInt32, `date` Date, `postcode1` LowCardinality(String), `postcode2` LowCardinality(String), `type` Enum8(\\'other\\' = 0, \\'terraced\\' = 1, \\'semi-detached\\' = 2, \\'detached\\' = 3, \\'flat\\' = 4), `is_new` UInt8, `duration` Enum8(\\'unknown\\' = 0, \\'freehold\\' = 1, \\'leasehold\\' = 2), `addr1` String, `addr2` String, `street` LowCardinality(String), `locality` LowCardinality(String), `town` LowCardinality(String), `district` LowCardinality(String), `county` LowCardinality(String), `category` UInt8) ENGINE = SharedMergeTree(\\'/clickhouse/tables/{uuid}/{shard}\\', \\'{replica}\\') ORDER BY (town, price) SETTINGS index_granularity = 8192\",\"dependencies_database\":[],\"dependencies_table\":[],\"engine_full\":\"SharedMergeTree(\\'/clickhouse/tables/{uuid}/{shard}\\', \\'{replica}\\') ORDER BY (town, price) SETTINGS index_granularity = 8192\",\"sorting_key\":\"town, price\",\"primary_key\":\"town, price\",\"total_rows\":30535540,\"total_bytes\":333298694,\"total_bytes_uncompressed\":1129607880,\"parts\":1,\"active_parts\":1,\"total_marks\":3729,\"comment\":\"\",\"columns\":[{\"database\":\"uk\",\"table\":\"uk_price_paid_oby_town_price\",\"name\":\"price\",\"column_type\":\"UInt32\",\"default_kind\":\"\",\"default_expression\":\"\",\"comment\":\"\"},{\"database\":\"uk\",\"table\":\"uk_price_paid_oby_town_price\",\"name\":\"date\",\"column_type\":\"Date\",\"default_kind\":\"\",\"default_expression\":\"\",\"comment\":\"\"},{\"database\":\"uk\",\"table\":\"uk_price_paid_oby_town_price\",\"name\":\"postcode1\",\"column_type\":\"LowCardinality(String)\",\"default_kind\":\"\",\"default_expression\":\"\",\"comment\":\"\"},{\"database\":\"uk\",\"table\":\"uk_price_paid_oby_town_price\",\"name\":\"postcode2\",\"column_type\":\"LowCardinality(String)\",\"default_kind\":\"\",\"default_expression\":\"\",\"comment\":\"\"},{\"database\":\"uk\",\"table\":\"uk_price_paid_oby_town_price\",\"name\":\"type\",\"column_type\":\"Enum8(\\'other\\' = 0, \\'terraced\\' = 1, \\'semi-detached\\' = 2, \\'detached\\' = 3, \\'flat\\' = 4)\",\"default_kind\":\"\",\"default_expression\":\"\",\"comment\":\"\"},{\"database\":\"uk\",\"table\":\"uk_price_paid_oby_town_price\",\"name\":\"is_new\",\"column_type\":\"UInt8\",\"default_kind\":\"\",\"default_expression\":\"\",\"comment\":\"\"},{\"database\":\"uk\",\"table\":\"uk_price_paid_oby_town_price\",\"name\":\"duration\",\"column_type\":\"Enum8(\\'unknown\\' = 0, \\'freehold\\' = 1, \\'leasehold\\' = 2)\",\"default_kind\":\"\",\"default_expression\":\"\",\"comment\":\"\"},{\"database\":\"uk\",\"table\":\"uk_price_paid_oby_town_price\",\"name\":\"addr1\",\"column_type\":\"String\",\"default_kind\":\"\",\"default_expression\":\"\",\"comment\":\"\"},{\"database\":\"uk\",\"table\":\"uk_price_paid_oby_town_price\",\"name\":\"addr2\",\"column_type\":\"String\",\"default_kind\":\"\",\"default_expression\":\"\",\"comment\":\"\"},{\"database\":\"uk\",\"table\":\"uk_price_paid_oby_town_price\",\"name\":\"street\",\"column_type\":\"LowCardinality(String)\",\"default_kind\":\"\",\"default_expression\":\"\",\"comment\":\"\"},{\"database\":\"uk\",\"table\":\"uk_price_paid_oby_town_price\",\"name\":\"locality\",\"column_type\":\"LowCardinality(String)\",\"default_kind\":\"\",\"default_expression\":\"\",\"comment\":\"\"},{\"database\":\"uk\",\"table\":\"uk_price_paid_oby_town_price\",\"name\":\"town\",\"column_type\":\"LowCardinality(String)\",\"default_kind\":\"\",\"default_expression\":\"\",\"comment\":\"\"},{\"database\":\"uk\",\"table\":\"uk_price_paid_oby_town_price\",\"name\":\"district\",\"column_type\":\"LowCardinality(String)\",\"default_kind\":\"\",\"default_expression\":\"\",\"comment\":\"\"},{\"database\":\"uk\",\"table\":\"uk_price_paid_oby_town_price\",\"name\":\"county\",\"column_type\":\"LowCardinality(String)\",\"default_kind\":\"\",\"default_expression\":\"\",\"comment\":\"\"},{\"database\":\"uk\",\"table\":\"uk_price_paid_oby_town_price\",\"name\":\"category\",\"column_type\":\"UInt8\",\"default_kind\":\"\",\"default_expression\":\"\",\"comment\":\"\"}]},{\"database\":\"uk\",\"name\":\"uk_price_paid_simple\",\"engine\":\"SharedMergeTree\",\"create_table_query\":\"CREATE TABLE uk.uk_price_paid_simple (`date` Date, `town` LowCardinality(String), `street` LowCardinality(String), `price` UInt32) ENGINE = SharedMergeTree(\\'/clickhouse/tables/{uuid}/{shard}\\', \\'{replica}\\') ORDER BY (town, street) SETTINGS index_granularity_bytes = 0, min_bytes_for_wide_part = 0, min_rows_for_wide_part = 1, index_granularity = 8192\",\"dependencies_database\":[],\"dependencies_table\":[],\"engine_full\":\"SharedMergeTree(\\'/clickhouse/tables/{uuid}/{shard}\\', \\'{replica}\\') ORDER BY (town, street) SETTINGS index_granularity_bytes = 0, min_bytes_for_wide_part = 0, min_rows_for_wide_part = 1, index_granularity = 8192\",\"sorting_key\":\"town, street\",\"primary_key\":\"town, street\",\"total_rows\":30212555,\"total_bytes\":148706908,\"total_bytes_uncompressed\":547435649,\"parts\":1,\"active_parts\":1,\"total_marks\":3689,\"comment\":\"\",\"columns\":[{\"database\":\"uk\",\"table\":\"uk_price_paid_simple\",\"name\":\"date\",\"column_type\":\"Date\",\"default_kind\":\"\",\"default_expression\":\"\",\"comment\":\"\"},{\"database\":\"uk\",\"table\":\"uk_price_paid_simple\",\"name\":\"town\",\"column_type\":\"LowCardinality(String)\",\"default_kind\":\"\",\"default_expression\":\"\",\"comment\":\"\"},{\"database\":\"uk\",\"table\":\"uk_price_paid_simple\",\"name\":\"street\",\"column_type\":\"LowCardinality(String)\",\"default_kind\":\"\",\"default_expression\":\"\",\"comment\":\"\"},{\"database\":\"uk\",\"table\":\"uk_price_paid_simple\",\"name\":\"price\",\"column_type\":\"UInt32\",\"default_kind\":\"\",\"default_expression\":\"\",\"comment\":\"\"}]},{\"database\":\"uk\",\"name\":\"uk_price_paid_simple_partitioned\",\"engine\":\"SharedMergeTree\",\"create_table_query\":\"CREATE TABLE uk.uk_price_paid_simple_partitioned (`date` Date, `town` LowCardinality(String), `street` LowCardinality(String), `price` UInt32) ENGINE = SharedMergeTree(\\'/clickhouse/tables/{uuid}/{shard}\\', \\'{replica}\\') PARTITION BY toStartOfMonth(date) ORDER BY (town, street) SETTINGS index_granularity = 8192\",\"dependencies_database\":[],\"dependencies_table\":[],\"engine_full\":\"SharedMergeTree(\\'/clickhouse/tables/{uuid}/{shard}\\', \\'{replica}\\') PARTITION BY toStartOfMonth(date) ORDER BY (town, street) SETTINGS index_granularity = 8192\",\"sorting_key\":\"town, street\",\"primary_key\":\"town, street\",\"total_rows\":30535540,\"total_bytes\":329953543,\"total_bytes_uncompressed\":821455490,\"parts\":444,\"active_parts\":444,\"total_marks\":4408,\"comment\":\"\",\"columns\":[{\"database\":\"uk\",\"table\":\"uk_price_paid_simple_partitioned\",\"name\":\"date\",\"column_type\":\"Date\",\"default_kind\":\"\",\"default_expression\":\"\",\"comment\":\"\"},{\"database\":\"uk\",\"table\":\"uk_price_paid_simple_partitioned\",\"name\":\"town\",\"column_type\":\"LowCardinality(String)\",\"default_kind\":\"\",\"default_expression\":\"\",\"comment\":\"\"},{\"database\":\"uk\",\"table\":\"uk_price_paid_simple_partitioned\",\"name\":\"street\",\"column_type\":\"LowCardinality(String)\",\"default_kind\":\"\",\"default_expression\":\"\",\"comment\":\"\"},{\"database\":\"uk\",\"table\":\"uk_price_paid_simple_partitioned\",\"name\":\"price\",\"column_type\":\"UInt32\",\"default_kind\":\"\",\"default_expression\":\"\",\"comment\":\"\"}]},{\"database\":\"uk\",\"name\":\"uk_price_paid_synthetic\",\"engine\":\"SharedMergeTree\",\"create_table_query\":\"CREATE TABLE uk.uk_price_paid_synthetic (`price` UInt32, `date` Date, `postcode1` LowCardinality(String), `postcode2` LowCardinality(String), `type` Enum8(\\'other\\' = 0, \\'terraced\\' = 1, \\'semi-detached\\' = 2, \\'detached\\' = 3, \\'flat\\' = 4), `is_new` UInt8, `duration` Enum8(\\'unknown\\' = 0, \\'freehold\\' = 1, \\'leasehold\\' = 2), `addr1` String, `addr2` String, `street` LowCardinality(String), `locality` LowCardinality(String), `town` LowCardinality(String), `district` LowCardinality(String), `county` LowCardinality(String), `category` UInt8, PROJECTION date_projection (SELECT * ORDER BY date)) ENGINE = SharedMergeTree(\\'/clickhouse/tables/{uuid}/{shard}\\', \\'{replica}\\') ORDER BY (postcode1, town, district) SETTINGS index_granularity = 8192\",\"dependencies_database\":[\"houseclick\",\"houseclick\",\"houseclick\"],\"dependencies_table\":[\"mv_price_paid_monthly\",\"mv_price_paid_type\",\"mv_price_paid_yearly\"],\"engine_full\":\"SharedMergeTree(\\'/clickhouse/tables/{uuid}/{shard}\\', \\'{replica}\\') ORDER BY (postcode1, town, district) SETTINGS index_granularity = 8192\",\"sorting_key\":\"postcode1, town, district\",\"primary_key\":\"postcode1, town, district\",\"total_rows\":2953837807,\"total_bytes\":22090248380,\"total_bytes_uncompressed\":107553467165,\"parts\":1,\"active_parts\":1,\"total_marks\":360586,\"comment\":\"\",\"columns\":[{\"database\":\"uk\",\"table\":\"uk_price_paid_synthetic\",\"name\":\"price\",\"column_type\":\"UInt32\",\"default_kind\":\"\",\"default_expression\":\"\",\"comment\":\"\"},{\"database\":\"uk\",\"table\":\"uk_price_paid_synthetic\",\"name\":\"date\",\"column_type\":\"Date\",\"default_kind\":\"\",\"default_expression\":\"\",\"comment\":\"\"},{\"database\":\"uk\",\"table\":\"uk_price_paid_synthetic\",\"name\":\"postcode1\",\"column_type\":\"LowCardinality(String)\",\"default_kind\":\"\",\"default_expression\":\"\",\"comment\":\"\"},{\"database\":\"uk\",\"table\":\"uk_price_paid_synthetic\",\"name\":\"postcode2\",\"column_type\":\"LowCardinality(String)\",\"default_kind\":\"\",\"default_expression\":\"\",\"comment\":\"\"},{\"database\":\"uk\",\"table\":\"uk_price_paid_synthetic\",\"name\":\"type\",\"column_type\":\"Enum8(\\'other\\' = 0, \\'terraced\\' = 1, \\'semi-detached\\' = 2, \\'detached\\' = 3, \\'flat\\' = 4)\",\"default_kind\":\"\",\"default_expression\":\"\",\"comment\":\"\"},{\"database\":\"uk\",\"table\":\"uk_price_paid_synthetic\",\"name\":\"is_new\",\"column_type\":\"UInt8\",\"default_kind\":\"\",\"default_expression\":\"\",\"comment\":\"\"},{\"database\":\"uk\",\"table\":\"uk_price_paid_synthetic\",\"name\":\"duration\",\"column_type\":\"Enum8(\\'unknown\\' = 0, \\'freehold\\' = 1, \\'leasehold\\' = 2)\",\"default_kind\":\"\",\"default_expression\":\"\",\"comment\":\"\"},{\"database\":\"uk\",\"table\":\"uk_price_paid_synthetic\",\"name\":\"addr1\",\"column_type\":\"String\",\"default_kind\":\"\",\"default_expression\":\"\",\"comment\":\"\"},{\"database\":\"uk\",\"table\":\"uk_price_paid_synthetic\",\"name\":\"addr2\",\"column_type\":\"String\",\"default_kind\":\"\",\"default_expression\":\"\",\"comment\":\"\"},{\"database\":\"uk\",\"table\":\"uk_price_paid_synthetic\",\"name\":\"street\",\"column_type\":\"LowCardinality(String)\",\"default_kind\":\"\",\"default_expression\":\"\",\"comment\":\"\"},{\"database\":\"uk\",\"table\":\"uk_price_paid_synthetic\",\"name\":\"locality\",\"column_type\":\"LowCardinality(String)\",\"default_kind\":\"\",\"default_expression\":\"\",\"comment\":\"\"},{\"database\":\"uk\",\"table\":\"uk_price_paid_synthetic\",\"name\":\"town\",\"column_type\":\"LowCardinality(String)\",\"default_kind\":\"\",\"default_expression\":\"\",\"comment\":\"\"},{\"database\":\"uk\",\"table\":\"uk_price_paid_synthetic\",\"name\":\"district\",\"column_type\":\"LowCardinality(String)\",\"default_kind\":\"\",\"default_expression\":\"\",\"comment\":\"\"},{\"database\":\"uk\",\"table\":\"uk_price_paid_synthetic\",\"name\":\"county\",\"column_type\":\"LowCardinality(String)\",\"default_kind\":\"\",\"default_expression\":\"\",\"comment\":\"\"},{\"database\":\"uk\",\"table\":\"uk_price_paid_synthetic\",\"name\":\"category\",\"column_type\":\"UInt8\",\"default_kind\":\"\",\"default_expression\":\"\",\"comment\":\"\"}]},{\"database\":\"uk\",\"name\":\"uk_price_paid_with_projections\",\"engine\":\"SharedMergeTree\",\"create_table_query\":\"CREATE TABLE uk.uk_price_paid_with_projections (`price` UInt32, `date` Date, `postcode1` LowCardinality(String), `postcode2` LowCardinality(String), `type` Enum8(\\'other\\' = 0, \\'terraced\\' = 1, \\'semi-detached\\' = 2, \\'detached\\' = 3, \\'flat\\' = 4), `is_new` UInt8, `duration` Enum8(\\'unknown\\' = 0, \\'freehold\\' = 1, \\'leasehold\\' = 2), `addr1` String, `addr2` String, `street` LowCardinality(String), `locality` LowCardinality(String), `town` LowCardinality(String), `district` LowCardinality(String), `county` LowCardinality(String), `category` UInt8, PROJECTION prj_gby_county (SELECT county, avg(price) GROUP BY county), PROJECTION prj_obj_town_price (SELECT * ORDER BY town, price)) ENGINE = SharedMergeTree(\\'/clickhouse/tables/{uuid}/{shard}\\', \\'{replica}\\') ORDER BY (postcode1, postcode2, addr1, addr2) SETTINGS index_granularity = 8192\",\"dependencies_database\":[],\"dependencies_table\":[],\"engine_full\":\"SharedMergeTree(\\'/clickhouse/tables/{uuid}/{shard}\\', \\'{replica}\\') ORDER BY (postcode1, postcode2, addr1, addr2) SETTINGS index_granularity = 8192\",\"sorting_key\":\"postcode1, postcode2, addr1, addr2\",\"primary_key\":\"postcode1, postcode2, addr1, addr2\",\"total_rows\":30033199,\"total_bytes\":516024760,\"total_bytes_uncompressed\":971324561,\"parts\":1,\"active_parts\":1,\"total_marks\":3667,\"comment\":\"\",\"columns\":[{\"database\":\"uk\",\"table\":\"uk_price_paid_with_projections\",\"name\":\"price\",\"column_type\":\"UInt32\",\"default_kind\":\"\",\"default_expression\":\"\",\"comment\":\"\"},{\"database\":\"uk\",\"table\":\"uk_price_paid_with_projections\",\"name\":\"date\",\"column_type\":\"Date\",\"default_kind\":\"\",\"default_expression\":\"\",\"comment\":\"\"},{\"database\":\"uk\",\"table\":\"uk_price_paid_with_projections\",\"name\":\"postcode1\",\"column_type\":\"LowCardinality(String)\",\"default_kind\":\"\",\"default_expression\":\"\",\"comment\":\"\"},{\"database\":\"uk\",\"table\":\"uk_price_paid_with_projections\",\"name\":\"postcode2\",\"column_type\":\"LowCardinality(String)\",\"default_kind\":\"\",\"default_expression\":\"\",\"comment\":\"\"},{\"database\":\"uk\",\"table\":\"uk_price_paid_with_projections\",\"name\":\"type\",\"column_type\":\"Enum8(\\'other\\' = 0, \\'terraced\\' = 1, \\'semi-detached\\' = 2, \\'detached\\' = 3, \\'flat\\' = 4)\",\"default_kind\":\"\",\"default_expression\":\"\",\"comment\":\"\"},{\"database\":\"uk\",\"table\":\"uk_price_paid_with_projections\",\"name\":\"is_new\",\"column_type\":\"UInt8\",\"default_kind\":\"\",\"default_expression\":\"\",\"comment\":\"\"},{\"database\":\"uk\",\"table\":\"uk_price_paid_with_projections\",\"name\":\"duration\",\"column_type\":\"Enum8(\\'unknown\\' = 0, \\'freehold\\' = 1, \\'leasehold\\' = 2)\",\"default_kind\":\"\",\"default_expression\":\"\",\"comment\":\"\"},{\"database\":\"uk\",\"table\":\"uk_price_paid_with_projections\",\"name\":\"addr1\",\"column_type\":\"String\",\"default_kind\":\"\",\"default_expression\":\"\",\"comment\":\"\"},{\"database\":\"uk\",\"table\":\"uk_price_paid_with_projections\",\"name\":\"addr2\",\"column_type\":\"String\",\"default_kind\":\"\",\"default_expression\":\"\",\"comment\":\"\"},{\"database\":\"uk\",\"table\":\"uk_price_paid_with_projections\",\"name\":\"street\",\"column_type\":\"LowCardinality(String)\",\"default_kind\":\"\",\"default_expression\":\"\",\"comment\":\"\"},{\"database\":\"uk\",\"table\":\"uk_price_paid_with_projections\",\"name\":\"locality\",\"column_type\":\"LowCardinality(String)\",\"default_kind\":\"\",\"default_expression\":\"\",\"comment\":\"\"},{\"database\":\"uk\",\"table\":\"uk_price_paid_with_projections\",\"name\":\"town\",\"column_type\":\"LowCardinality(String)\",\"default_kind\":\"\",\"default_expression\":\"\",\"comment\":\"\"},{\"database\":\"uk\",\"table\":\"uk_price_paid_with_projections\",\"name\":\"district\",\"column_type\":\"LowCardinality(String)\",\"default_kind\":\"\",\"default_expression\":\"\",\"comment\":\"\"},{\"database\":\"uk\",\"table\":\"uk_price_paid_with_projections\",\"name\":\"county\",\"column_type\":\"LowCardinality(String)\",\"default_kind\":\"\",\"default_expression\":\"\",\"comment\":\"\"},{\"database\":\"uk\",\"table\":\"uk_price_paid_with_projections\",\"name\":\"category\",\"column_type\":\"UInt8\",\"default_kind\":\"\",\"default_expression\":\"\",\"comment\":\"\"}]},{\"database\":\"uk\",\"name\":\"uk_price_paid_with_projections_v2\",\"engine\":\"SharedMergeTree\",\"create_table_query\":\"CREATE TABLE uk.uk_price_paid_with_projections_v2 (`price` UInt32, `date` Date, `postcode1` LowCardinality(String), `postcode2` LowCardinality(String), `type` Enum8(\\'other\\' = 0, \\'terraced\\' = 1, \\'semi-detached\\' = 2, \\'detached\\' = 3, \\'flat\\' = 4), `is_new` UInt8, `duration` Enum8(\\'unknown\\' = 0, \\'freehold\\' = 1, \\'leasehold\\' = 2), `addr1` String, `addr2` String, `street` LowCardinality(String), `locality` LowCardinality(String), `town` LowCardinality(String), `district` LowCardinality(String), `county` LowCardinality(String), `category` UInt8, PROJECTION projection_by_year_district_town (SELECT toYear(date), district, town, avg(price), sum(price), count() GROUP BY toYear(date), district, town)) ENGINE = SharedMergeTree(\\'/clickhouse/tables/{uuid}/{shard}\\', \\'{replica}\\') ORDER BY (postcode1, postcode2, addr1, addr2) SETTINGS index_granularity = 8192\",\"dependencies_database\":[],\"dependencies_table\":[],\"engine_full\":\"SharedMergeTree(\\'/clickhouse/tables/{uuid}/{shard}\\', \\'{replica}\\') ORDER BY (postcode1, postcode2, addr1, addr2) SETTINGS index_granularity = 8192\",\"sorting_key\":\"postcode1, postcode2, addr1, addr2\",\"primary_key\":\"postcode1, postcode2, addr1, addr2\",\"total_rows\":30033199,\"total_bytes\":201299622,\"total_bytes_uncompressed\":971324561,\"parts\":1,\"active_parts\":1,\"total_marks\":3667,\"comment\":\"\",\"columns\":[{\"database\":\"uk\",\"table\":\"uk_price_paid_with_projections_v2\",\"name\":\"price\",\"column_type\":\"UInt32\",\"default_kind\":\"\",\"default_expression\":\"\",\"comment\":\"\"},{\"database\":\"uk\",\"table\":\"uk_price_paid_with_projections_v2\",\"name\":\"date\",\"column_type\":\"Date\",\"default_kind\":\"\",\"default_expression\":\"\",\"comment\":\"\"},{\"database\":\"uk\",\"table\":\"uk_price_paid_with_projections_v2\",\"name\":\"postcode1\",\"column_type\":\"LowCardinality(String)\",\"default_kind\":\"\",\"default_expression\":\"\",\"comment\":\"\"},{\"database\":\"uk\",\"table\":\"uk_price_paid_with_projections_v2\",\"name\":\"postcode2\",\"column_type\":\"LowCardinality(String)\",\"default_kind\":\"\",\"default_expression\":\"\",\"comment\":\"\"},{\"database\":\"uk\",\"table\":\"uk_price_paid_with_projections_v2\",\"name\":\"type\",\"column_type\":\"Enum8(\\'other\\' = 0, \\'terraced\\' = 1, \\'semi-detached\\' = 2, \\'detached\\' = 3, \\'flat\\' = 4)\",\"default_kind\":\"\",\"default_expression\":\"\",\"comment\":\"\"},{\"database\":\"uk\",\"table\":\"uk_price_paid_with_projections_v2\",\"name\":\"is_new\",\"column_type\":\"UInt8\",\"default_kind\":\"\",\"default_expression\":\"\",\"comment\":\"\"},{\"database\":\"uk\",\"table\":\"uk_price_paid_with_projections_v2\",\"name\":\"duration\",\"column_type\":\"Enum8(\\'unknown\\' = 0, \\'freehold\\' = 1, \\'leasehold\\' = 2)\",\"default_kind\":\"\",\"default_expression\":\"\",\"comment\":\"\"},{\"database\":\"uk\",\"table\":\"uk_price_paid_with_projections_v2\",\"name\":\"addr1\",\"column_type\":\"String\",\"default_kind\":\"\",\"default_expression\":\"\",\"comment\":\"\"},{\"database\":\"uk\",\"table\":\"uk_price_paid_with_projections_v2\",\"name\":\"addr2\",\"column_type\":\"String\",\"default_kind\":\"\",\"default_expression\":\"\",\"comment\":\"\"},{\"database\":\"uk\",\"table\":\"uk_price_paid_with_projections_v2\",\"name\":\"street\",\"column_type\":\"LowCardinality(String)\",\"default_kind\":\"\",\"default_expression\":\"\",\"comment\":\"\"},{\"database\":\"uk\",\"table\":\"uk_price_paid_with_projections_v2\",\"name\":\"locality\",\"column_type\":\"LowCardinality(String)\",\"default_kind\":\"\",\"default_expression\":\"\",\"comment\":\"\"},{\"database\":\"uk\",\"table\":\"uk_price_paid_with_projections_v2\",\"name\":\"town\",\"column_type\":\"LowCardinality(String)\",\"default_kind\":\"\",\"default_expression\":\"\",\"comment\":\"\"},{\"database\":\"uk\",\"table\":\"uk_price_paid_with_projections_v2\",\"name\":\"district\",\"column_type\":\"LowCardinality(String)\",\"default_kind\":\"\",\"default_expression\":\"\",\"comment\":\"\"},{\"database\":\"uk\",\"table\":\"uk_price_paid_with_projections_v2\",\"name\":\"county\",\"column_type\":\"LowCardinality(String)\",\"default_kind\":\"\",\"default_expression\":\"\",\"comment\":\"\"},{\"database\":\"uk\",\"table\":\"uk_price_paid_with_projections_v2\",\"name\":\"category\",\"column_type\":\"UInt8\",\"default_kind\":\"\",\"default_expression\":\"\",\"comment\":\"\"}]}]'}], is_error=None)], parent_tool_use_id=None)\n",
      "AssistantMessage(content=[TextBlock(text=\"Perfect! There's a `uk_price_paid` table with over 30 million property sales records. Let me find something interesting:\")], model='claude-sonnet-4-5-20250929', parent_tool_use_id=None)\n",
      "AssistantMessage(content=[ToolUseBlock(id='toolu_01HB4SC9jp3pgJzPzJbjDCGt', name='mcp__mcp-clickhouse__run_select_query', input={'query': \"\\nSELECT \\n    town,\\n    street,\\n    formatReadableQuantity(count()) as sales,\\n    formatReadablePrice(avg(price)) as avg_price\\nFROM uk.uk_price_paid\\nWHERE street != ''\\nGROUP BY town, street\\nORDER BY count() DESC\\nLIMIT 10\\n\"})], model='claude-sonnet-4-5-20250929', parent_tool_use_id=None)\n",
      "UserMessage(content=[ToolResultBlock(tool_use_id='toolu_01HB4SC9jp3pgJzPzJbjDCGt', content=\"Query execution failed: Received ClickHouse exception, code: 46, server response: Code: 46. DB::Exception: Function with name `formatReadablePrice` does not exist. In scope SELECT town, street, formatReadableQuantity(count()) AS sales, formatReadablePrice(avg(price)) AS avg_price FROM uk.uk_price_paid WHERE street != '' GROUP BY town, street ORDER BY count() DESC LIMIT 10. Maybe you meant: ['formatReadableSize','formatReadableQuantity']. (UNKNOWN_FUNCTION) (version 25.8.1.8344 (official build)) (for url https://sql-clickhouse.clickhouse.com:8443)\", is_error=True)], parent_tool_use_id=None)\n",
      "AssistantMessage(content=[ToolUseBlock(id='toolu_015wbnxctLzEKC2JRACa1c5m', name='mcp__mcp-clickhouse__run_select_query', input={'query': \"\\nSELECT \\n    town,\\n    street,\\n    formatReadableQuantity(count()) as sales,\\n    concat('£', formatReadableQuantity(round(avg(price)))) as avg_price\\nFROM uk.uk_price_paid\\nWHERE street != ''\\nGROUP BY town, street\\nORDER BY count() DESC\\nLIMIT 10\\n\"})], model='claude-sonnet-4-5-20250929', parent_tool_use_id=None)\n",
      "UserMessage(content=[ToolResultBlock(tool_use_id='toolu_015wbnxctLzEKC2JRACa1c5m', content=[{'type': 'text', 'text': '{\"columns\":[\"town\",\"street\",\"sales\",\"avg_price\"],\"rows\":[[\"CAMBRIDGE\",\"HIGH STREET\",\"4.59 thousand\",\"£343.64 thousand\"],[\"LONDON\",\"HIGH ROAD\",\"4.13 thousand\",\"£452.37 thousand\"],[\"LONDON\",\"HIGH STREET\",\"3.68 thousand\",\"£439.76 thousand\"],[\"LONDON\",\"FINCHLEY ROAD\",\"3.65 thousand\",\"£447.03 thousand\"],[\"NORWICH\",\"THE STREET\",\"3.65 thousand\",\"£240.97 thousand\"],[\"YORK\",\"MAIN STREET\",\"3.62 thousand\",\"£320.89 thousand\"],[\"BEDFORD\",\"HIGH STREET\",\"3.53 thousand\",\"£281.26 thousand\"],[\"BRISTOL\",\"HIGH STREET\",\"3.39 thousand\",\"£236.88 thousand\"],[\"BOURNEMOUTH\",\"CHRISTCHURCH ROAD\",\"3.38 thousand\",\"£161.70 thousand\"],[\"LONDON\",\"QUEENSTOWN ROAD\",\"3.35 thousand\",\"£550.86 thousand\"]]}'}], is_error=None)], parent_tool_use_id=None)\n",
      "AssistantMessage(content=[TextBlock(text='Here\\'s something interesting about UK property sales:\\n\\n**High Street in Cambridge has had the most property sales of any street in the UK** - with over 4,590 sales recorded in the database! The average price on that street is around £344,000.\\n\\nThis is followed by High Road in London with 4,130 sales (avg £452k) and High Street in London with 3,680 sales (avg £440k).\\n\\nWhat\\'s particularly interesting is that generic street names like \"High Street,\" \"High Road,\" \"The Street,\" and \"Main Street\" dominate the top 10 most-sold streets - these common names appear across many UK towns and cities, which is why they accumulate so many total sales transactions.')], model='claude-sonnet-4-5-20250929', parent_tool_use_id=None)\n",
      "ResultMessage(subtype='success', duration_ms=43303, duration_api_ms=39714, is_error=False, num_turns=12, session_id='1327280d-1631-4bc4-803f-08dee5fce6d1', total_cost_usd=0.11057945, usage={'input_tokens': 30, 'cache_creation_input_tokens': 19849, 'cache_read_input_tokens': 87877, 'output_tokens': 625, 'server_tool_use': {'web_search_requests': 0}, 'service_tier': 'standard', 'cache_creation': {'ephemeral_1h_input_tokens': 0, 'ephemeral_5m_input_tokens': 19849}}, result='Here\\'s something interesting about UK property sales:\\n\\n**High Street in Cambridge has had the most property sales of any street in the UK** - with over 4,590 sales recorded in the database! The average price on that street is around £344,000.\\n\\nThis is followed by High Road in London with 4,130 sales (avg £452k) and High Street in London with 3,680 sales (avg £440k).\\n\\nWhat\\'s particularly interesting is that generic street names like \"High Street,\" \"High Road,\" \"The Street,\" and \"Main Street\" dominate the top 10 most-sold streets - these common names appear across many UK towns and cities, which is why they accumulate so many total sales transactions.')\n"
     ]
    }
   ],
   "source": [
    "async for message in query(prompt=\"Tell me something interesting about UK property sales\", options=options):\n",
    "    print(message)"
   ]
  }
 ],
 "metadata": {
  "kernelspec": {
   "display_name": "Python 3 (ipykernel)",
   "language": "python",
   "name": "python3"
  },
  "language_info": {
   "codemirror_mode": {
    "name": "ipython",
    "version": 3
   },
   "file_extension": ".py",
   "mimetype": "text/x-python",
   "name": "python",
   "nbconvert_exporter": "python",
   "pygments_lexer": "ipython3",
   "version": "3.12.0"
  }
 },
 "nbformat": 4,
 "nbformat_minor": 5
}

{
 "cells": [
  {
   "cell_type": "markdown",
   "id": "aa06f8c3-e13f-4f03-97a0-8565699ae34a",
   "metadata": {
    "execution": {
     "iopub.execute_input": "2025-05-29T12:39:00.824020Z",
     "iopub.status.busy": "2025-05-29T12:39:00.823521Z",
     "iopub.status.idle": "2025-05-29T12:39:00.829370Z",
     "shell.execute_reply": "2025-05-29T12:39:00.828238Z",
     "shell.execute_reply.started": "2025-05-29T12:39:00.823981Z"
    }
   },
   "source": [
    "# How to build an AI Agent with LangChain and the ClickHouse MCP Server\n",
    "\n",
    "In this notebook we'll see how to build a [LangChain/LangGraph](https://github.com/langchain-ai/langgraph) AI agent that can interact with [ClickHouse's SQL playground](https://sql.clickhouse.com/) using [ClickHouse's MCP Server](https://github.com/ClickHouse/mcp-clickhouse)."
   ]
  },
  {
   "cell_type": "markdown",
   "id": "1bf3a5a9-9d68-4591-aad1-7c8855a3cc8c",
   "metadata": {},
   "source": [
    "## Install libraries\n",
    "We need to install LangChain and Anthropic, as we'll be using that as our LLM."
   ]
  },
  {
   "cell_type": "code",
   "execution_count": null,
   "id": "cb744032-3e34-4970-bcd2-96321009dd13",
   "metadata": {},
   "outputs": [],
   "source": [
    "!pip install -q --upgrade pip"
   ]
  },
  {
   "cell_type": "code",
   "execution_count": 2,
   "id": "96b3bbf6-68f3-4f6f-bf0b-5b7861748250",
   "metadata": {
    "execution": {
     "iopub.execute_input": "2025-05-29T12:41:44.540620Z",
     "iopub.status.busy": "2025-05-29T12:41:44.540110Z",
     "iopub.status.idle": "2025-05-29T12:41:58.386830Z",
     "shell.execute_reply": "2025-05-29T12:41:58.386284Z",
     "shell.execute_reply.started": "2025-05-29T12:41:44.540590Z"
    }
   },
   "outputs": [
    {
     "name": "stdout",
     "output_type": "stream",
     "text": [
      "\u001b[31mERROR: pip's dependency resolver does not currently take into account all the packages that are installed. This behaviour is the source of the following dependency conflicts.\n",
      "ollama 0.1.6 requires httpx<0.26.0,>=0.25.2, but you have httpx 0.28.1 which is incompatible.\u001b[0m\u001b[31m\n",
      "\u001b[0m"
     ]
    }
   ],
   "source": [
    "!pip install -q langchain-mcp-adapters\n",
    "!pip install -q langgraph \n",
    "!pip install -q \"langchain[anthropic]\""
   ]
  },
  {
   "cell_type": "markdown",
   "id": "600ccc86-83c1-4b81-a105-4b031da79607",
   "metadata": {},
   "source": [
    "## Setup credentials\n",
    "Let's provide our Anthropic API key."
   ]
  },
  {
   "cell_type": "code",
   "execution_count": 56,
   "id": "7dd9d57e-448c-4ab2-a947-a461d76176b1",
   "metadata": {
    "execution": {
     "iopub.execute_input": "2025-05-29T13:52:54.013776Z",
     "iopub.status.busy": "2025-05-29T13:52:54.013391Z",
     "iopub.status.idle": "2025-05-29T13:52:54.017338Z",
     "shell.execute_reply": "2025-05-29T13:52:54.016538Z",
     "shell.execute_reply.started": "2025-05-29T13:52:54.013754Z"
    }
   },
   "outputs": [],
   "source": [
    "import os, getpass"
   ]
  },
  {
   "cell_type": "code",
   "execution_count": 12,
   "id": "06f52279-865d-4fef-92b7-d9743473f466",
   "metadata": {
    "execution": {
     "iopub.execute_input": "2025-05-29T12:47:02.291059Z",
     "iopub.status.busy": "2025-05-29T12:47:02.290880Z",
     "iopub.status.idle": "2025-05-29T12:47:04.555725Z",
     "shell.execute_reply": "2025-05-29T12:47:04.555223Z",
     "shell.execute_reply.started": "2025-05-29T12:47:02.291043Z"
    }
   },
   "outputs": [
    {
     "name": "stdout",
     "output_type": "stream",
     "text": [
      "Enter Anthropic API Key: ········\n"
     ]
    }
   ],
   "source": [
    "os.environ[\"ANTHROPIC_API_KEY\"] = getpass.getpass(\"Enter Anthropic API Key:\")"
   ]
  },
  {
   "cell_type": "markdown",
   "id": "bc2812b1-1ee9-4669-bfb1-ffabaeb3d597",
   "metadata": {},
   "source": [
    "## Initialize MCP Server\n",
    "\n",
    "Lets configure the ClickHouse MCP Server to point at the ClickHouse SQL playground"
   ]
  },
  {
   "cell_type": "code",
   "execution_count": null,
   "id": "604f8463-a67a-4e92-9186-f12000f5a70a",
   "metadata": {},
   "outputs": [],
   "source": [
    "from mcp import ClientSession, StdioServerParameters\n",
    "from mcp.client.stdio import stdio_client"
   ]
  },
  {
   "cell_type": "code",
   "execution_count": 59,
   "id": "d4e82aa0-ac52-48ff-bb6e-ac5bd24f369e",
   "metadata": {
    "execution": {
     "iopub.execute_input": "2025-05-29T15:26:41.680289Z",
     "iopub.status.busy": "2025-05-29T15:26:41.680115Z",
     "iopub.status.idle": "2025-05-29T15:26:41.682731Z",
     "shell.execute_reply": "2025-05-29T15:26:41.682276Z",
     "shell.execute_reply.started": "2025-05-29T15:26:41.680277Z"
    }
   },
   "outputs": [],
   "source": [
    "server_params = StdioServerParameters(\n",
    "    command=\"uv\", \n",
    "    args=[\n",
    "        \"run\", \n",
    "        \"--with\", \"mcp-clickhouse\",\n",
    "        \"--python\", \"3.13\", \n",
    "        \"mcp-clickhouse\"\n",
    "    ],\n",
    "    env={\n",
    "            \"CLICKHOUSE_HOST\": \"sql-clickhouse.clickhouse.com\",\n",
    "            \"CLICKHOUSE_PORT\": \"8443\",\n",
    "            \"CLICKHOUSE_USER\": \"demo\",\n",
    "            \"CLICKHOUSE_PASSWORD\": \"\",\n",
    "            \"CLICKHOUSE_SECURE\": \"true\"\n",
    "        }    \n",
    ")"
   ]
  },
  {
   "cell_type": "markdown",
   "id": "c659b7d4-299e-4a9c-a038-08540bf17be7",
   "metadata": {},
   "source": [
    "## Stream handler\n",
    "Next, let's configure a handler for the streamed output so that it's a bit easier to consume"
   ]
  },
  {
   "cell_type": "code",
   "execution_count": 60,
   "id": "5eb17514-d8b2-4bab-a836-86eda14e86f0",
   "metadata": {
    "execution": {
     "iopub.execute_input": "2025-05-29T15:26:43.801380Z",
     "iopub.status.busy": "2025-05-29T15:26:43.801229Z",
     "iopub.status.idle": "2025-05-29T15:26:43.805886Z",
     "shell.execute_reply": "2025-05-29T15:26:43.805454Z",
     "shell.execute_reply.started": "2025-05-29T15:26:43.801367Z"
    }
   },
   "outputs": [],
   "source": [
    "class UltraCleanStreamHandler:\n",
    "    def __init__(self):\n",
    "        self.buffer = \"\"\n",
    "        self.in_text_generation = False\n",
    "        self.last_was_tool = False\n",
    "        \n",
    "    def handle_chunk(self, chunk):\n",
    "        event = chunk.get(\"event\", \"\")\n",
    "        \n",
    "        if event == \"on_chat_model_stream\":\n",
    "            data = chunk.get(\"data\", {})\n",
    "            chunk_data = data.get(\"chunk\", {})\n",
    "            \n",
    "            # Only handle actual text content, skip tool invocation streams\n",
    "            if hasattr(chunk_data, 'content'):\n",
    "                content = chunk_data.content\n",
    "                if isinstance(content, str) and not content.startswith('{\"'):\n",
    "                    # Add space after tool completion if needed\n",
    "                    if self.last_was_tool:\n",
    "                        print(\" \", end=\"\", flush=True)\n",
    "                        self.last_was_tool = False\n",
    "                    print(content, end=\"\", flush=True)\n",
    "                    self.in_text_generation = True\n",
    "                elif isinstance(content, list):\n",
    "                    for item in content:\n",
    "                        if (isinstance(item, dict) and \n",
    "                            item.get('type') == 'text' and \n",
    "                            'partial_json' not in str(item)):\n",
    "                            text = item.get('text', '')\n",
    "                            if text and not text.startswith('{\"'):\n",
    "                                # Add space after tool completion if needed\n",
    "                                if self.last_was_tool:\n",
    "                                    print(\" \", end=\"\", flush=True)\n",
    "                                    self.last_was_tool = False\n",
    "                                print(text, end=\"\", flush=True)\n",
    "                                self.in_text_generation = True\n",
    "                                \n",
    "        elif event == \"on_tool_start\":\n",
    "            if self.in_text_generation:\n",
    "                print(f\"\\n🔧 {chunk.get('name', 'tool')}\", end=\"\", flush=True)\n",
    "                self.in_text_generation = False\n",
    "                \n",
    "        elif event == \"on_tool_end\":\n",
    "            print(\" ✅\", end=\"\", flush=True)\n",
    "            self.last_was_tool = True"
   ]
  },
  {
   "cell_type": "markdown",
   "id": "7278ef24-cb35-4132-97da-2ba7188b81c3",
   "metadata": {},
   "source": [
    "## Call agent\n",
    "\n",
    "Finally, let's call our agent and ask it who's committed the most code to ClickHouse"
   ]
  },
  {
   "cell_type": "code",
   "execution_count": 61,
   "id": "e34b1885-5732-46f4-947b-7db173e868f6",
   "metadata": {
    "execution": {
     "iopub.execute_input": "2025-05-29T15:26:46.614632Z",
     "iopub.status.busy": "2025-05-29T15:26:46.614471Z",
     "iopub.status.idle": "2025-05-29T15:27:21.092551Z",
     "shell.execute_reply": "2025-05-29T15:27:21.092294Z",
     "shell.execute_reply.started": "2025-05-29T15:26:46.614621Z"
    }
   },
   "outputs": [
    {
     "name": "stdout",
     "output_type": "stream",
     "text": [
      "I'll help you find who has committed the most code to ClickHouse by exploring the available databases and tables to locate git commit data.\n",
      "🔧 list_databases ✅ I can see there's a `git` database which likely contains git commit information. Let me explore the tables in that database:\n",
      "🔧 list_tables ✅ Perfect! I can see the `clickhouse_commits` table in the git database contains ClickHouse commit data with 80,644 commits. This table has information about each commit including the author, lines added/deleted, files modified, etc. Let me query this table to find who has committed the most code based on different metrics.\n",
      "🔧 run_select_query ✅ Let me also look at just the lines added to see who has contributed the most new code:\n",
      "🔧 run_select_query ✅ Based on the ClickHouse git commit data, **Alexey Milovidov** has committed the most code to ClickHouse by several measures:\n",
      "\n",
      "## Key Statistics:\n",
      "\n",
      "1. **Most Total Lines Changed**: Alexey Milovidov with **1,696,929 total lines changed** (853,049 added + 843,880 deleted)\n",
      "2. **Most Lines Added**: Alexey Milovidov with **853,049 lines added**\n",
      "3. **Most Commits**: Alexey Milovidov with **15,375 commits**\n",
      "4. **Most Files Changed**: Alexey Milovidov with **73,529 files changed**\n",
      "\n",
      "## Top Contributors by Lines Added:\n",
      "\n",
      "1. **Alexey Milovidov**: 853,049 lines added (15,375 commits)\n",
      "2. **s-kat**: 541,609 lines added (50 commits) \n",
      "3. **Nikolai Kochetov**: 219,020 lines added (4,218 commits)\n",
      "4. **alesapin**: 193,566 lines added (4,783 commits)\n",
      "5. **Vitaly Baranov**: 168,807 lines added (1,152 commits)\n",
      "\n",
      "Alexey Milovidov is clearly the most prolific contributor to ClickHouse, which makes sense as he is one of the original creators and lead developers of the project. His contribution dwarfs others both in terms of total code volume and number of commits, with nearly 16,000 commits and over 850,000 lines of code added to the project.\n",
      "\n"
     ]
    }
   ],
   "source": [
    "async with stdio_client(server_params) as (read, write):\n",
    "    async with ClientSession(read, write) as session:\n",
    "        await session.initialize()\n",
    "        tools = await load_mcp_tools(session)\n",
    "        agent = create_react_agent(\"anthropic:claude-sonnet-4-0\", tools)\n",
    "        \n",
    "        handler = UltraCleanStreamHandler()        \n",
    "        async for chunk in agent.astream_events(\n",
    "            {\"messages\": [{\"role\": \"user\", \"content\": \"Who's committed the most code to ClickHouse?\"}]}, \n",
    "            version=\"v1\"\n",
    "        ):\n",
    "            handler.handle_chunk(chunk)\n",
    "            \n",
    "        print(\"\\n\")"
   ]
  }
 ],
 "metadata": {
  "kernelspec": {
   "display_name": "Python 3 (ipykernel)",
   "language": "python",
   "name": "python3"
  },
  "language_info": {
   "codemirror_mode": {
    "name": "ipython",
    "version": 3
   },
   "file_extension": ".py",
   "mimetype": "text/x-python",
   "name": "python",
   "nbconvert_exporter": "python",
   "pygments_lexer": "ipython3",
   "version": "3.11.11"
  }
 },
 "nbformat": 4,
 "nbformat_minor": 5
}

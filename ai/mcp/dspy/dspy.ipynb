{
 "cells": [
  {
   "cell_type": "markdown",
   "id": "aa06f8c3-e13f-4f03-97a0-8565699ae34a",
   "metadata": {
    "execution": {
     "iopub.execute_input": "2025-05-29T12:39:00.824020Z",
     "iopub.status.busy": "2025-05-29T12:39:00.823521Z",
     "iopub.status.idle": "2025-05-29T12:39:00.829370Z",
     "shell.execute_reply": "2025-05-29T12:39:00.828238Z",
     "shell.execute_reply.started": "2025-05-29T12:39:00.823981Z"
    }
   },
   "source": [
    "# How to build an AI Agent with DSPy and the ClickHouse MCP Server\n",
    "\n",
    "In this notebook we'll see how to build an [DSPy](https://dspy.ai/tutorials/mcp/) AI agent that can interact with [ClickHouse's SQL playground](https://sql.clickhouse.com/) using [ClickHouse's MCP Server](https://github.com/ClickHouse/mcp-clickhouse).\n"
   ]
  },
  {
   "cell_type": "markdown",
   "id": "1bf3a5a9-9d68-4591-aad1-7c8855a3cc8c",
   "metadata": {},
   "source": [
    "## Install libraries\n",
    "We need to install the DSPy library."
   ]
  },
  {
   "cell_type": "code",
   "execution_count": null,
   "id": "cb744032-3e34-4970-bcd2-96321009dd13",
   "metadata": {},
   "outputs": [],
   "source": [
    "!pip install -q --upgrade pip"
   ]
  },
  {
   "cell_type": "code",
   "execution_count": 1,
   "id": "96b3bbf6-68f3-4f6f-bf0b-5b7861748250",
   "metadata": {
    "execution": {
     "iopub.execute_input": "2025-05-30T10:21:53.672587Z",
     "iopub.status.busy": "2025-05-30T10:21:53.671984Z",
     "iopub.status.idle": "2025-05-30T10:22:03.048359Z",
     "shell.execute_reply": "2025-05-30T10:22:03.047759Z",
     "shell.execute_reply.started": "2025-05-30T10:21:53.672546Z"
    }
   },
   "outputs": [],
   "source": [
    "!pip install -q dspy\n",
    "!pip install -q mcp"
   ]
  },
  {
   "cell_type": "markdown",
   "id": "600ccc86-83c1-4b81-a105-4b031da79607",
   "metadata": {},
   "source": [
    "## Setup credentials\n",
    "Let's provide our Anthropic API key."
   ]
  },
  {
   "cell_type": "code",
   "execution_count": 15,
   "id": "7dd9d57e-448c-4ab2-a947-a461d76176b1",
   "metadata": {
    "execution": {
     "iopub.execute_input": "2025-05-30T10:26:08.534981Z",
     "iopub.status.busy": "2025-05-30T10:26:08.534753Z",
     "iopub.status.idle": "2025-05-30T10:26:08.537307Z",
     "shell.execute_reply": "2025-05-30T10:26:08.536781Z",
     "shell.execute_reply.started": "2025-05-30T10:26:08.534965Z"
    }
   },
   "outputs": [],
   "source": [
    "import os, getpass"
   ]
  },
  {
   "cell_type": "code",
   "execution_count": 16,
   "id": "06f52279-865d-4fef-92b7-d9743473f466",
   "metadata": {
    "execution": {
     "iopub.execute_input": "2025-05-30T10:26:10.001336Z",
     "iopub.status.busy": "2025-05-30T10:26:10.000844Z",
     "iopub.status.idle": "2025-05-30T10:26:10.492984Z",
     "shell.execute_reply": "2025-05-30T10:26:10.492241Z",
     "shell.execute_reply.started": "2025-05-30T10:26:10.001310Z"
    }
   },
   "outputs": [
    {
     "name": "stdout",
     "output_type": "stream",
     "text": [
      "Enter Anthropic API Key: ········\n"
     ]
    }
   ],
   "source": [
    "os.environ[\"ANTHROPIC_API_KEY\"] = getpass.getpass(\"Enter Anthropic API Key:\")"
   ]
  },
  {
   "cell_type": "markdown",
   "id": "4498c1b8-b762-45a1-9165-55957f2cecad",
   "metadata": {
    "execution": {
     "iopub.execute_input": "2025-05-29T14:29:32.100459Z",
     "iopub.status.busy": "2025-05-29T14:29:32.100270Z",
     "iopub.status.idle": "2025-05-29T14:29:32.103177Z",
     "shell.execute_reply": "2025-05-29T14:29:32.102622Z",
     "shell.execute_reply.started": "2025-05-29T14:29:32.100446Z"
    }
   },
   "source": [
    "We'll also define the credentials to connect to the ClickHouse SQL playground:"
   ]
  },
  {
   "cell_type": "code",
   "execution_count": 3,
   "id": "6845f3db-8f6a-41c3-bae9-6c4c1b6bde1e",
   "metadata": {
    "execution": {
     "iopub.execute_input": "2025-05-30T10:22:33.865266Z",
     "iopub.status.busy": "2025-05-30T10:22:33.864596Z",
     "iopub.status.idle": "2025-05-30T10:22:33.871091Z",
     "shell.execute_reply": "2025-05-30T10:22:33.869848Z",
     "shell.execute_reply.started": "2025-05-30T10:22:33.865228Z"
    }
   },
   "outputs": [],
   "source": [
    "env = {\n",
    "    \"CLICKHOUSE_HOST\": \"sql-clickhouse.clickhouse.com\",\n",
    "    \"CLICKHOUSE_PORT\": \"8443\",\n",
    "    \"CLICKHOUSE_USER\": \"demo\",\n",
    "    \"CLICKHOUSE_PASSWORD\": \"\",\n",
    "    \"CLICKHOUSE_SECURE\": \"true\"\n",
    "}"
   ]
  },
  {
   "cell_type": "markdown",
   "id": "bc2812b1-1ee9-4669-bfb1-ffabaeb3d597",
   "metadata": {},
   "source": [
    "## Initialize MCP Server\n",
    "\n",
    "Lets configure the ClickHouse MCP Server to point at the ClickHouse SQL playground."
   ]
  },
  {
   "cell_type": "code",
   "execution_count": 18,
   "id": "5b93d2b7-4191-4817-834b-2ac36a9668bf",
   "metadata": {
    "execution": {
     "iopub.execute_input": "2025-05-30T10:27:21.439438Z",
     "iopub.status.busy": "2025-05-30T10:27:21.438825Z",
     "iopub.status.idle": "2025-05-30T10:27:21.444666Z",
     "shell.execute_reply": "2025-05-30T10:27:21.443589Z",
     "shell.execute_reply.started": "2025-05-30T10:27:21.439401Z"
    }
   },
   "outputs": [],
   "source": [
    "from mcp import ClientSession, StdioServerParameters\n",
    "from mcp.client.stdio import stdio_client\n",
    "import dspy"
   ]
  },
  {
   "cell_type": "code",
   "execution_count": 29,
   "id": "dc8d0461-9fb2-425f-aaf7-b4130be2edac",
   "metadata": {
    "execution": {
     "iopub.execute_input": "2025-05-30T09:33:50.738073Z",
     "iopub.status.busy": "2025-05-30T09:33:50.737008Z",
     "iopub.status.idle": "2025-05-30T09:33:50.745092Z",
     "shell.execute_reply": "2025-05-30T09:33:50.743782Z",
     "shell.execute_reply.started": "2025-05-30T09:33:50.738032Z"
    }
   },
   "outputs": [],
   "source": [
    "server_parameters = StdioServerParameters(\n",
    "    command=\"uv\",\n",
    "    args=[\n",
    "        'run',\n",
    "        '--with', 'mcp-clickhouse',\n",
    "        '--python', '3.13',\n",
    "        'mcp-clickhouse'\n",
    "    ],\n",
    "    env=env\n",
    ")"
   ]
  },
  {
   "cell_type": "markdown",
   "id": "1ccd5149-7620-4f0a-8412-1bcd4fdab736",
   "metadata": {
    "execution": {
     "iopub.execute_input": "2025-05-30T09:32:49.150121Z",
     "iopub.status.busy": "2025-05-30T09:32:49.149048Z",
     "iopub.status.idle": "2025-05-30T09:32:49.156159Z",
     "shell.execute_reply": "2025-05-30T09:32:49.155106Z",
     "shell.execute_reply.started": "2025-05-30T09:32:49.149703Z"
    }
   },
   "source": [
    "## Initialize LLM\n",
    "Next, let's initialize our Claude Sonnet model"
   ]
  },
  {
   "cell_type": "code",
   "execution_count": 11,
   "id": "36c2ce73-4de7-41db-a72d-503c436afb6f",
   "metadata": {
    "execution": {
     "iopub.execute_input": "2025-05-30T10:25:53.561040Z",
     "iopub.status.busy": "2025-05-30T10:25:53.560410Z",
     "iopub.status.idle": "2025-05-30T10:25:53.566943Z",
     "shell.execute_reply": "2025-05-30T10:25:53.565819Z",
     "shell.execute_reply.started": "2025-05-30T10:25:53.561003Z"
    }
   },
   "outputs": [],
   "source": [
    "dspy.configure(lm=dspy.LM(\"anthropic/claude-sonnet-4-20250514\"))"
   ]
  },
  {
   "cell_type": "markdown",
   "id": "4bd60825-a974-418a-8df3-98951aa07b6f",
   "metadata": {},
   "source": [
    "## Run agent\n",
    "Finally, we'll initialize and run the agent:"
   ]
  },
  {
   "cell_type": "code",
   "execution_count": 19,
   "id": "743f667b-bae1-4706-b56c-a50690f27823",
   "metadata": {
    "execution": {
     "iopub.execute_input": "2025-05-30T10:27:31.094698Z",
     "iopub.status.busy": "2025-05-30T10:27:31.094258Z",
     "iopub.status.idle": "2025-05-30T10:27:31.100689Z",
     "shell.execute_reply": "2025-05-30T10:27:31.099877Z",
     "shell.execute_reply.started": "2025-05-30T10:27:31.094669Z"
    }
   },
   "outputs": [],
   "source": [
    "import dspy\n",
    "\n",
    "class DataAnalyst(dspy.Signature):\n",
    "    \"\"\"You are a data analyst. You'll be asked questions and you need to try to answer them using the tools you have access to. \"\"\"\n",
    "\n",
    "    user_request: str = dspy.InputField()\n",
    "    process_result: str = dspy.OutputField(\n",
    "        desc=(\n",
    "            \"Answer to the query\"\n",
    "        )\n",
    "    )"
   ]
  },
  {
   "cell_type": "code",
   "execution_count": 17,
   "id": "91714f2c-e63a-496d-9f72-6b62513b805c",
   "metadata": {
    "execution": {
     "iopub.execute_input": "2025-05-30T10:26:14.094510Z",
     "iopub.status.busy": "2025-05-30T10:26:14.093543Z",
     "iopub.status.idle": "2025-05-30T10:26:42.341410Z",
     "shell.execute_reply": "2025-05-30T10:26:42.340867Z",
     "shell.execute_reply.started": "2025-05-30T10:26:14.094474Z"
    }
   },
   "outputs": [
    {
     "name": "stdout",
     "output_type": "stream",
     "text": [
      "3\n",
      "[Tool(name=list_databases, desc=List available ClickHouse databases, args={'args': {}, 'kwargs': {}}), Tool(name=list_tables, desc=List available ClickHouse tables in a database, including schema, comment,\n",
      "row count, and column count., args={'database': {'title': 'Database', 'type': 'string'}, 'like': {'default': None, 'title': 'Like', 'type': 'string'}}), Tool(name=run_select_query, desc=Run a SELECT query in a ClickHouse database, args={'query': {'title': 'Query', 'type': 'string'}})]\n",
      "{'args': {}, 'kwargs': {}}\n",
      "Prediction(\n",
      "    trajectory={'thought_0': \"I need to find information about Amazon product categories and determine which one is most popular. First, I should explore what databases are available to see if there's any Amazon-related data.\", 'tool_name_0': 'list_databases', 'tool_args_0': {}, 'observation_0': 'amazon\\nbluesky\\ncountry\\ncovid\\ndefault\\ndns\\nenvironmental\\nfood\\nforex\\ngeo\\ngit\\ngithub\\nhackernews\\nimdb\\nlogs\\nmetrica\\nmgbench\\nmta\\nnoaa\\nnyc_taxi\\nnypd\\nontime\\nopensky\\notel\\notel_v2\\npypi\\nrandom\\nreddit\\nrubygems\\nstackoverflow\\nstar_schema\\nstock\\nsystem\\ntw_weather\\ntwitter\\nuk\\nwiki\\nwords\\nyoutube', 'thought_1': 'Great! I can see there\\'s an \"amazon\" database available. This is exactly what I need to find information about Amazon product categories. Let me explore the tables in the amazon database to see what data is available.', 'tool_name_1': 'list_tables', 'tool_args_1': {'database': 'amazon'}, 'observation_1': '{\\n  \"database\": \"amazon\",\\n  \"name\": \"amazon_reviews\",\\n  \"comment\": \"\",\\n  \"columns\": [\\n    {\\n      \"name\": \"review_date\",\\n      \"type\": \"Date\",\\n      \"default_type\": \"\",\\n      \"default_expression\": \"\",\\n      \"comment\": \"\",\\n      \"codec_expression\": \"\",\\n      \"ttl_expression\": \"\"\\n    },\\n    {\\n      \"name\": \"marketplace\",\\n      \"type\": \"LowCardinality(String)\",\\n      \"default_type\": \"\",\\n      \"default_expression\": \"\",\\n      \"comment\": \"\",\\n      \"codec_expression\": \"\",\\n      \"ttl_expression\": \"\"\\n    },\\n    {\\n      \"name\": \"customer_id\",\\n      \"type\": \"UInt64\",\\n      \"default_type\": \"\",\\n      \"default_expression\": \"\",\\n      \"comment\": \"\",\\n      \"codec_expression\": \"\",\\n      \"ttl_expression\": \"\"\\n    },\\n    {\\n      \"name\": \"review_id\",\\n      \"type\": \"String\",\\n      \"default_type\": \"\",\\n      \"default_expression\": \"\",\\n      \"comment\": \"\",\\n      \"codec_expression\": \"\",\\n      \"ttl_expression\": \"\"\\n    },\\n    {\\n      \"name\": \"product_id\",\\n      \"type\": \"String\",\\n      \"default_type\": \"\",\\n      \"default_expression\": \"\",\\n      \"comment\": \"\",\\n      \"codec_expression\": \"\",\\n      \"ttl_expression\": \"\"\\n    },\\n    {\\n      \"name\": \"product_parent\",\\n      \"type\": \"UInt64\",\\n      \"default_type\": \"\",\\n      \"default_expression\": \"\",\\n      \"comment\": \"\",\\n      \"codec_expression\": \"\",\\n      \"ttl_expression\": \"\"\\n    },\\n    {\\n      \"name\": \"product_title\",\\n      \"type\": \"String\",\\n      \"default_type\": \"\",\\n      \"default_expression\": \"\",\\n      \"comment\": \"\",\\n      \"codec_expression\": \"\",\\n      \"ttl_expression\": \"\"\\n    },\\n    {\\n      \"name\": \"product_category\",\\n      \"type\": \"LowCardinality(String)\",\\n      \"default_type\": \"\",\\n      \"default_expression\": \"\",\\n      \"comment\": \"\",\\n      \"codec_expression\": \"\",\\n      \"ttl_expression\": \"\"\\n    },\\n    {\\n      \"name\": \"star_rating\",\\n      \"type\": \"UInt8\",\\n      \"default_type\": \"\",\\n      \"default_expression\": \"\",\\n      \"comment\": \"\",\\n      \"codec_expression\": \"\",\\n      \"ttl_expression\": \"\"\\n    },\\n    {\\n      \"name\": \"helpful_votes\",\\n      \"type\": \"UInt32\",\\n      \"default_type\": \"\",\\n      \"default_expression\": \"\",\\n      \"comment\": \"\",\\n      \"codec_expression\": \"\",\\n      \"ttl_expression\": \"\"\\n    },\\n    {\\n      \"name\": \"total_votes\",\\n      \"type\": \"UInt32\",\\n      \"default_type\": \"\",\\n      \"default_expression\": \"\",\\n      \"comment\": \"\",\\n      \"codec_expression\": \"\",\\n      \"ttl_expression\": \"\"\\n    },\\n    {\\n      \"name\": \"vine\",\\n      \"type\": \"Bool\",\\n      \"default_type\": \"\",\\n      \"default_expression\": \"\",\\n      \"comment\": \"\",\\n      \"codec_expression\": \"\",\\n      \"ttl_expression\": \"\"\\n    },\\n    {\\n      \"name\": \"verified_purchase\",\\n      \"type\": \"Bool\",\\n      \"default_type\": \"\",\\n      \"default_expression\": \"\",\\n      \"comment\": \"\",\\n      \"codec_expression\": \"\",\\n      \"ttl_expression\": \"\"\\n    },\\n    {\\n      \"name\": \"review_headline\",\\n      \"type\": \"String\",\\n      \"default_type\": \"\",\\n      \"default_expression\": \"\",\\n      \"comment\": \"\",\\n      \"codec_expression\": \"\",\\n      \"ttl_expression\": \"\"\\n    },\\n    {\\n      \"name\": \"review_body\",\\n      \"type\": \"String\",\\n      \"default_type\": \"\",\\n      \"default_expression\": \"\",\\n      \"comment\": \"\",\\n      \"codec_expression\": \"\",\\n      \"ttl_expression\": \"\"\\n    }\\n  ],\\n  \"create_table_query\": \"CREATE TABLE amazon.amazon_reviews\\\\\\\\n(\\\\\\\\n    `review_date` Date,\\\\\\\\n    `marketplace` LowCardinality(String),\\\\\\\\n    `customer_id` UInt64,\\\\\\\\n    `review_id` String,\\\\\\\\n    `product_id` String,\\\\\\\\n    `product_parent` UInt64,\\\\\\\\n    `product_title` String,\\\\\\\\n    `product_category` LowCardinality(String),\\\\\\\\n    `star_rating` UInt8,\\\\\\\\n    `helpful_votes` UInt32,\\\\\\\\n    `total_votes` UInt32,\\\\\\\\n    `vine` Bool,\\\\\\\\n    `verified_purchase` Bool,\\\\\\\\n    `review_headline` String,\\\\\\\\n    `review_body` String\\\\\\\\n)\\\\\\\\nENGINE = SharedMergeTree(\\\\\\\\\\'/clickhouse/tables/{uuid}/{shard}\\\\\\\\\\', \\\\\\\\\\'{replica}\\\\\\\\\\')\\\\\\\\nORDER BY (review_date, product_category)\\\\\\\\nSETTINGS index_granularity = 8192\",\\n  \"row_count\": 150957260,\\n  \"column_count\": 15\\n}', 'thought_2': 'Perfect! I found the amazon_reviews table which contains a product_category column. This table has over 150 million rows of Amazon review data, which should give me a good representation of product popularity. To find the most popular Amazon product category, I need to count the number of reviews per category and order them by count in descending order. The category with the most reviews would be considered the most popular.', 'tool_name_2': 'run_select_query', 'tool_args_2': {'query': 'SELECT product_category, COUNT(*) as review_count FROM amazon.amazon_reviews GROUP BY product_category ORDER BY review_count DESC LIMIT 10'}, 'observation_2': ['{\\n  \"product_category\": \"Books\",\\n  \"review_count\": 19530930\\n}', '{\\n  \"product_category\": \"Digital_Ebook_Purchase\",\\n  \"review_count\": 17622107\\n}', '{\\n  \"product_category\": \"Wireless\",\\n  \"review_count\": 9001567\\n}', '{\\n  \"product_category\": \"PC\",\\n  \"review_count\": 6908245\\n}', '{\\n  \"product_category\": \"Home\",\\n  \"review_count\": 6221321\\n}', '{\\n  \"product_category\": \"Apparel\",\\n  \"review_count\": 5906085\\n}', '{\\n  \"product_category\": \"Health & Personal Care\",\\n  \"review_count\": 5331239\\n}', '{\\n  \"product_category\": \"Beauty\",\\n  \"review_count\": 5115462\\n}', '{\\n  \"product_category\": \"Video DVD\",\\n  \"review_count\": 5069014\\n}', '{\\n  \"product_category\": \"Mobile_Apps\",\\n  \"review_count\": 5033164\\n}'], 'thought_3': 'Perfect! I have found the answer to the user\\'s question. Based on the Amazon reviews data, I can clearly see that \"Books\" is the most popular Amazon product category with 19,530,930 reviews, followed by \"Digital_Ebook_Purchase\" with 17,622,107 reviews. The data shows a clear ranking of product categories by popularity based on the number of reviews each category has received. I now have all the information needed to answer the user\\'s question.', 'tool_name_3': 'finish', 'tool_args_3': {}, 'observation_3': 'Completed.'},\n",
      "    reasoning='To answer the question about the most popular Amazon product category, I accessed the Amazon database and found a table called \"amazon_reviews\" with over 150 million review records. This table contains a \"product_category\" column that allows me to analyze product popularity based on review volume. I ran a query to count the number of reviews per product category and ordered them by count in descending order. The assumption here is that categories with more reviews indicate higher popularity, as more reviews typically correlate with more purchases and customer engagement.',\n",
      "    process_result=\"Based on Amazon review data containing over 150 million records, the most popular Amazon product category is **Books** with 19,530,930 reviews. \\n\\nHere are the top 10 most popular Amazon product categories by review count:\\n\\n1. **Books** - 19,530,930 reviews\\n2. **Digital_Ebook_Purchase** - 17,622,107 reviews  \\n3. **Wireless** - 9,001,567 reviews\\n4. **PC** - 6,908,245 reviews\\n5. **Home** - 6,221,321 reviews\\n6. **Apparel** - 5,906,085 reviews\\n7. **Health & Personal Care** - 5,331,239 reviews\\n8. **Beauty** - 5,115,462 reviews\\n9. **Video DVD** - 5,069,014 reviews\\n10. **Mobile_Apps** - 5,033,164 reviews\\n\\nIt's interesting to note that Books and Digital Ebook Purchase (which are related categories) together account for over 37 million reviews, showing the strong popularity of reading materials on Amazon's platform.\"\n",
      ")\n"
     ]
    }
   ],
   "source": [
    "async with stdio_client(server_params) as (read, write):\n",
    "    async with ClientSession(read, write) as session:\n",
    "        # Initialize the connection\n",
    "        await session.initialize()\n",
    "        # List available tools\n",
    "        tools = await session.list_tools()\n",
    "\n",
    "        # Convert MCP tools to DSPy tools\n",
    "        dspy_tools = []\n",
    "        for tool in tools.tools:\n",
    "            dspy_tools.append(dspy.Tool.from_mcp_tool(session, tool))\n",
    "\n",
    "        print(\"Tools\", dspy_tools)\n",
    "\n",
    "        react = dspy.ReAct(DataAnalyst, tools=dspy_tools)\n",
    "        result = await react.acall(user_request=\"What's the most popular Amazon product category\")\n",
    "        print(result)"
   ]
  }
 ],
 "metadata": {
  "kernelspec": {
   "display_name": "Python 3 (ipykernel)",
   "language": "python",
   "name": "python3"
  },
  "language_info": {
   "codemirror_mode": {
    "name": "ipython",
    "version": 3
   },
   "file_extension": ".py",
   "mimetype": "text/x-python",
   "name": "python",
   "nbconvert_exporter": "python",
   "pygments_lexer": "ipython3",
   "version": "3.11.11"
  }
 },
 "nbformat": 4,
 "nbformat_minor": 5
}

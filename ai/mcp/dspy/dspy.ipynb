{
 "cells": [
  {
   "cell_type": "markdown",
   "id": "aa06f8c3-e13f-4f03-97a0-8565699ae34a",
   "metadata": {
    "execution": {
     "iopub.execute_input": "2025-05-29T12:39:00.824020Z",
     "iopub.status.busy": "2025-05-29T12:39:00.823521Z",
     "iopub.status.idle": "2025-05-29T12:39:00.829370Z",
     "shell.execute_reply": "2025-05-29T12:39:00.828238Z",
     "shell.execute_reply.started": "2025-05-29T12:39:00.823981Z"
    }
   },
   "source": [
    "# How to build an AI Agent with DSPy and the ClickHouse MCP Server\n",
    "\n",
    "In this notebook we'll see how to build an [DSPy](https://dspy.ai/tutorials/mcp/) AI agent that can interact with [ClickHouse's SQL playground](https://sql.clickhouse.com/) using [ClickHouse's MCP Server](https://github.com/ClickHouse/mcp-clickhouse).\n"
   ]
  },
  {
   "cell_type": "markdown",
   "id": "1bf3a5a9-9d68-4591-aad1-7c8855a3cc8c",
   "metadata": {},
   "source": [
    "## Install libraries\n",
    "We need to install the DSPy library."
   ]
  },
  {
   "cell_type": "code",
   "execution_count": null,
   "id": "cb744032-3e34-4970-bcd2-96321009dd13",
   "metadata": {},
   "outputs": [],
   "source": [
    "!pip install -q --upgrade pip"
   ]
  },
  {
   "cell_type": "code",
   "execution_count": 1,
   "id": "96b3bbf6-68f3-4f6f-bf0b-5b7861748250",
   "metadata": {
    "execution": {
     "iopub.execute_input": "2025-05-30T10:21:53.672587Z",
     "iopub.status.busy": "2025-05-30T10:21:53.671984Z",
     "iopub.status.idle": "2025-05-30T10:22:03.048359Z",
     "shell.execute_reply": "2025-05-30T10:22:03.047759Z",
     "shell.execute_reply.started": "2025-05-30T10:21:53.672546Z"
    }
   },
   "outputs": [],
   "source": [
    "!pip install -q dspy\n",
    "!pip install -q mcp"
   ]
  },
  {
   "cell_type": "markdown",
   "id": "600ccc86-83c1-4b81-a105-4b031da79607",
   "metadata": {},
   "source": [
    "## Setup credentials\n",
    "Let's provide our Anthropic API key."
   ]
  },
  {
   "cell_type": "code",
   "execution_count": 3,
   "id": "7dd9d57e-448c-4ab2-a947-a461d76176b1",
   "metadata": {
    "execution": {
     "iopub.execute_input": "2025-06-04T11:29:23.331638Z",
     "iopub.status.busy": "2025-06-04T11:29:23.331110Z",
     "iopub.status.idle": "2025-06-04T11:29:23.335695Z",
     "shell.execute_reply": "2025-06-04T11:29:23.334806Z",
     "shell.execute_reply.started": "2025-06-04T11:29:23.331598Z"
    }
   },
   "outputs": [],
   "source": [
    "import os, getpass"
   ]
  },
  {
   "cell_type": "code",
   "execution_count": 4,
   "id": "06f52279-865d-4fef-92b7-d9743473f466",
   "metadata": {
    "execution": {
     "iopub.execute_input": "2025-06-04T11:29:24.683870Z",
     "iopub.status.busy": "2025-06-04T11:29:24.683030Z",
     "iopub.status.idle": "2025-06-04T11:29:25.671319Z",
     "shell.execute_reply": "2025-06-04T11:29:25.670606Z",
     "shell.execute_reply.started": "2025-06-04T11:29:24.683836Z"
    }
   },
   "outputs": [
    {
     "name": "stdin",
     "output_type": "stream",
     "text": [
      "Enter Anthropic API Key: ········\n"
     ]
    }
   ],
   "source": [
    "os.environ[\"ANTHROPIC_API_KEY\"] = getpass.getpass(\"Enter Anthropic API Key:\")"
   ]
  },
  {
   "cell_type": "markdown",
   "id": "4498c1b8-b762-45a1-9165-55957f2cecad",
   "metadata": {
    "execution": {
     "iopub.execute_input": "2025-05-29T14:29:32.100459Z",
     "iopub.status.busy": "2025-05-29T14:29:32.100270Z",
     "iopub.status.idle": "2025-05-29T14:29:32.103177Z",
     "shell.execute_reply": "2025-05-29T14:29:32.102622Z",
     "shell.execute_reply.started": "2025-05-29T14:29:32.100446Z"
    }
   },
   "source": [
    "We'll also define the credentials to connect to the ClickHouse SQL playground:"
   ]
  },
  {
   "cell_type": "code",
   "execution_count": 5,
   "id": "6845f3db-8f6a-41c3-bae9-6c4c1b6bde1e",
   "metadata": {
    "execution": {
     "iopub.execute_input": "2025-06-04T11:29:27.008325Z",
     "iopub.status.busy": "2025-06-04T11:29:27.007855Z",
     "iopub.status.idle": "2025-06-04T11:29:27.013616Z",
     "shell.execute_reply": "2025-06-04T11:29:27.012729Z",
     "shell.execute_reply.started": "2025-06-04T11:29:27.008299Z"
    }
   },
   "outputs": [],
   "source": [
    "env = {\n",
    "    \"CLICKHOUSE_HOST\": \"sql-clickhouse.clickhouse.com\",\n",
    "    \"CLICKHOUSE_PORT\": \"8443\",\n",
    "    \"CLICKHOUSE_USER\": \"demo\",\n",
    "    \"CLICKHOUSE_PASSWORD\": \"\",\n",
    "    \"CLICKHOUSE_SECURE\": \"true\"\n",
    "}"
   ]
  },
  {
   "cell_type": "markdown",
   "id": "bc2812b1-1ee9-4669-bfb1-ffabaeb3d597",
   "metadata": {},
   "source": [
    "## Initialize MCP Server\n",
    "\n",
    "Lets configure the ClickHouse MCP Server to point at the ClickHouse SQL playground."
   ]
  },
  {
   "cell_type": "code",
   "execution_count": 6,
   "id": "5b93d2b7-4191-4817-834b-2ac36a9668bf",
   "metadata": {
    "execution": {
     "iopub.execute_input": "2025-06-04T11:29:28.547245Z",
     "iopub.status.busy": "2025-06-04T11:29:28.546749Z",
     "iopub.status.idle": "2025-06-04T11:29:28.554035Z",
     "shell.execute_reply": "2025-06-04T11:29:28.553338Z",
     "shell.execute_reply.started": "2025-06-04T11:29:28.547210Z"
    }
   },
   "outputs": [],
   "source": [
    "from mcp import ClientSession, StdioServerParameters\n",
    "from mcp.client.stdio import stdio_client\n",
    "import dspy"
   ]
  },
  {
   "cell_type": "code",
   "execution_count": 15,
   "id": "dc8d0461-9fb2-425f-aaf7-b4130be2edac",
   "metadata": {
    "execution": {
     "iopub.execute_input": "2025-06-04T11:30:02.038886Z",
     "iopub.status.busy": "2025-06-04T11:30:02.038542Z",
     "iopub.status.idle": "2025-06-04T11:30:02.043396Z",
     "shell.execute_reply": "2025-06-04T11:30:02.042471Z",
     "shell.execute_reply.started": "2025-06-04T11:30:02.038864Z"
    }
   },
   "outputs": [],
   "source": [
    "server_params = StdioServerParameters(\n",
    "    command=\"uv\",\n",
    "    args=[\n",
    "        'run',\n",
    "        '--with', 'mcp-clickhouse',\n",
    "        '--python', '3.13',\n",
    "        'mcp-clickhouse'\n",
    "    ],\n",
    "    env=env\n",
    ")"
   ]
  },
  {
   "cell_type": "markdown",
   "id": "1ccd5149-7620-4f0a-8412-1bcd4fdab736",
   "metadata": {
    "execution": {
     "iopub.execute_input": "2025-05-30T09:32:49.150121Z",
     "iopub.status.busy": "2025-05-30T09:32:49.149048Z",
     "iopub.status.idle": "2025-05-30T09:32:49.156159Z",
     "shell.execute_reply": "2025-05-30T09:32:49.155106Z",
     "shell.execute_reply.started": "2025-05-30T09:32:49.149703Z"
    }
   },
   "source": [
    "## Initialize LLM\n",
    "Next, let's initialize our Claude Sonnet model"
   ]
  },
  {
   "cell_type": "code",
   "execution_count": 8,
   "id": "36c2ce73-4de7-41db-a72d-503c436afb6f",
   "metadata": {
    "execution": {
     "iopub.execute_input": "2025-06-04T11:29:32.612819Z",
     "iopub.status.busy": "2025-06-04T11:29:32.612628Z",
     "iopub.status.idle": "2025-06-04T11:29:32.615175Z",
     "shell.execute_reply": "2025-06-04T11:29:32.614672Z",
     "shell.execute_reply.started": "2025-06-04T11:29:32.612807Z"
    }
   },
   "outputs": [],
   "source": [
    "dspy.configure(lm=dspy.LM(\"anthropic/claude-sonnet-4-20250514\"))"
   ]
  },
  {
   "cell_type": "markdown",
   "id": "4bd60825-a974-418a-8df3-98951aa07b6f",
   "metadata": {},
   "source": [
    "## Run agent\n",
    "Finally, we'll initialize and run the agent:"
   ]
  },
  {
   "cell_type": "code",
   "execution_count": 10,
   "id": "743f667b-bae1-4706-b56c-a50690f27823",
   "metadata": {
    "execution": {
     "iopub.execute_input": "2025-06-04T11:29:40.015660Z",
     "iopub.status.busy": "2025-06-04T11:29:40.014728Z",
     "iopub.status.idle": "2025-06-04T11:29:40.021371Z",
     "shell.execute_reply": "2025-06-04T11:29:40.020697Z",
     "shell.execute_reply.started": "2025-06-04T11:29:40.015628Z"
    }
   },
   "outputs": [],
   "source": [
    "class DataAnalyst(dspy.Signature):\n",
    "    \"\"\"You are a data analyst. You'll be asked questions and you need to try to answer them using the tools you have access to. \"\"\"\n",
    "\n",
    "    user_request: str = dspy.InputField()\n",
    "    process_result: str = dspy.OutputField(\n",
    "        desc=(\n",
    "            \"Answer to the query\"\n",
    "        )\n",
    "    )"
   ]
  },
  {
   "cell_type": "code",
   "execution_count": 26,
   "id": "42ef6e18-efdd-48a1-8d19-fafaa2914599",
   "metadata": {
    "execution": {
     "iopub.execute_input": "2025-06-04T11:52:14.230093Z",
     "iopub.status.busy": "2025-06-04T11:52:14.229455Z",
     "iopub.status.idle": "2025-06-04T11:52:14.239406Z",
     "shell.execute_reply": "2025-06-04T11:52:14.238428Z",
     "shell.execute_reply.started": "2025-06-04T11:52:14.230058Z"
    }
   },
   "outputs": [],
   "source": [
    "from utils import print_dspy_result"
   ]
  },
  {
   "cell_type": "code",
   "execution_count": 27,
   "id": "91714f2c-e63a-496d-9f72-6b62513b805c",
   "metadata": {
    "execution": {
     "iopub.execute_input": "2025-06-04T11:52:19.998337Z",
     "iopub.status.busy": "2025-06-04T11:52:19.997839Z",
     "iopub.status.idle": "2025-06-04T11:52:24.151932Z",
     "shell.execute_reply": "2025-06-04T11:52:24.151224Z",
     "shell.execute_reply.started": "2025-06-04T11:52:19.998307Z"
    }
   },
   "outputs": [
    {
     "name": "stdout",
     "output_type": "stream",
     "text": [
      "================================================================================\n",
      "🤖 DSPy ReAct Result\n",
      "================================================================================\n",
      "\n",
      "📍 STEP 1\n",
      "----------------------------------------\n",
      "🧠 THINKING: I need to find information about Amazon product categories and determine which one is most popular. First, I should explore what databases are available to see if there's any Amazon-related data.\n",
      "\n",
      "🔧 TOOL: list_databases\n",
      "\n",
      "📊 RESULT:\n",
      "   amazon\n",
      "bluesky\n",
      "country\n",
      "covid\n",
      "default\n",
      "dns\n",
      "environmental\n",
      "food\n",
      "forex\n",
      "geo\n",
      "git\n",
      "github\n",
      "hackernews\n",
      "imdb\n",
      "logs\n",
      "metrica\n",
      "mgbench\n",
      "mta\n",
      "noaa\n",
      "nyc_taxi\n",
      "nypd\n",
      "ontime\n",
      "opensky\n",
      "otel\n",
      "otel_v2\n",
      "pypi\n",
      "random\n",
      "reddit\n",
      "rubygems\n",
      "sta...\n",
      "\n",
      "\n",
      "📍 STEP 2\n",
      "----------------------------------------\n",
      "🧠 THINKING: Great! I can see there's an \"amazon\" database available. This is exactly what I need to find information about Amazon product categories. Let me explore the tables in the amazon database to see what data is available.\n",
      "\n",
      "🔧 TOOL: list_tables\n",
      "   Args: {'database': 'amazon'}\n",
      "\n",
      "📊 RESULT:\n",
      "   {\n",
      "  \"database\": \"amazon\",\n",
      "  \"name\": \"amazon_reviews\",\n",
      "  \"comment\": \"\",\n",
      "  \"columns\": [\n",
      "    {\n",
      "      \"name\": \"review_date\",\n",
      "      \"type\": \"Date\",\n",
      "      \"default_type\": \"\",\n",
      "      \"default_expression\": \"\",...\n",
      "\n",
      "\n",
      "📍 STEP 3\n",
      "----------------------------------------\n",
      "🧠 THINKING: Perfect! I found the amazon_reviews table which contains a product_category column. This table has over 150 million rows of Amazon review data, which should give me a good representation of product popularity. To find the most popular Amazon product category, I need to count the number of reviews per category and order them by count in descending order. The category with the most reviews would be considered the most popular.\n",
      "\n",
      "🔧 TOOL: run_select_query\n",
      "   Args: {'query': 'SELECT product_category, COUNT(*) as review_count FROM amazon.amazon_reviews GROUP BY product_category ORDER BY review_count DESC LIMIT 10'}\n",
      "\n",
      "📊 RESULT:\n",
      "   1. Books: 19,530,930 reviews\n",
      "   2. Digital_Ebook_Purchase: 17,622,107 reviews\n",
      "   3. Wireless: 9,001,567 reviews\n",
      "   4. PC: 6,908,245 reviews\n",
      "   5. Home: 6,221,321 reviews\n",
      "   ... and 5 more\n",
      "\n",
      "\n",
      "📍 STEP 4\n",
      "----------------------------------------\n",
      "🧠 THINKING: Perfect! I have found the answer to the user's question. Based on the Amazon reviews data, I can clearly see that \"Books\" is the most popular Amazon product category with 19,530,930 reviews, followed by \"Digital_Ebook_Purchase\" with 17,622,107 reviews. The data shows a clear ranking of product categories by popularity based on the number of reviews each category has received. I now have all the information needed to answer the user's question.\n",
      "\n",
      "🔧 TOOL: finish\n",
      "\n",
      "📊 RESULT:\n",
      "   Completed.\n",
      "\n",
      "\n",
      "🎯 REASONING\n",
      "----------------------------------------\n",
      "To answer the question about the most popular Amazon product category, I accessed the Amazon database and found a table called \"amazon_reviews\" with over 150 million review records. This table contains a \"product_category\" column that allows me to analyze product popularity based on review volume. I ran a query to count the number of reviews per product category and ordered them by count in descending order. The assumption here is that categories with more reviews indicate higher popularity, as more reviews typically correlate with more purchases and customer engagement.\n",
      "\n",
      "\n",
      "✅ FINAL RESULT\n",
      "----------------------------------------\n",
      "Based on Amazon review data containing over 150 million records, the most popular Amazon product category is **Books** with 19,530,930 reviews. \n",
      "\n",
      "Here are the top 10 most popular Amazon product categories by review count:\n",
      "\n",
      "1. **Books** - 19,530,930 reviews\n",
      "2. **Digital_Ebook_Purchase** - 17,622,107 reviews  \n",
      "3. **Wireless** - 9,001,567 reviews\n",
      "4. **PC** - 6,908,245 reviews\n",
      "5. **Home** - 6,221,321 reviews\n",
      "6. **Apparel** - 5,906,085 reviews\n",
      "7. **Health & Personal Care** - 5,331,239 reviews\n",
      "8. **Beauty** - 5,115,462 reviews\n",
      "9. **Video DVD** - 5,069,014 reviews\n",
      "10. **Mobile_Apps** - 5,033,164 reviews\n",
      "\n",
      "It's interesting to note that Books and Digital Ebook Purchase (which are related categories) together account for over 37 million reviews, showing the strong popularity of reading materials on Amazon's platform.\n",
      "================================================================================\n"
     ]
    }
   ],
   "source": [
    "async with stdio_client(server_params) as (read, write):\n",
    "    async with ClientSession(read, write) as session:\n",
    "        await session.initialize()\n",
    "        tools = await session.list_tools()\n",
    "\n",
    "        dspy_tools = []\n",
    "        for tool in tools.tools:\n",
    "            dspy_tools.append(dspy.Tool.from_mcp_tool(session, tool))\n",
    "\n",
    "        react = dspy.ReAct(DataAnalyst, tools=dspy_tools)\n",
    "        result = await react.acall(user_request=\"What's the most popular Amazon product category\")\n",
    "        print_dspy_result(result)"
   ]
  }
 ],
 "metadata": {
  "kernelspec": {
   "display_name": "Python 3 (ipykernel)",
   "language": "python",
   "name": "python3"
  },
  "language_info": {
   "codemirror_mode": {
    "name": "ipython",
    "version": 3
   },
   "file_extension": ".py",
   "mimetype": "text/x-python",
   "name": "python",
   "nbconvert_exporter": "python",
   "pygments_lexer": "ipython3",
   "version": "3.12.0"
  }
 },
 "nbformat": 4,
 "nbformat_minor": 5
}

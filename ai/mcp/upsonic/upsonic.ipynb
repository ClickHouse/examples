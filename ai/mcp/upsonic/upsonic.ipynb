{
 "cells": [
  {
   "cell_type": "markdown",
   "id": "34bbaaa7-653e-4c9d-9d65-a69127b2e0b3",
   "metadata": {
    "execution": {
     "iopub.execute_input": "2025-10-07T13:50:11.282745Z",
     "iopub.status.busy": "2025-10-07T13:50:11.282053Z",
     "iopub.status.idle": "2025-10-07T13:50:11.288500Z",
     "shell.execute_reply": "2025-10-07T13:50:11.287445Z",
     "shell.execute_reply.started": "2025-10-07T13:50:11.282693Z"
    }
   },
   "source": [
    "# How to build an AI Agent with Upsonic and the ClickHouse MCP Server"
   ]
  },
  {
   "cell_type": "markdown",
   "id": "231e6f6c-a856-4d36-9f34-9c7889982f17",
   "metadata": {},
   "source": [
    "## Install libraries"
   ]
  },
  {
   "cell_type": "code",
   "execution_count": null,
   "id": "432a8938-a72d-4346-8f48-db62d0745662",
   "metadata": {},
   "outputs": [],
   "source": [
    "!pip install -q --upgrade pip"
   ]
  },
  {
   "cell_type": "code",
   "execution_count": null,
   "id": "77247dcf-623e-4f66-a5ec-41bd89da6272",
   "metadata": {},
   "outputs": [],
   "source": [
    "!pip install -q upsonic asyncpg aiosqlite"
   ]
  },
  {
   "cell_type": "markdown",
   "id": "407d4af1-ceeb-4726-902c-6f457b6aa85e",
   "metadata": {},
   "source": [
    "## Setup credentials\n",
    "Let's provide our OpenAI API key."
   ]
  },
  {
   "cell_type": "code",
   "execution_count": 9,
   "id": "103ba6a0-6f56-4010-8090-b4905304a555",
   "metadata": {
    "execution": {
     "iopub.execute_input": "2025-10-07T13:56:37.428783Z",
     "iopub.status.busy": "2025-10-07T13:56:37.428337Z",
     "iopub.status.idle": "2025-10-07T13:56:37.433080Z",
     "shell.execute_reply": "2025-10-07T13:56:37.431823Z",
     "shell.execute_reply.started": "2025-10-07T13:56:37.428746Z"
    }
   },
   "outputs": [],
   "source": [
    "import os, getpass"
   ]
  },
  {
   "cell_type": "code",
   "execution_count": 10,
   "id": "aa9790e6-d58c-4abf-b928-0ca48d94af05",
   "metadata": {
    "execution": {
     "iopub.execute_input": "2025-10-07T13:56:38.922478Z",
     "iopub.status.busy": "2025-10-07T13:56:38.921856Z",
     "iopub.status.idle": "2025-10-07T13:56:40.423342Z",
     "shell.execute_reply": "2025-10-07T13:56:40.422692Z",
     "shell.execute_reply.started": "2025-10-07T13:56:38.922435Z"
    }
   },
   "outputs": [
    {
     "name": "stdin",
     "output_type": "stream",
     "text": [
      "Enter OpenAI API Key: ········\n"
     ]
    }
   ],
   "source": [
    "os.environ[\"OPENAI_API_KEY\"] = getpass.getpass(\"Enter OpenAI API Key:\")"
   ]
  },
  {
   "cell_type": "markdown",
   "id": "9cc7f01c-e579-4a8e-b971-87ab503a68c8",
   "metadata": {},
   "source": [
    "## ClickHouse MCP Server"
   ]
  },
  {
   "cell_type": "code",
   "execution_count": 17,
   "id": "57e87d79-0e41-4f96-bbac-23f33e5638a0",
   "metadata": {
    "execution": {
     "iopub.execute_input": "2025-10-07T14:03:05.815003Z",
     "iopub.status.busy": "2025-10-07T14:03:05.814519Z",
     "iopub.status.idle": "2025-10-07T14:03:05.823047Z",
     "shell.execute_reply": "2025-10-07T14:03:05.821621Z",
     "shell.execute_reply.started": "2025-10-07T14:03:05.814976Z"
    }
   },
   "outputs": [],
   "source": [
    "class DatabaseMCP:\n",
    "    \"\"\"\n",
    "    MCP server for ClickHouse database operations.\n",
    "    Provides tools for querying tables and databases\n",
    "    \"\"\"\n",
    "    command=\"uv\"\n",
    "    args=[\n",
    "        \"run\",\n",
    "        \"--with\",\n",
    "        \"mcp-clickhouse\",\n",
    "        \"--python\",\n",
    "        \"3.10\",\n",
    "        \"mcp-clickhouse\"\n",
    "    ]\n",
    "    env={\n",
    "        \"CLICKHOUSE_HOST\": \"sql-clickhouse.clickhouse.com\",\n",
    "        \"CLICKHOUSE_PORT\": \"8443\",\n",
    "        \"CLICKHOUSE_USER\": \"demo\",\n",
    "        \"CLICKHOUSE_PASSWORD\": \"\",\n",
    "        \"CLICKHOUSE_SECURE\": \"true\",\n",
    "        \"CLICKHOUSE_VERIFY\": \"true\",\n",
    "        \"CLICKHOUSE_CONNECT_TIMEOUT\": \"30\",\n",
    "        \"CLICKHOUSE_SEND_RECEIVE_TIMEOUT\": \"30\"\n",
    "    }\n"
   ]
  },
  {
   "cell_type": "markdown",
   "id": "4ce163f9-abb9-4959-8f85-dbd8df6496ca",
   "metadata": {},
   "source": [
    "## Initialize agent and task"
   ]
  },
  {
   "cell_type": "code",
   "execution_count": 12,
   "id": "0663059e-9ad7-42de-908c-c292fee83c88",
   "metadata": {
    "execution": {
     "iopub.execute_input": "2025-10-07T13:57:14.773918Z",
     "iopub.status.busy": "2025-10-07T13:57:14.773366Z",
     "iopub.status.idle": "2025-10-07T13:57:45.579331Z",
     "shell.execute_reply": "2025-10-07T13:57:45.578956Z",
     "shell.execute_reply.started": "2025-10-07T13:57:14.773882Z"
    }
   },
   "outputs": [
    {
     "name": "stderr",
     "output_type": "stream",
     "text": [
      "/Users/markhneedham/.local/share/uv/python/cpython-3.12.0-macos-aarch64-none/lib/python3.12/site-packages/tqdm/auto.py:21: TqdmWarning: IProgress not found. Please update jupyter and ipywidgets. See https://ipywidgets.readthedocs.io/en/stable/user_install.html\n",
      "  from .autonotebook import tqdm as notebook_tqdm\n"
     ]
    }
   ],
   "source": [
    "from upsonic import Agent, Task"
   ]
  },
  {
   "cell_type": "code",
   "execution_count": 13,
   "id": "33844e36-f9a2-473d-b6a1-c40b6006fdcb",
   "metadata": {
    "execution": {
     "iopub.execute_input": "2025-10-07T13:57:45.580088Z",
     "iopub.status.busy": "2025-10-07T13:57:45.579881Z",
     "iopub.status.idle": "2025-10-07T13:57:45.581906Z",
     "shell.execute_reply": "2025-10-07T13:57:45.581606Z",
     "shell.execute_reply.started": "2025-10-07T13:57:45.580080Z"
    }
   },
   "outputs": [],
   "source": [
    "database_agent = Agent(\n",
    "    name=\"Data Analyst\",\n",
    "    role=\"ClickHouse specialist.\",\n",
    "    goal=\"Query ClickHouse database and tables and answer questions\",\n",
    "    model=\"openai/o3-mini\"\n",
    ")"
   ]
  },
  {
   "cell_type": "code",
   "execution_count": 18,
   "id": "c40b88b7-19e9-4f8e-9068-40505ce1faf7",
   "metadata": {
    "execution": {
     "iopub.execute_input": "2025-10-07T14:03:07.679497Z",
     "iopub.status.busy": "2025-10-07T14:03:07.678951Z",
     "iopub.status.idle": "2025-10-07T14:03:07.710048Z",
     "shell.execute_reply": "2025-10-07T14:03:07.709565Z",
     "shell.execute_reply.started": "2025-10-07T14:03:07.679463Z"
    }
   },
   "outputs": [],
   "source": [
    "task = Task(\n",
    "    description=\"Tell me what happened in the UK property market in the 2020s. Use ClickHouse to answer this question.\",\n",
    "    tools=[DatabaseMCP]\n",
    ")"
   ]
  },
  {
   "cell_type": "markdown",
   "id": "02db5361-1a5a-47bd-8937-64c6f22db21a",
   "metadata": {
    "execution": {
     "iopub.execute_input": "2025-10-07T13:57:11.599138Z",
     "iopub.status.busy": "2025-10-07T13:57:11.598469Z",
     "iopub.status.idle": "2025-10-07T13:57:11.608037Z",
     "shell.execute_reply": "2025-10-07T13:57:11.605942Z",
     "shell.execute_reply.started": "2025-10-07T13:57:11.599113Z"
    }
   },
   "source": [
    "## Run agent"
   ]
  },
  {
   "cell_type": "code",
   "execution_count": 19,
   "id": "fb2ce0e7-9568-4da2-a895-4e2366d18a6d",
   "metadata": {
    "execution": {
     "iopub.execute_input": "2025-10-07T14:04:30.879918Z",
     "iopub.status.busy": "2025-10-07T14:04:30.878870Z",
     "iopub.status.idle": "2025-10-07T14:05:10.034060Z",
     "shell.execute_reply": "2025-10-07T14:05:10.033691Z",
     "shell.execute_reply.started": "2025-10-07T14:04:30.879891Z"
    }
   },
   "outputs": [
    {
     "data": {
      "text/html": [
       "<pre style=\"white-space:pre;overflow-x:auto;line-height:normal;font-family:Menlo,'DejaVu Sans Mono',consolas,'Courier New',monospace\"><span style=\"color: #008000; text-decoration-color: #008000\">╭───────────────────────── </span><span style=\"color: #008000; text-decoration-color: #008000; font-weight: bold\">🤖 Agent Started</span><span style=\"color: #008000; text-decoration-color: #008000\"> ─────────────────────────╮</span>\n",
       "<span style=\"color: #008000; text-decoration-color: #008000\">│</span>  <span style=\"font-weight: bold\">Agent Status:</span>             <span style=\"color: #008000; text-decoration-color: #008000\">🚀 Started to work</span>                      <span style=\"color: #008000; text-decoration-color: #008000\">│</span>\n",
       "<span style=\"color: #008000; text-decoration-color: #008000\">│</span>  <span style=\"font-weight: bold\">Agent Name:</span>               <span style=\"color: #008080; text-decoration-color: #008080\">Data Analyst</span>                            <span style=\"color: #008000; text-decoration-color: #008000\">│</span>\n",
       "<span style=\"color: #008000; text-decoration-color: #008000\">╰────────────────────────────────────────────────────────────────────╯</span>\n",
       "</pre>\n"
      ],
      "text/plain": [
       "\u001b[32m╭─\u001b[0m\u001b[32m────────────────────────\u001b[0m\u001b[32m \u001b[0m\u001b[1;32m🤖 Agent Started\u001b[0m\u001b[32m \u001b[0m\u001b[32m────────────────────────\u001b[0m\u001b[32m─╮\u001b[0m\n",
       "\u001b[32m│\u001b[0m  \u001b[1mAgent Status:\u001b[0m             \u001b[32m🚀 Started to work\u001b[0m                      \u001b[32m│\u001b[0m\n",
       "\u001b[32m│\u001b[0m  \u001b[1mAgent Name:\u001b[0m               \u001b[36mData Analyst\u001b[0m                            \u001b[32m│\u001b[0m\n",
       "\u001b[32m╰────────────────────────────────────────────────────────────────────╯\u001b[0m\n"
      ]
     },
     "metadata": {},
     "output_type": "display_data"
    },
    {
     "data": {
      "text/html": [
       "<pre style=\"white-space:pre;overflow-x:auto;line-height:normal;font-family:Menlo,'DejaVu Sans Mono',consolas,'Courier New',monospace\">\n",
       "</pre>\n"
      ],
      "text/plain": [
       "\n"
      ]
     },
     "metadata": {},
     "output_type": "display_data"
    },
    {
     "name": "stderr",
     "output_type": "stream",
     "text": [
      "Task exception was never retrieved\n",
      "future: <Task finished name='Task-54' coro=<AsyncClient.aclose() done, defined at /Users/markhneedham/.cache/uv/archive-v0/3LtP5Av0JJE9Y2Ao_exK0/lib/python3.12/site-packages/httpx/_client.py:1978> exception=RuntimeError('Event loop is closed')>\n",
      "Traceback (most recent call last):\n",
      "  File \"/Users/markhneedham/.cache/uv/archive-v0/3LtP5Av0JJE9Y2Ao_exK0/lib/python3.12/site-packages/httpx/_client.py\", line 1985, in aclose\n",
      "    await self._transport.aclose()\n",
      "  File \"/Users/markhneedham/.cache/uv/archive-v0/3LtP5Av0JJE9Y2Ao_exK0/lib/python3.12/site-packages/httpx/_transports/default.py\", line 406, in aclose\n",
      "    await self._pool.aclose()\n",
      "  File \"/Users/markhneedham/.cache/uv/archive-v0/3LtP5Av0JJE9Y2Ao_exK0/lib/python3.12/site-packages/httpcore/_async/connection_pool.py\", line 353, in aclose\n",
      "    await self._close_connections(closing_connections)\n",
      "  File \"/Users/markhneedham/.cache/uv/archive-v0/3LtP5Av0JJE9Y2Ao_exK0/lib/python3.12/site-packages/httpcore/_async/connection_pool.py\", line 345, in _close_connections\n",
      "    await connection.aclose()\n",
      "  File \"/Users/markhneedham/.cache/uv/archive-v0/3LtP5Av0JJE9Y2Ao_exK0/lib/python3.12/site-packages/httpcore/_async/connection.py\", line 173, in aclose\n",
      "    await self._connection.aclose()\n",
      "  File \"/Users/markhneedham/.cache/uv/archive-v0/3LtP5Av0JJE9Y2Ao_exK0/lib/python3.12/site-packages/httpcore/_async/http11.py\", line 258, in aclose\n",
      "    await self._network_stream.aclose()\n",
      "  File \"/Users/markhneedham/.cache/uv/archive-v0/3LtP5Av0JJE9Y2Ao_exK0/lib/python3.12/site-packages/httpcore/_backends/anyio.py\", line 53, in aclose\n",
      "    await self._stream.aclose()\n",
      "  File \"/Users/markhneedham/.cache/uv/archive-v0/3LtP5Av0JJE9Y2Ao_exK0/lib/python3.12/site-packages/anyio/streams/tls.py\", line 234, in aclose\n",
      "    await self.transport_stream.aclose()\n",
      "  File \"/Users/markhneedham/.cache/uv/archive-v0/3LtP5Av0JJE9Y2Ao_exK0/lib/python3.12/site-packages/anyio/_backends/_asyncio.py\", line 1323, in aclose\n",
      "    self._transport.close()\n",
      "  File \"/Users/markhneedham/.local/share/uv/python/cpython-3.12.0-macos-aarch64-none/lib/python3.12/asyncio/selector_events.py\", line 1206, in close\n",
      "    super().close()\n",
      "  File \"/Users/markhneedham/.local/share/uv/python/cpython-3.12.0-macos-aarch64-none/lib/python3.12/asyncio/selector_events.py\", line 871, in close\n",
      "    self._loop.call_soon(self._call_connection_lost, None)\n",
      "  File \"/Users/markhneedham/.local/share/uv/python/cpython-3.12.0-macos-aarch64-none/lib/python3.12/asyncio/base_events.py\", line 772, in call_soon\n",
      "    self._check_closed()\n",
      "  File \"/Users/markhneedham/.local/share/uv/python/cpython-3.12.0-macos-aarch64-none/lib/python3.12/asyncio/base_events.py\", line 519, in _check_closed\n",
      "    raise RuntimeError('Event loop is closed')\n",
      "RuntimeError: Event loop is closed\n"
     ]
    },
    {
     "data": {
      "text/html": [
       "<pre style=\"white-space:pre;overflow-x:auto;line-height:normal;font-family:Menlo,'DejaVu Sans Mono',consolas,'Courier New',monospace\"><span style=\"color: #008080; text-decoration-color: #008080\">╭─────────────────── </span><span style=\"color: #008080; text-decoration-color: #008080; font-weight: bold\">Tool Usage Summary (4 tools)</span><span style=\"color: #008080; text-decoration-color: #008080\"> ───────────────────╮</span>\n",
       "<span style=\"color: #008080; text-decoration-color: #008080\">│</span> <span style=\"font-weight: bold\"> Tool Name         Parameters           Result              </span>       <span style=\"color: #008080; text-decoration-color: #008080\">│</span>\n",
       "<span style=\"color: #008080; text-decoration-color: #008080\">│</span>  <span style=\"color: #008080; text-decoration-color: #008080\">list_databases</span>    <span style=\"color: #808000; text-decoration-color: #808000\">{}</span>                   <span style=\"color: #008000; text-decoration-color: #008000\">['amazon', </span>                <span style=\"color: #008080; text-decoration-color: #008080\">│</span>\n",
       "<span style=\"color: #008080; text-decoration-color: #008080\">│</span>                                         <span style=\"color: #008000; text-decoration-color: #008000\">'bluesky', </span>                <span style=\"color: #008080; text-decoration-color: #008080\">│</span>\n",
       "<span style=\"color: #008080; text-decoration-color: #008080\">│</span>                                         <span style=\"color: #008000; text-decoration-color: #008000\">'country', 'covid',</span>        <span style=\"color: #008080; text-decoration-color: #008080\">│</span>\n",
       "<span style=\"color: #008080; text-decoration-color: #008080\">│</span>                                         <span style=\"color: #008000; text-decoration-color: #008000\">'defa...</span>                   <span style=\"color: #008080; text-decoration-color: #008080\">│</span>\n",
       "<span style=\"color: #008080; text-decoration-color: #008080\">│</span>  <span style=\"color: #008080; text-decoration-color: #008080\">list_tables</span>       <span style=\"color: #808000; text-decoration-color: #808000\">{\"database\": \"uk\", </span>  <span style=\"color: #008000; text-decoration-color: #008000\">[]</span>                         <span style=\"color: #008080; text-decoration-color: #008080\">│</span>\n",
       "<span style=\"color: #008080; text-decoration-color: #008080\">│</span>                    <span style=\"color: #808000; text-decoration-color: #808000\">\"like\": \"property\"}</span>                             <span style=\"color: #008080; text-decoration-color: #008080\">│</span>\n",
       "<span style=\"color: #008080; text-decoration-color: #008080\">│</span>  <span style=\"color: #008080; text-decoration-color: #008080\">list_tables</span>       <span style=\"color: #808000; text-decoration-color: #808000\">{\"database\": \"uk\"}</span>   <span style=\"color: #008000; text-decoration-color: #008000\">[{'database': 'uk',</span>        <span style=\"color: #008080; text-decoration-color: #008080\">│</span>\n",
       "<span style=\"color: #008080; text-decoration-color: #008080\">│</span>                                         <span style=\"color: #008000; text-decoration-color: #008000\">'name': 'uk_codes',</span>        <span style=\"color: #008080; text-decoration-color: #008080\">│</span>\n",
       "<span style=\"color: #008080; text-decoration-color: #008080\">│</span>                                         <span style=\"color: #008000; text-decoration-color: #008000\">'engine...</span>                 <span style=\"color: #008080; text-decoration-color: #008080\">│</span>\n",
       "<span style=\"color: #008080; text-decoration-color: #008080\">│</span>  <span style=\"color: #008080; text-decoration-color: #008080\">run_select_query</span>  <span style=\"color: #808000; text-decoration-color: #808000\">{\"query\": \"SELECT </span>   <span style=\"color: #008000; text-decoration-color: #008000\">{'columns': </span>               <span style=\"color: #008080; text-decoration-color: #008080\">│</span>\n",
       "<span style=\"color: #008080; text-decoration-color: #008080\">│</span>                    <span style=\"color: #808000; text-decoration-color: #808000\">toYear(date) AS </span>     <span style=\"color: #008000; text-decoration-color: #008000\">['year', </span>                  <span style=\"color: #008080; text-decoration-color: #008080\">│</span>\n",
       "<span style=\"color: #008080; text-decoration-color: #008080\">│</span>                    <span style=\"color: #808000; text-decoration-color: #808000\">year, count()...</span>     <span style=\"color: #008000; text-decoration-color: #008000\">'num_transactions',</span>        <span style=\"color: #008080; text-decoration-color: #008080\">│</span>\n",
       "<span style=\"color: #008080; text-decoration-color: #008080\">│</span>                                         <span style=\"color: #008000; text-decoration-color: #008000\">'avg_p...</span>                  <span style=\"color: #008080; text-decoration-color: #008080\">│</span>\n",
       "<span style=\"color: #008080; text-decoration-color: #008080\">╰────────────────────────────────────────────────────────────────────╯</span>\n",
       "</pre>\n"
      ],
      "text/plain": [
       "\u001b[36m╭─\u001b[0m\u001b[36m──────────────────\u001b[0m\u001b[36m \u001b[0m\u001b[1;36mTool Usage Summary (4 tools)\u001b[0m\u001b[36m \u001b[0m\u001b[36m──────────────────\u001b[0m\u001b[36m─╮\u001b[0m\n",
       "\u001b[36m│\u001b[0m \u001b[1m \u001b[0m\u001b[1mTool Name\u001b[0m\u001b[1m       \u001b[0m\u001b[1m \u001b[0m\u001b[1m \u001b[0m\u001b[1mParameters\u001b[0m\u001b[1m         \u001b[0m\u001b[1m \u001b[0m\u001b[1m \u001b[0m\u001b[1mResult\u001b[0m\u001b[1m             \u001b[0m\u001b[1m \u001b[0m       \u001b[36m│\u001b[0m\n",
       "\u001b[36m│\u001b[0m  \u001b[36mlist_databases\u001b[0m    \u001b[33m{}\u001b[0m                   \u001b[32m['amazon', \u001b[0m                \u001b[36m│\u001b[0m\n",
       "\u001b[36m│\u001b[0m                                         \u001b[32m'bluesky', \u001b[0m                \u001b[36m│\u001b[0m\n",
       "\u001b[36m│\u001b[0m                                         \u001b[32m'country', 'covid',\u001b[0m        \u001b[36m│\u001b[0m\n",
       "\u001b[36m│\u001b[0m                                         \u001b[32m'defa...\u001b[0m                   \u001b[36m│\u001b[0m\n",
       "\u001b[36m│\u001b[0m  \u001b[36mlist_tables\u001b[0m       \u001b[33m{\"database\": \"uk\", \u001b[0m  \u001b[32m[]\u001b[0m                         \u001b[36m│\u001b[0m\n",
       "\u001b[36m│\u001b[0m                    \u001b[33m\"like\": \"property\"}\u001b[0m                             \u001b[36m│\u001b[0m\n",
       "\u001b[36m│\u001b[0m  \u001b[36mlist_tables\u001b[0m       \u001b[33m{\"database\": \"uk\"}\u001b[0m   \u001b[32m[{'database': 'uk',\u001b[0m        \u001b[36m│\u001b[0m\n",
       "\u001b[36m│\u001b[0m                                         \u001b[32m'name': 'uk_codes',\u001b[0m        \u001b[36m│\u001b[0m\n",
       "\u001b[36m│\u001b[0m                                         \u001b[32m'engine...\u001b[0m                 \u001b[36m│\u001b[0m\n",
       "\u001b[36m│\u001b[0m  \u001b[36mrun_select_query\u001b[0m  \u001b[33m{\"query\": \"SELECT \u001b[0m   \u001b[32m{'columns': \u001b[0m               \u001b[36m│\u001b[0m\n",
       "\u001b[36m│\u001b[0m                    \u001b[33mtoYear(date) AS \u001b[0m     \u001b[32m['year', \u001b[0m                  \u001b[36m│\u001b[0m\n",
       "\u001b[36m│\u001b[0m                    \u001b[33myear, count()...\u001b[0m     \u001b[32m'num_transactions',\u001b[0m        \u001b[36m│\u001b[0m\n",
       "\u001b[36m│\u001b[0m                                         \u001b[32m'avg_p...\u001b[0m                  \u001b[36m│\u001b[0m\n",
       "\u001b[36m╰────────────────────────────────────────────────────────────────────╯\u001b[0m\n"
      ]
     },
     "metadata": {},
     "output_type": "display_data"
    },
    {
     "data": {
      "text/html": [
       "<pre style=\"white-space:pre;overflow-x:auto;line-height:normal;font-family:Menlo,'DejaVu Sans Mono',consolas,'Courier New',monospace\">\n",
       "</pre>\n"
      ],
      "text/plain": [
       "\n"
      ]
     },
     "metadata": {},
     "output_type": "display_data"
    },
    {
     "data": {
      "text/html": [
       "<pre style=\"white-space:pre;overflow-x:auto;line-height:normal;font-family:Menlo,'DejaVu Sans Mono',consolas,'Courier New',monospace\"><span style=\"color: #c0c0c0; text-decoration-color: #c0c0c0\">╭─────────────────────────── </span><span style=\"color: #c0c0c0; text-decoration-color: #c0c0c0; font-weight: bold\">Task Result</span><span style=\"color: #c0c0c0; text-decoration-color: #c0c0c0\"> ────────────────────────────╮</span>\n",
       "<span style=\"color: #c0c0c0; text-decoration-color: #c0c0c0\">│</span>  <span style=\"font-weight: bold\">Result:</span>  <span style=\"color: #008000; text-decoration-color: #008000\">Based on data from the uk_price_paid table for </span>          <span style=\"color: #c0c0c0; text-decoration-color: #c0c0c0\">│</span>\n",
       "<span style=\"color: #c0c0c0; text-decoration-color: #c0c0c0\">│</span>           <span style=\"color: #008000; text-decoration-color: #008000\">the period starting January 2020, here are some </span>         <span style=\"color: #c0c0c0; text-decoration-color: #c0c0c0\">│</span>\n",
       "<span style=\"color: #c0c0c0; text-decoration-color: #c0c0c0\">│</span>           <span style=\"color: #008000; text-decoration-color: #008000\">key observations:</span>                                        <span style=\"color: #c0c0c0; text-decoration-color: #c0c0c0\">│</span>\n",
       "<span style=\"color: #c0c0c0; text-decoration-color: #c0c0c0\">│</span>                                                                    <span style=\"color: #c0c0c0; text-decoration-color: #c0c0c0\">│</span>\n",
       "<span style=\"color: #c0c0c0; text-decoration-color: #c0c0c0\">│</span>           <span style=\"color: #008000; text-decoration-color: #008000\">• In 2020 there were about 896K transactions with</span>        <span style=\"color: #c0c0c0; text-decoration-color: #c0c0c0\">│</span>\n",
       "<span style=\"color: #c0c0c0; text-decoration-color: #c0c0c0\">│</span>           <span style=\"color: #008000; text-decoration-color: #008000\">an average sale price of around £377K.  </span>                 <span style=\"color: #c0c0c0; text-decoration-color: #c0c0c0\">│</span>\n",
       "<span style=\"color: #c0c0c0; text-decoration-color: #c0c0c0\">│</span>           <span style=\"color: #008000; text-decoration-color: #008000\">• In 2021 the market activity picked up to </span>              <span style=\"color: #c0c0c0; text-decoration-color: #c0c0c0\">│</span>\n",
       "<span style=\"color: #c0c0c0; text-decoration-color: #c0c0c0\">│</span>           <span style=\"color: #008000; text-decoration-color: #008000\">roughly 1.28M transactions and the average price </span>        <span style=\"color: #c0c0c0; text-decoration-color: #c0c0c0\">│</span>\n",
       "<span style=\"color: #c0c0c0; text-decoration-color: #c0c0c0\">│</span>           <span style=\"color: #008000; text-decoration-color: #008000\">increased to about £389K. Notably, some </span>                 <span style=\"color: #c0c0c0; text-decoration-color: #c0c0c0\">│</span>\n",
       "<span style=\"color: #c0c0c0; text-decoration-color: #c0c0c0\">│</span>           <span style=\"color: #008000; text-decoration-color: #008000\">properties fetched very high pric[bold </span>                  <span style=\"color: #c0c0c0; text-decoration-color: #c0c0c0\">│</span>\n",
       "<span style=\"color: #c0c0c0; text-decoration-color: #c0c0c0\">│</span>           <span style=\"color: #008000; text-decoration-color: #008000\">white]...[/bold white]</span>                                   <span style=\"color: #c0c0c0; text-decoration-color: #c0c0c0\">│</span>\n",
       "<span style=\"color: #c0c0c0; text-decoration-color: #c0c0c0\">╰────────────────────────────────────────────────────────────────────╯</span>\n",
       "</pre>\n"
      ],
      "text/plain": [
       "\u001b[37m╭─\u001b[0m\u001b[37m──────────────────────────\u001b[0m\u001b[37m \u001b[0m\u001b[1;37mTask Result\u001b[0m\u001b[37m \u001b[0m\u001b[37m───────────────────────────\u001b[0m\u001b[37m─╮\u001b[0m\n",
       "\u001b[37m│\u001b[0m  \u001b[1mResult:\u001b[0m  \u001b[32mBased on data from the uk_price_paid table for \u001b[0m          \u001b[37m│\u001b[0m\n",
       "\u001b[37m│\u001b[0m           \u001b[32mthe period starting January 2020, here are some \u001b[0m         \u001b[37m│\u001b[0m\n",
       "\u001b[37m│\u001b[0m           \u001b[32mkey observations:\u001b[0m                                        \u001b[37m│\u001b[0m\n",
       "\u001b[37m│\u001b[0m                                                                    \u001b[37m│\u001b[0m\n",
       "\u001b[37m│\u001b[0m           \u001b[32m• In 2020 there were about 896K transactions with\u001b[0m        \u001b[37m│\u001b[0m\n",
       "\u001b[37m│\u001b[0m           \u001b[32man average sale price of around £377K.  \u001b[0m                 \u001b[37m│\u001b[0m\n",
       "\u001b[37m│\u001b[0m           \u001b[32m• In 2021 the market activity picked up to \u001b[0m              \u001b[37m│\u001b[0m\n",
       "\u001b[37m│\u001b[0m           \u001b[32mroughly 1.28M transactions and the average price \u001b[0m        \u001b[37m│\u001b[0m\n",
       "\u001b[37m│\u001b[0m           \u001b[32mincreased to about £389K. Notably, some \u001b[0m                 \u001b[37m│\u001b[0m\n",
       "\u001b[37m│\u001b[0m           \u001b[32mproperties fetched very high pric[bold \u001b[0m                  \u001b[37m│\u001b[0m\n",
       "\u001b[37m│\u001b[0m           \u001b[32mwhite]...[/bold white]\u001b[0m                                   \u001b[37m│\u001b[0m\n",
       "\u001b[37m╰────────────────────────────────────────────────────────────────────╯\u001b[0m\n"
      ]
     },
     "metadata": {},
     "output_type": "display_data"
    },
    {
     "data": {
      "text/html": [
       "<pre style=\"white-space:pre;overflow-x:auto;line-height:normal;font-family:Menlo,'DejaVu Sans Mono',consolas,'Courier New',monospace\">\n",
       "</pre>\n"
      ],
      "text/plain": [
       "\n"
      ]
     },
     "metadata": {},
     "output_type": "display_data"
    },
    {
     "data": {
      "text/html": [
       "<pre style=\"white-space:pre;overflow-x:auto;line-height:normal;font-family:Menlo,'DejaVu Sans Mono',consolas,'Courier New',monospace\"><span style=\"color: #800080; text-decoration-color: #800080\">╭─────────────────────────── </span><span style=\"color: #800080; text-decoration-color: #800080; font-weight: bold\">Task Metrics</span><span style=\"color: #800080; text-decoration-color: #800080\"> ───────────────────────────╮</span>\n",
       "<span style=\"color: #800080; text-decoration-color: #800080\">│</span>  <span style=\"font-weight: bold\">Price ID:</span>              <span style=\"color: #800080; text-decoration-color: #800080\">468cfbf2-4fd4-4ecc-b3f4-3311eb327f…</span>        <span style=\"color: #800080; text-decoration-color: #800080\">│</span>\n",
       "<span style=\"color: #800080; text-decoration-color: #800080\">│</span>                                                                    <span style=\"color: #800080; text-decoration-color: #800080\">│</span>\n",
       "<span style=\"color: #800080; text-decoration-color: #800080\">│</span>  <span style=\"font-weight: bold\">Input Tokens:</span>          <span style=\"color: #800080; text-decoration-color: #800080\">13,774</span>                                     <span style=\"color: #800080; text-decoration-color: #800080\">│</span>\n",
       "<span style=\"color: #800080; text-decoration-color: #800080\">│</span>  <span style=\"font-weight: bold\">Output Tokens:</span>         <span style=\"color: #800080; text-decoration-color: #800080\">2,032</span>                                      <span style=\"color: #800080; text-decoration-color: #800080\">│</span>\n",
       "<span style=\"color: #800080; text-decoration-color: #800080\">│</span>  <span style=\"font-weight: bold\">Total Estimated Cost:</span>  <span style=\"color: #800080; text-decoration-color: #800080\">$0.0241</span>                                    <span style=\"color: #800080; text-decoration-color: #800080\">│</span>\n",
       "<span style=\"color: #800080; text-decoration-color: #800080\">│</span>  <span style=\"font-weight: bold\">Time Taken:</span>            <span style=\"color: #800080; text-decoration-color: #800080\">39.11 seconds</span>                              <span style=\"color: #800080; text-decoration-color: #800080\">│</span>\n",
       "<span style=\"color: #800080; text-decoration-color: #800080\">╰────────────────────────────────────────────────────────────────────╯</span>\n",
       "</pre>\n"
      ],
      "text/plain": [
       "\u001b[35m╭─\u001b[0m\u001b[35m──────────────────────────\u001b[0m\u001b[35m \u001b[0m\u001b[1;35mTask Metrics\u001b[0m\u001b[35m \u001b[0m\u001b[35m──────────────────────────\u001b[0m\u001b[35m─╮\u001b[0m\n",
       "\u001b[35m│\u001b[0m  \u001b[1mPrice ID:\u001b[0m              \u001b[35m468cfbf2-4fd4-4ecc-b3f4-3311eb327f…\u001b[0m        \u001b[35m│\u001b[0m\n",
       "\u001b[35m│\u001b[0m                                                                    \u001b[35m│\u001b[0m\n",
       "\u001b[35m│\u001b[0m  \u001b[1mInput Tokens:\u001b[0m          \u001b[35m13,774\u001b[0m                                     \u001b[35m│\u001b[0m\n",
       "\u001b[35m│\u001b[0m  \u001b[1mOutput Tokens:\u001b[0m         \u001b[35m2,032\u001b[0m                                      \u001b[35m│\u001b[0m\n",
       "\u001b[35m│\u001b[0m  \u001b[1mTotal Estimated Cost:\u001b[0m  \u001b[35m$0.0241\u001b[0m                                    \u001b[35m│\u001b[0m\n",
       "\u001b[35m│\u001b[0m  \u001b[1mTime Taken:\u001b[0m            \u001b[35m39.11 seconds\u001b[0m                              \u001b[35m│\u001b[0m\n",
       "\u001b[35m╰────────────────────────────────────────────────────────────────────╯\u001b[0m\n"
      ]
     },
     "metadata": {},
     "output_type": "display_data"
    },
    {
     "data": {
      "text/html": [
       "<pre style=\"white-space:pre;overflow-x:auto;line-height:normal;font-family:Menlo,'DejaVu Sans Mono',consolas,'Courier New',monospace\">\n",
       "</pre>\n"
      ],
      "text/plain": [
       "\n"
      ]
     },
     "metadata": {},
     "output_type": "display_data"
    },
    {
     "name": "stdout",
     "output_type": "stream",
     "text": [
      "\n",
      "MCP Workflow Result:\n",
      "Based on data from the uk_price_paid table for the period starting January 2020, here are some key observations:\n",
      "\n",
      "• In 2020 there were about 896K transactions with an average sale price of around £377K.  \n",
      "• In 2021 the market activity picked up to roughly 1.28M transactions and the average price increased to about £389K. Notably, some properties fetched very high prices – the maximum reached around £900M.  \n",
      "• In 2022, the average price further increased to approximately £414K with over 1.07M transactions, although the top-end price dropped to about £480M from the previous year’s peak.  \n",
      "• For 2023, the transaction volume decreased to around 855K and the average price dropped to nearly £405K; the maximum price also fell further to roughly £268M.  \n",
      "• In 2024, while the transactions stayed at about 860K, the average price declined to about £391K with the highest price seen being around £164M.  \n",
      "• In 2025, there was a sharper decline in volume (around 377K transactions) with the average price coming in at about £362K, and the maximum price falling to approximately £128M.\n",
      "\n",
      "These figures suggest that the UK property market in the early 2020s experienced an initial period of strong activity and rising prices (with some very high-end outliers in 2021), followed by a cooling-off phase with reduced transaction volumes and declining average and maximum sale prices in the later years. Essentially, the market appeared to peak in the early part of the decade and then normalized in subsequent years.\n",
      "\n",
      "If you need further analysis or more granular details (for instance, breakdowns by property type or geographic region), please let me know!\n"
     ]
    }
   ],
   "source": [
    "# Execute the workflow\n",
    "workflow_result = database_agent.do(task)\n",
    "print(\"\\nMCP Workflow Result:\")\n",
    "print(workflow_result)"
   ]
  }
 ],
 "metadata": {
  "kernelspec": {
   "display_name": "Python 3 (ipykernel)",
   "language": "python",
   "name": "python3"
  },
  "language_info": {
   "codemirror_mode": {
    "name": "ipython",
    "version": 3
   },
   "file_extension": ".py",
   "mimetype": "text/x-python",
   "name": "python",
   "nbconvert_exporter": "python",
   "pygments_lexer": "ipython3",
   "version": "3.12.0"
  }
 },
 "nbformat": 4,
 "nbformat_minor": 5
}

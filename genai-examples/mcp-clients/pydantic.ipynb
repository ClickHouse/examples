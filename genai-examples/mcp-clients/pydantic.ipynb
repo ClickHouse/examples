{
 "cells": [
  {
   "cell_type": "markdown",
   "id": "aa06f8c3-e13f-4f03-97a0-8565699ae34a",
   "metadata": {
    "execution": {
     "iopub.execute_input": "2025-05-29T12:39:00.824020Z",
     "iopub.status.busy": "2025-05-29T12:39:00.823521Z",
     "iopub.status.idle": "2025-05-29T12:39:00.829370Z",
     "shell.execute_reply": "2025-05-29T12:39:00.828238Z",
     "shell.execute_reply.started": "2025-05-29T12:39:00.823981Z"
    }
   },
   "source": [
    "# How to build an AI Agent with PydanticAI and the ClickHouse MCP Server\n",
    "\n",
    "In this notebook we'll see how to build an [PydanticAI](https://ai.pydantic.dev/mcp/client/#__tabbed_1_1) AI agent that can interact with [ClickHouse's SQL playground](https://sql.clickhouse.com/) using [ClickHouse's MCP Server](https://github.com/ClickHouse/mcp-clickhouse).\n"
   ]
  },
  {
   "cell_type": "markdown",
   "id": "1bf3a5a9-9d68-4591-aad1-7c8855a3cc8c",
   "metadata": {},
   "source": [
    "## Install libraries\n",
    "We need to install the Agno library."
   ]
  },
  {
   "cell_type": "code",
   "execution_count": null,
   "id": "cb744032-3e34-4970-bcd2-96321009dd13",
   "metadata": {},
   "outputs": [],
   "source": [
    "!pip install -q --upgrade pip"
   ]
  },
  {
   "cell_type": "code",
   "execution_count": 38,
   "id": "96b3bbf6-68f3-4f6f-bf0b-5b7861748250",
   "metadata": {
    "execution": {
     "iopub.execute_input": "2025-05-29T15:57:33.379279Z",
     "iopub.status.busy": "2025-05-29T15:57:33.379108Z",
     "iopub.status.idle": "2025-05-29T15:57:38.122056Z",
     "shell.execute_reply": "2025-05-29T15:57:38.121572Z",
     "shell.execute_reply.started": "2025-05-29T15:57:33.379270Z"
    }
   },
   "outputs": [],
   "source": [
    "!pip install -q \"pydantic-ai-slim[mcp]\"\n",
    "!pip install -q \"pydantic-ai-slim[anthropic]\""
   ]
  },
  {
   "cell_type": "markdown",
   "id": "600ccc86-83c1-4b81-a105-4b031da79607",
   "metadata": {},
   "source": [
    "## Setup credentials\n",
    "Let's provide our Anthropic API key."
   ]
  },
  {
   "cell_type": "code",
   "execution_count": 2,
   "id": "7dd9d57e-448c-4ab2-a947-a461d76176b1",
   "metadata": {
    "execution": {
     "iopub.execute_input": "2025-05-29T17:06:40.473686Z",
     "iopub.status.busy": "2025-05-29T17:06:40.473539Z",
     "iopub.status.idle": "2025-05-29T17:06:40.475724Z",
     "shell.execute_reply": "2025-05-29T17:06:40.475346Z",
     "shell.execute_reply.started": "2025-05-29T17:06:40.473675Z"
    }
   },
   "outputs": [],
   "source": [
    "import os, getpass"
   ]
  },
  {
   "cell_type": "code",
   "execution_count": 3,
   "id": "06f52279-865d-4fef-92b7-d9743473f466",
   "metadata": {
    "execution": {
     "iopub.execute_input": "2025-05-29T17:06:41.906033Z",
     "iopub.status.busy": "2025-05-29T17:06:41.905662Z",
     "iopub.status.idle": "2025-05-29T17:06:43.112949Z",
     "shell.execute_reply": "2025-05-29T17:06:43.112321Z",
     "shell.execute_reply.started": "2025-05-29T17:06:41.906006Z"
    }
   },
   "outputs": [
    {
     "name": "stdout",
     "output_type": "stream",
     "text": [
      "Enter Anthropic API Key: ········\n"
     ]
    }
   ],
   "source": [
    "os.environ[\"ANTHROPIC_API_KEY\"] = getpass.getpass(\"Enter Anthropic API Key:\")"
   ]
  },
  {
   "cell_type": "markdown",
   "id": "4498c1b8-b762-45a1-9165-55957f2cecad",
   "metadata": {
    "execution": {
     "iopub.execute_input": "2025-05-29T14:29:32.100459Z",
     "iopub.status.busy": "2025-05-29T14:29:32.100270Z",
     "iopub.status.idle": "2025-05-29T14:29:32.103177Z",
     "shell.execute_reply": "2025-05-29T14:29:32.102622Z",
     "shell.execute_reply.started": "2025-05-29T14:29:32.100446Z"
    }
   },
   "source": [
    "We'll also define the credentials to connect to the ClickHouse SQL playground:"
   ]
  },
  {
   "cell_type": "code",
   "execution_count": null,
   "id": "6845f3db-8f6a-41c3-bae9-6c4c1b6bde1e",
   "metadata": {
    "execution": {
     "iopub.execute_input": "2025-05-29T17:06:44.343947Z",
     "iopub.status.busy": "2025-05-29T17:06:44.343652Z",
     "iopub.status.idle": "2025-05-29T17:06:44.347040Z",
     "shell.execute_reply": "2025-05-29T17:06:44.346510Z",
     "shell.execute_reply.started": "2025-05-29T17:06:44.343925Z"
    }
   },
   "outputs": [],
   "source": [
    "env = {\n",
    "    \"CLICKHOUSE_HOST\": \"sql-clickhouse.clickhouse.com\",\n",
    "    \"CLICKHOUSE_PORT\": \"8443\",\n",
    "    \"CLICKHOUSE_USER\": \"demo\",\n",
    "    \"CLICKHOUSE_PASSWORD\": \"\",\n",
    "    \"CLICKHOUSE_SECURE\": \"true\"\n",
    "}"
   ]
  },
  {
   "cell_type": "markdown",
   "id": "bc2812b1-1ee9-4669-bfb1-ffabaeb3d597",
   "metadata": {},
   "source": [
    "## Initialize MCP Server and PydanticAI agent\n",
    "\n",
    "Lets configure the ClickHouse MCP Server to point at the ClickHouse SQL playground and also initialize our PydanticAI agent and ask it a question:"
   ]
  },
  {
   "cell_type": "code",
   "execution_count": 5,
   "id": "6ab464b7-2449-4c95-b3d7-353944fa33bb",
   "metadata": {
    "execution": {
     "iopub.execute_input": "2025-05-29T17:06:45.673406Z",
     "iopub.status.busy": "2025-05-29T17:06:45.673108Z",
     "iopub.status.idle": "2025-05-29T17:06:45.959530Z",
     "shell.execute_reply": "2025-05-29T17:06:45.959258Z",
     "shell.execute_reply.started": "2025-05-29T17:06:45.673385Z"
    }
   },
   "outputs": [],
   "source": [
    "from pydantic_ai import Agent\n",
    "from pydantic_ai.mcp import MCPServerStdio\n",
    "from pydantic_ai.messages import ToolCallPart, ToolReturnPart"
   ]
  },
  {
   "cell_type": "code",
   "execution_count": 6,
   "id": "9950e8a8-86ca-4fcb-9295-637ec66764dc",
   "metadata": {
    "execution": {
     "iopub.execute_input": "2025-05-29T17:06:46.957315Z",
     "iopub.status.busy": "2025-05-29T17:06:46.956801Z",
     "iopub.status.idle": "2025-05-29T17:06:47.108841Z",
     "shell.execute_reply": "2025-05-29T17:06:47.108526Z",
     "shell.execute_reply.started": "2025-05-29T17:06:46.957292Z"
    }
   },
   "outputs": [],
   "source": [
    "server = MCPServerStdio(  \n",
    "    'uv',\n",
    "    args=[\n",
    "        'run',\n",
    "        '--with', 'mcp-clickhouse',\n",
    "        '--python', '3.13',\n",
    "        'mcp-clickhouse'\n",
    "    ],\n",
    "    env=env\n",
    ")\n",
    "agent = Agent('anthropic:claude-sonnet-4-0', mcp_servers=[server])"
   ]
  },
  {
   "cell_type": "markdown",
   "id": "b8fbb7c8-ecc0-4d6b-9f4f-6b3c435442ca",
   "metadata": {},
   "source": [
    "## Ask the agent a question\n",
    "\n",
    "And now let's ask the agent a question:"
   ]
  },
  {
   "cell_type": "code",
   "execution_count": 45,
   "id": "3d56cb4e-d7b5-406d-929b-f965ef61bd7e",
   "metadata": {
    "execution": {
     "iopub.execute_input": "2025-05-29T16:03:29.523689Z",
     "iopub.status.busy": "2025-05-29T16:03:29.523509Z",
     "iopub.status.idle": "2025-05-29T16:04:33.606208Z",
     "shell.execute_reply": "2025-05-29T16:04:33.605930Z",
     "shell.execute_reply.started": "2025-05-29T16:03:29.523675Z"
    },
    "scrolled": true
   },
   "outputs": [
    {
     "name": "stdout",
     "output_type": "stream",
     "text": [
      "Based on the data from the ClickHouse GitHub repository, here are the top contributors by number of pull requests created:\n",
      "\n",
      "**Top contributors to ClickHouse by PRs opened:**\n",
      "\n",
      "1. **alexey-milovidov** - 3,370 PRs opened\n",
      "2. **azat** - 1,905 PRs opened  \n",
      "3. **rschu1ze** - 979 PRs opened\n",
      "4. **alesapin** - 947 PRs opened\n",
      "5. **tavplubix** - 896 PRs opened\n",
      "6. **kssenii** - 871 PRs opened\n",
      "7. **Avogar** - 805 PRs opened\n",
      "8. **KochetovNicolai** - 700 PRs opened\n",
      "9. **Algunenano** - 658 PRs opened\n",
      "10. **kitaisreal** - 630 PRs opened\n",
      "\n",
      "**Alexey Milovidov** stands out as by far the most active contributor with over 3,370 pull requests opened, which is significantly more than any other contributor. This makes sense as Alexey Milovidov is one of the founders and lead developers of ClickHouse.\n",
      "\n",
      "The data also shows that alexey-milovidov has been very active in managing PRs, with 12,818 \"closed\" events (likely reviewing and closing PRs from other contributors) in addition to creating his own PRs.\n",
      "\n",
      "It's worth noting that I filtered out various robot/bot accounts that handle automated processes, focusing on human contributors to give you the most meaningful answer about who has contributed the most PRs to ClickHouse.\n"
     ]
    }
   ],
   "source": [
    "async with agent.run_mcp_servers():\n",
    "    result = await agent.run(\"Who's done the most PRs for ClickHouse?\")\n",
    "    print(result.output)"
   ]
  }
 ],
 "metadata": {
  "kernelspec": {
   "display_name": "Python 3 (ipykernel)",
   "language": "python",
   "name": "python3"
  },
  "language_info": {
   "codemirror_mode": {
    "name": "ipython",
    "version": 3
   },
   "file_extension": ".py",
   "mimetype": "text/x-python",
   "name": "python",
   "nbconvert_exporter": "python",
   "pygments_lexer": "ipython3",
   "version": "3.11.11"
  }
 },
 "nbformat": 4,
 "nbformat_minor": 5
}
